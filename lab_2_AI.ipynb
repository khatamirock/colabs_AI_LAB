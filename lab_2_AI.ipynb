{
  "nbformat": 4,
  "nbformat_minor": 0,
  "metadata": {
    "colab": {
      "provenance": [],
      "authorship_tag": "ABX9TyOJznhZ/rEM0k/IILiETrgK",
      "include_colab_link": true
    },
    "kernelspec": {
      "name": "python3",
      "display_name": "Python 3"
    },
    "language_info": {
      "name": "python"
    }
  },
  "cells": [
    {
      "cell_type": "markdown",
      "metadata": {
        "id": "view-in-github",
        "colab_type": "text"
      },
      "source": [
        "<a href=\"https://colab.research.google.com/github/khatamirock/colabs_AI_LAB/blob/main/lab_2_AI.ipynb\" target=\"_parent\"><img src=\"https://colab.research.google.com/assets/colab-badge.svg\" alt=\"Open In Colab\"/></a>"
      ]
    },
    {
      "cell_type": "code",
      "source": [
        "import random\n"
      ],
      "metadata": {
        "id": "UoR9A9rsDBFK"
      },
      "execution_count": 44,
      "outputs": []
    },
    {
      "cell_type": "code",
      "execution_count": 67,
      "metadata": {
        "id": "OmJQ3y9NCqeJ"
      },
      "outputs": [],
      "source": [
        "ar=[2,4,10,12,3,20,30,11,25]\n",
        "m1,m2=3,4\n",
        "# random.choice(ar),random.choice(ar)\n"
      ]
    },
    {
      "cell_type": "code",
      "source": [
        "\n",
        "ii=0\n",
        "while(ii<6):\n",
        "  cluster= [[],[]]\n",
        "  ii+=1\n",
        "  prev1,prev2=cluster[0].copy,cluster[1].copy\n",
        "  for a in ar:\n",
        "    if abs(m1-a)<abs(m2-a):\n",
        "      cluster[0].append(a)\n",
        "\n",
        "    else:\n",
        "      cluster[1].append(a)\n",
        "  if prev1==cluster[0] and prev2==cluster[1]:\n",
        "    \n",
        "    break\n",
        "\n",
        "  m1=sum(cluster[0])/len(cluster[0])\n",
        "  m2=sum(cluster[1])/len(cluster[1])\n",
        "  print(m1,m2,cluster)\n",
        "\n",
        "\n",
        "\n",
        "\n"
      ],
      "metadata": {
        "colab": {
          "base_uri": "https://localhost:8080/"
        },
        "id": "_9sZ_kCbC_mb",
        "outputId": "1998b318-608c-42ed-bb78-5f97d4d05815"
      },
      "execution_count": 68,
      "outputs": [
        {
          "output_type": "stream",
          "name": "stdout",
          "text": [
            "2.5 16.0 [[2, 3], [4, 10, 12, 20, 30, 11, 25]]\n",
            "3.0 18.0 [[2, 4, 3], [10, 12, 20, 30, 11, 25]]\n",
            "4.75 19.6 [[2, 4, 10, 3], [12, 20, 30, 11, 25]]\n",
            "7.0 25.0 [[2, 4, 10, 12, 3, 11], [20, 30, 25]]\n",
            "7.0 25.0 [[2, 4, 10, 12, 3, 11], [20, 30, 25]]\n",
            "7.0 25.0 [[2, 4, 10, 12, 3, 11], [20, 30, 25]]\n"
          ]
        }
      ]
    }
  ]
}