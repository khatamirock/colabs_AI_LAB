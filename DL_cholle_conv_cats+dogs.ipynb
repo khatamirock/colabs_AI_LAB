{
  "cells": [
    {
      "cell_type": "markdown",
      "metadata": {
        "id": "view-in-github",
        "colab_type": "text"
      },
      "source": [
        "<a href=\"https://colab.research.google.com/github/khatamirock/colabs_AI_LAB/blob/main/DL_cholle_conv_cats%2Bdogs.ipynb\" target=\"_parent\"><img src=\"https://colab.research.google.com/assets/colab-badge.svg\" alt=\"Open In Colab\"/></a>"
      ]
    },
    {
      "cell_type": "markdown",
      "metadata": {
        "id": "5Iye9Q-wg3Vh"
      },
      "source": [
        "## download from KAGGLE....\n",
        "### **upload kaggle.json file first ** "
      ]
    },
    {
      "cell_type": "code",
      "execution_count": 1,
      "metadata": {
        "id": "xCA9T1Fab8Cf"
      },
      "outputs": [],
      "source": [
        "!pip install -q kaggle\n",
        "# from google.colab import files\n",
        "# files.upload()"
      ]
    },
    {
      "cell_type": "code",
      "execution_count": 2,
      "metadata": {
        "colab": {
          "base_uri": "https://localhost:8080/"
        },
        "id": "bMN2JbYCeqOj",
        "outputId": "6993e12d-a636-412e-893b-efffcfd9b441"
      },
      "outputs": [
        {
          "output_type": "stream",
          "name": "stdout",
          "text": [
            "Downloading dogs-cats-images.zip to /content\n",
            " 99% 430M/435M [00:12<00:00, 41.3MB/s]\n",
            "100% 435M/435M [00:12<00:00, 37.7MB/s]\n"
          ]
        }
      ],
      "source": [
        "!mkdir ~/.kaggle\n",
        "!cp kaggle.json ~/.kaggle/\n",
        "!chmod 600 ~/.kaggle/kaggle.json\n",
        "!kaggle datasets download -d chetankv/dogs-cats-images"
      ]
    },
    {
      "cell_type": "code",
      "execution_count": 3,
      "metadata": {
        "id": "6UxfvgBAbYOF"
      },
      "outputs": [],
      "source": [
        "!unzip -qq /content/dogs-cats-images.zip"
      ]
    },
    {
      "cell_type": "markdown",
      "metadata": {
        "id": "EJ_PerqyhAz1"
      },
      "source": [
        "# CODE!!"
      ]
    },
    {
      "cell_type": "code",
      "execution_count": 4,
      "metadata": {
        "id": "vNa1z1VFhC6g"
      },
      "outputs": [],
      "source": [
        "import pathlib\n",
        "import os, shutil, pathlib\n",
        "\n",
        "\n",
        "original_dir = pathlib.Path(\"dataset/training_set\") \n",
        "new_base_dir = pathlib.Path(\"cats_vs_dogs_small\")\n",
        "\n",
        "def make_subset(subset_name, start_index, end_index): \n",
        "  for category in (\"cat\", \"dog\"):\n",
        "    if category=='cat':\n",
        "      cat='cats'\n",
        "    else:cat='dogs'\n",
        "    dir = new_base_dir / subset_name / category\n",
        "    print(dir)\n",
        "    os.makedirs(dir,exist_ok=True)\n",
        "    fnames = [f\"{category}.{i}.jpg\" for i in range(start_index, end_index)]\n",
        "    for fname in fnames:\n",
        "      shutil.copyfile(src=original_dir/cat/ fname,dst=dir / fname)\n",
        "    "
      ]
    },
    {
      "cell_type": "code",
      "execution_count": 5,
      "metadata": {
        "colab": {
          "base_uri": "https://localhost:8080/"
        },
        "id": "B6iNj6D_B8BJ",
        "outputId": "753b67cf-ceb1-4773-848b-f6e09a1651ce"
      },
      "outputs": [
        {
          "output_type": "stream",
          "name": "stdout",
          "text": [
            "cats_vs_dogs_small/train/cat\n",
            "cats_vs_dogs_small/train/dog\n",
            "cats_vs_dogs_small/validation/cat\n",
            "cats_vs_dogs_small/validation/dog\n",
            "cats_vs_dogs_small/test/cat\n",
            "cats_vs_dogs_small/test/dog\n"
          ]
        }
      ],
      "source": [
        "make_subset(\"train\", start_index=1, end_index=1000)\n",
        "make_subset(\"validation\", start_index=1000, end_index=1500) \n",
        "make_subset(\"test\", start_index=1500, end_index=2500)"
      ]
    },
    {
      "cell_type": "code",
      "execution_count": 6,
      "metadata": {
        "colab": {
          "base_uri": "https://localhost:8080/"
        },
        "id": "CM6afYS6DS6a",
        "outputId": "b0c86f0f-a7c3-44a4-b8db-43af68c6759d"
      },
      "outputs": [
        {
          "output_type": "stream",
          "name": "stdout",
          "text": [
            "Model: \"model\"\n",
            "_________________________________________________________________\n",
            " Layer (type)                Output Shape              Param #   \n",
            "=================================================================\n",
            " input_1 (InputLayer)        [(None, 180, 180, 3)]     0         \n",
            "                                                                 \n",
            " rescaling (Rescaling)       (None, 180, 180, 3)       0         \n",
            "                                                                 \n",
            " conv2d (Conv2D)             (None, 178, 178, 32)      896       \n",
            "                                                                 \n",
            " max_pooling2d (MaxPooling2D  (None, 89, 89, 32)       0         \n",
            " )                                                               \n",
            "                                                                 \n",
            " conv2d_1 (Conv2D)           (None, 87, 87, 64)        18496     \n",
            "                                                                 \n",
            " max_pooling2d_1 (MaxPooling  (None, 43, 43, 64)       0         \n",
            " 2D)                                                             \n",
            "                                                                 \n",
            " conv2d_2 (Conv2D)           (None, 41, 41, 128)       73856     \n",
            "                                                                 \n",
            " max_pooling2d_2 (MaxPooling  (None, 20, 20, 128)      0         \n",
            " 2D)                                                             \n",
            "                                                                 \n",
            " conv2d_3 (Conv2D)           (None, 18, 18, 256)       295168    \n",
            "                                                                 \n",
            " max_pooling2d_3 (MaxPooling  (None, 9, 9, 256)        0         \n",
            " 2D)                                                             \n",
            "                                                                 \n",
            " conv2d_4 (Conv2D)           (None, 7, 7, 256)         590080    \n",
            "                                                                 \n",
            " flatten (Flatten)           (None, 12544)             0         \n",
            "                                                                 \n",
            " dense (Dense)               (None, 1)                 12545     \n",
            "                                                                 \n",
            "=================================================================\n",
            "Total params: 991,041\n",
            "Trainable params: 991,041\n",
            "Non-trainable params: 0\n",
            "_________________________________________________________________\n"
          ]
        }
      ],
      "source": [
        "from tensorflow import keras \n",
        "from tensorflow.keras import layers\n",
        "\n",
        "\n",
        "inputs = keras.Input(shape=(180, 180, 3)) \n",
        "x = layers.Rescaling(1./255)(inputs) \n",
        "x = layers.Conv2D(filters=32, kernel_size=3, activation=\"relu\")(x)\n",
        "x = layers.MaxPooling2D(pool_size=2)(x)\n",
        "x = layers.Conv2D(filters=64, kernel_size=3, activation=\"relu\")(x)\n",
        "x = layers.MaxPooling2D(pool_size=2)(x)\n",
        "x = layers.Conv2D(filters=128, kernel_size=3, activation=\"relu\")(x)\n",
        "x = layers.MaxPooling2D(pool_size=2)(x)\n",
        "x = layers.Conv2D(filters=256, kernel_size=3, activation=\"relu\")(x)\n",
        "x = layers.MaxPooling2D(pool_size=2)(x)\n",
        "x = layers.Conv2D(filters=256, kernel_size=3, activation=\"relu\")(x)\n",
        "x = layers.Flatten()(x)\n",
        "outputs = layers.Dense(1, activation=\"sigmoid\")(x)\n",
        "model = keras.Model(inputs=inputs, outputs=outputs)\n",
        "\n",
        "model.summary()\n",
        "\n",
        "\n",
        "model.compile(loss=\"binary_crossentropy\",\n",
        " optimizer=\"rmsprop\",\n",
        " metrics=[\"accuracy\"])\n",
        "\n",
        "\n"
      ]
    },
    {
      "cell_type": "code",
      "execution_count": 7,
      "metadata": {
        "colab": {
          "base_uri": "https://localhost:8080/"
        },
        "id": "rirZ7jpqLGY7",
        "outputId": "a820d874-9301-4993-cc56-f2dd3018fb02"
      },
      "outputs": [
        {
          "output_type": "stream",
          "name": "stdout",
          "text": [
            "Found 1998 files belonging to 2 classes.\n",
            "Found 1000 files belonging to 2 classes.\n",
            "Found 2000 files belonging to 2 classes.\n"
          ]
        }
      ],
      "source": [
        "from tensorflow.keras.utils import image_dataset_from_directory\n",
        "\n",
        "train_dataset = image_dataset_from_directory(\n",
        " new_base_dir / \"train\",\n",
        " image_size=(180, 180),\n",
        " batch_size=32)\n",
        "validation_dataset = image_dataset_from_directory(\n",
        " new_base_dir / \"validation\",\n",
        " image_size=(180, 180),\n",
        " batch_size=32)\n",
        "test_dataset = image_dataset_from_directory(\n",
        " new_base_dir / \"test\",\n",
        " image_size=(180, 180),\n",
        " batch_size=32)"
      ]
    },
    {
      "cell_type": "code",
      "execution_count": 8,
      "metadata": {
        "id": "JNijRYe6Mg5z"
      },
      "outputs": [],
      "source": [
        "import numpy as np \n",
        "import tensorflow as tf\n",
        "random_numbers = np.random.normal(size=(10, 6))\n",
        "dataset = tf.data.Dataset.from_tensor_slices(random_numbers)\n",
        "# batch_dat=dataset.batch(3) #this makes a group of the input size!!!"
      ]
    },
    {
      "cell_type": "code",
      "execution_count": null,
      "metadata": {
        "id": "V-6aI-e7Miur"
      },
      "outputs": [],
      "source": [
        "len(dataset),len(dataset.batch(5))\n"
      ]
    },
    {
      "cell_type": "code",
      "execution_count": null,
      "metadata": {
        "id": "MLtAUX28PP1J"
      },
      "outputs": [],
      "source": [
        "reshaped_dataset = dataset.map(lambda x: print(x)  )\n",
        "# len(dataset),len(reshaped_dataset)\n",
        "\n"
      ]
    },
    {
      "cell_type": "code",
      "execution_count": null,
      "metadata": {
        "colab": {
          "base_uri": "https://localhost:8080/"
        },
        "id": "b81FKWyUts3b",
        "outputId": "033f1835-03f4-49f2-c32f-34578cd69ada"
      },
      "outputs": [
        {
          "name": "stdout",
          "output_type": "stream",
          "text": [
            "data batch shape: (32, 180, 180, 3)\n",
            "labels batch shape: tf.Tensor([1 1 1 0 1 0 1 1 1 0 0 0 0 1 0 1 0 1 0 0 0 1 0 1 1 0 1 1 1 1 1 0], shape=(32,), dtype=int32) (32,)\n"
          ]
        }
      ],
      "source": [
        "for data_batch, labels_batch in train_dataset:\n",
        "  # print(\"data batch shape:\", data_batch.shape)\n",
        "  print(\"labels batch shape:\",labels_batch, labels_batch.shape)\n",
        "  break"
      ]
    },
    {
      "cell_type": "code",
      "execution_count": 9,
      "metadata": {
        "id": "B9lCVdDCtsxD"
      },
      "outputs": [],
      "source": [
        "callbacks = [\n",
        " keras.callbacks.ModelCheckpoint(\n",
        " filepath=\"convnet_from_scratch.keras\",\n",
        " save_best_only=True,\n",
        " monitor=\"val_loss\")\n",
        "]"
      ]
    },
    {
      "cell_type": "code",
      "execution_count": 10,
      "metadata": {
        "colab": {
          "base_uri": "https://localhost:8080/"
        },
        "id": "2Y6ntgIUv7of",
        "outputId": "cba5a4de-9ca3-4952-84ba-c407d121cdaf"
      },
      "outputs": [
        {
          "output_type": "stream",
          "name": "stdout",
          "text": [
            "Epoch 1/30\n",
            "63/63 [==============================] - 18s 93ms/step - loss: 0.7021 - accuracy: 0.5255 - val_loss: 0.6908 - val_accuracy: 0.5070\n",
            "Epoch 2/30\n",
            "63/63 [==============================] - 4s 62ms/step - loss: 0.6959 - accuracy: 0.5120 - val_loss: 0.6883 - val_accuracy: 0.6090\n",
            "Epoch 3/30\n",
            "63/63 [==============================] - 5s 77ms/step - loss: 0.6785 - accuracy: 0.5766 - val_loss: 0.6636 - val_accuracy: 0.5640\n",
            "Epoch 4/30\n",
            "63/63 [==============================] - 5s 68ms/step - loss: 0.6491 - accuracy: 0.6266 - val_loss: 0.6496 - val_accuracy: 0.6090\n",
            "Epoch 5/30\n",
            "63/63 [==============================] - 5s 78ms/step - loss: 0.6183 - accuracy: 0.6552 - val_loss: 0.6715 - val_accuracy: 0.5850\n",
            "Epoch 6/30\n",
            "63/63 [==============================] - 4s 59ms/step - loss: 0.5869 - accuracy: 0.6852 - val_loss: 0.8396 - val_accuracy: 0.6240\n",
            "Epoch 7/30\n",
            "63/63 [==============================] - 5s 82ms/step - loss: 0.5540 - accuracy: 0.7182 - val_loss: 0.5776 - val_accuracy: 0.6990\n",
            "Epoch 8/30\n",
            "63/63 [==============================] - 4s 61ms/step - loss: 0.5339 - accuracy: 0.7352 - val_loss: 0.5766 - val_accuracy: 0.7140\n",
            "Epoch 9/30\n",
            "63/63 [==============================] - 4s 64ms/step - loss: 0.4819 - accuracy: 0.7628 - val_loss: 0.6376 - val_accuracy: 0.6890\n",
            "Epoch 10/30\n",
            "63/63 [==============================] - 5s 73ms/step - loss: 0.4444 - accuracy: 0.7848 - val_loss: 0.7141 - val_accuracy: 0.6670\n",
            "Epoch 11/30\n",
            "63/63 [==============================] - 4s 61ms/step - loss: 0.4066 - accuracy: 0.8068 - val_loss: 0.6221 - val_accuracy: 0.7040\n",
            "Epoch 12/30\n",
            "63/63 [==============================] - 6s 84ms/step - loss: 0.3549 - accuracy: 0.8368 - val_loss: 0.6885 - val_accuracy: 0.6970\n",
            "Epoch 13/30\n",
            "63/63 [==============================] - 4s 61ms/step - loss: 0.3000 - accuracy: 0.8769 - val_loss: 0.8079 - val_accuracy: 0.6950\n",
            "Epoch 14/30\n",
            "63/63 [==============================] - 5s 69ms/step - loss: 0.2653 - accuracy: 0.8939 - val_loss: 0.7614 - val_accuracy: 0.7080\n",
            "Epoch 15/30\n",
            "63/63 [==============================] - 5s 80ms/step - loss: 0.2124 - accuracy: 0.9099 - val_loss: 0.8965 - val_accuracy: 0.6940\n",
            "Epoch 16/30\n",
            "63/63 [==============================] - 4s 65ms/step - loss: 0.1917 - accuracy: 0.9284 - val_loss: 1.0617 - val_accuracy: 0.7290\n",
            "Epoch 17/30\n",
            "63/63 [==============================] - 4s 59ms/step - loss: 0.1520 - accuracy: 0.9369 - val_loss: 0.9830 - val_accuracy: 0.7190\n",
            "Epoch 18/30\n",
            "63/63 [==============================] - 5s 74ms/step - loss: 0.1144 - accuracy: 0.9570 - val_loss: 1.0025 - val_accuracy: 0.7210\n",
            "Epoch 19/30\n",
            "63/63 [==============================] - 4s 63ms/step - loss: 0.0882 - accuracy: 0.9640 - val_loss: 1.1418 - val_accuracy: 0.7420\n",
            "Epoch 20/30\n",
            "63/63 [==============================] - 4s 64ms/step - loss: 0.0759 - accuracy: 0.9765 - val_loss: 1.5535 - val_accuracy: 0.7210\n",
            "Epoch 21/30\n",
            "63/63 [==============================] - 5s 68ms/step - loss: 0.0876 - accuracy: 0.9720 - val_loss: 1.5842 - val_accuracy: 0.7120\n",
            "Epoch 22/30\n",
            "63/63 [==============================] - 4s 59ms/step - loss: 0.0643 - accuracy: 0.9810 - val_loss: 1.5854 - val_accuracy: 0.7330\n",
            "Epoch 23/30\n",
            "63/63 [==============================] - 5s 77ms/step - loss: 0.0688 - accuracy: 0.9740 - val_loss: 1.5174 - val_accuracy: 0.7270\n",
            "Epoch 24/30\n",
            "63/63 [==============================] - 4s 60ms/step - loss: 0.0585 - accuracy: 0.9840 - val_loss: 2.0500 - val_accuracy: 0.7300\n",
            "Epoch 25/30\n",
            "63/63 [==============================] - 4s 61ms/step - loss: 0.0474 - accuracy: 0.9825 - val_loss: 1.7133 - val_accuracy: 0.7370\n",
            "Epoch 26/30\n",
            "63/63 [==============================] - 5s 74ms/step - loss: 0.0616 - accuracy: 0.9810 - val_loss: 3.0518 - val_accuracy: 0.6610\n",
            "Epoch 27/30\n",
            "63/63 [==============================] - 4s 61ms/step - loss: 0.0681 - accuracy: 0.9770 - val_loss: 1.8140 - val_accuracy: 0.7350\n",
            "Epoch 28/30\n",
            "63/63 [==============================] - 4s 68ms/step - loss: 0.0490 - accuracy: 0.9875 - val_loss: 1.8230 - val_accuracy: 0.7350\n",
            "Epoch 29/30\n",
            "63/63 [==============================] - 5s 65ms/step - loss: 0.0443 - accuracy: 0.9845 - val_loss: 1.7572 - val_accuracy: 0.7290\n",
            "Epoch 30/30\n",
            "63/63 [==============================] - 4s 62ms/step - loss: 0.0184 - accuracy: 0.9945 - val_loss: 1.9941 - val_accuracy: 0.7230\n"
          ]
        }
      ],
      "source": [
        "history = model.fit(\n",
        " train_dataset,\n",
        " epochs=30,\n",
        " validation_data=validation_dataset,\n",
        " callbacks=callbacks)"
      ]
    },
    {
      "cell_type": "code",
      "source": [
        "import matplotlib.pyploy as plt\n",
        "accuracy=history.history['accuracy']\n",
        "val_accuracy=history.history['val_accuracy']\n",
        "\n",
        "loss=history.history['loss'\n",
        "val_loss=history.history['val_loss']\n",
        "\n",
        "\n",
        "\n"
      ],
      "metadata": {
        "id": "s62dLz8GxpUY"
      },
      "execution_count": null,
      "outputs": []
    }
  ],
  "metadata": {
    "accelerator": "GPU",
    "colab": {
      "collapsed_sections": [
        "5Iye9Q-wg3Vh"
      ],
      "provenance": [],
      "authorship_tag": "ABX9TyNsPhcdISdBkyQPHhBNDs0G",
      "include_colab_link": true
    },
    "gpuClass": "standard",
    "kernelspec": {
      "display_name": "Python 3",
      "name": "python3"
    },
    "language_info": {
      "name": "python"
    }
  },
  "nbformat": 4,
  "nbformat_minor": 0
}