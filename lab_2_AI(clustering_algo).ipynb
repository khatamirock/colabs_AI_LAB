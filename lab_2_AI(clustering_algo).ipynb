{
  "nbformat": 4,
  "nbformat_minor": 0,
  "metadata": {
    "colab": {
      "provenance": [],
      "toc_visible": true,
      "include_colab_link": true
    },
    "kernelspec": {
      "name": "python3",
      "display_name": "Python 3"
    },
    "language_info": {
      "name": "python"
    }
  },
  "cells": [
    {
      "cell_type": "markdown",
      "metadata": {
        "id": "view-in-github",
        "colab_type": "text"
      },
      "source": [
        "<a href=\"https://colab.research.google.com/github/khatamirock/colabs_AI_LAB/blob/main/lab_2_AI(clustering_algo).ipynb\" target=\"_parent\"><img src=\"https://colab.research.google.com/assets/colab-badge.svg\" alt=\"Open In Colab\"/></a>"
      ]
    },
    {
      "cell_type": "markdown",
      "source": [
        "# V1"
      ],
      "metadata": {
        "id": "xk4nMK8n9Rcg"
      }
    },
    {
      "cell_type": "code",
      "source": [
        "import random\n"
      ],
      "metadata": {
        "id": "UoR9A9rsDBFK"
      },
      "execution_count": null,
      "outputs": []
    },
    {
      "cell_type": "code",
      "execution_count": null,
      "metadata": {
        "id": "OmJQ3y9NCqeJ"
      },
      "outputs": [],
      "source": [
        "ar=[2,4,10,12,3,20,30,11,25]\n",
        "m1,m2=3,4\n",
        "# random.choice(ar),random.choice(ar)\n"
      ]
    },
    {
      "cell_type": "code",
      "source": [
        "\n",
        "ii=0\n",
        "cluster= [[],[]]\n",
        "while(ii<10):\n",
        "  \n",
        "  ii+=1\n",
        "  prev1,prev2=cluster[0][:],cluster[1][:]\n",
        "  for a in ar:\n",
        "    if abs(m1-a)<abs(m2-a):\n",
        "      cluster[0].append(a)\n",
        "\n",
        "    else:\n",
        "      cluster[1].append(a)\n",
        "  if prev1==cluster[0] and prev2==cluster[1]:\n",
        "    \n",
        "    break\n",
        "\n",
        "  m1=sum(cluster[0])/len(cluster[0])\n",
        "  m2=sum(cluster[1])/len(cluster[1])\n",
        "  print(m1,m2,cluster,prev1,prev2)\n",
        "  cluster= [[],[]]\n",
        "\n",
        "\n",
        "\n",
        "\n"
      ],
      "metadata": {
        "colab": {
          "base_uri": "https://localhost:8080/"
        },
        "id": "_9sZ_kCbC_mb",
        "outputId": "e9805ff0-6974-474f-8d99-116706eb08cf"
      },
      "execution_count": null,
      "outputs": [
        {
          "output_type": "stream",
          "name": "stdout",
          "text": [
            "7.0 25.0 [[2, 4, 10, 12, 3, 11], [20, 30, 25]] [] []\n",
            "7.0 25.0 [[2, 4, 10, 12, 3, 11], [20, 30, 25]] [] []\n",
            "7.0 25.0 [[2, 4, 10, 12, 3, 11], [20, 30, 25]] [] []\n",
            "7.0 25.0 [[2, 4, 10, 12, 3, 11], [20, 30, 25]] [] []\n",
            "7.0 25.0 [[2, 4, 10, 12, 3, 11], [20, 30, 25]] [] []\n",
            "7.0 25.0 [[2, 4, 10, 12, 3, 11], [20, 30, 25]] [] []\n",
            "7.0 25.0 [[2, 4, 10, 12, 3, 11], [20, 30, 25]] [] []\n",
            "7.0 25.0 [[2, 4, 10, 12, 3, 11], [20, 30, 25]] [] []\n",
            "7.0 25.0 [[2, 4, 10, 12, 3, 11], [20, 30, 25]] [] []\n",
            "7.0 25.0 [[2, 4, 10, 12, 3, 11], [20, 30, 25]] [] []\n"
          ]
        }
      ]
    },
    {
      "cell_type": "markdown",
      "source": [
        "## V2 --final"
      ],
      "metadata": {
        "id": "8QZ3uipG9Wol"
      }
    },
    {
      "cell_type": "code",
      "source": [
        "import random\n",
        "\n",
        "\n",
        "ar = [2, 4, 10, 12, 3, 20, 30, 11, 25]\n",
        "m1, m2 = 3, 4\n",
        "n = 5\n",
        "ms = []\n",
        "m = [3, 4,14, 24,30]\n",
        "# m1, m2 = random.choice(ar), random.choice(ar)\n",
        "rn = random.choices(ar, weights=None, cum_weights=None, k=n)\n",
        "\n"
      ],
      "metadata": {
        "id": "-kZx6WtH9eUw"
      },
      "execution_count": null,
      "outputs": []
    },
    {
      "cell_type": "code",
      "source": [
        "\n",
        "def findMin(a):\n",
        "    minn = float('inf')\n",
        "    ind = -1\n",
        "    for m1 in range(len(m)):\n",
        "        mn = abs(m[m1]-a)\n",
        "        if mn < minn:\n",
        "            ind = m1\n",
        "            minn = mn\n",
        "    return ind\n"
      ],
      "metadata": {
        "id": "PcMLdmtD9gMD"
      },
      "execution_count": null,
      "outputs": []
    },
    {
      "cell_type": "code",
      "source": [
        "\n",
        "\n",
        "cluster = [[] for x in range(n)]\n",
        "print(cluster)\n",
        "prevs = []\n",
        "while(1):\n",
        "\n",
        "\n",
        "    prevs = cluster[:]\n",
        "    # prev1, prev2 = cluster[0][:], cluster[1][:]\n",
        "    cluster = [[] for x in range(n)]\n",
        "    for a in ar:\n",
        "        pos = findMin(a)\n",
        "        # print(a, pos, m[pos])\n",
        "        cluster[pos].append(a)\n",
        "    cont = 0\n",
        "    for clust, prev in zip(cluster, prevs):\n",
        "        cont = True\n",
        "        if clust != prev:\n",
        "            cont = False\n",
        "            break\n",
        "    if cont:\n",
        "        break\n",
        "\n",
        "    # if prev1 == cluster[0] and prev2 == cluster[1]:\n",
        "    #     break\n",
        "\n",
        "    m = [sum(cluster[i])/len(cluster[i]) for i in range(len(m))]\n",
        "\n",
        "print('\\n\\n\\n', cluster)\n"
      ],
      "metadata": {
        "colab": {
          "base_uri": "https://localhost:8080/"
        },
        "id": "shDejwKD9aIV",
        "outputId": "62652d8c-cb6b-4c27-eb58-fa94aff5a2b0"
      },
      "execution_count": null,
      "outputs": [
        {
          "output_type": "stream",
          "name": "stdout",
          "text": [
            "[[], [], [], [], []]\n",
            "\n",
            "\n",
            "\n",
            " [[2, 3], [4], [10, 12, 11], [20, 25], [30]]\n"
          ]
        }
      ]
    }
  ]
}