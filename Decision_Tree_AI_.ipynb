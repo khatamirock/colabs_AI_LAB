{
  "nbformat": 4,
  "nbformat_minor": 0,
  "metadata": {
    "colab": {
      "provenance": [],
      "collapsed_sections": [],
      "authorship_tag": "ABX9TyPiO1XdJwy9kMdlLIZuaQRA",
      "include_colab_link": true
    },
    "kernelspec": {
      "name": "python3",
      "display_name": "Python 3"
    },
    "language_info": {
      "name": "python"
    }
  },
  "cells": [
    {
      "cell_type": "markdown",
      "metadata": {
        "id": "view-in-github",
        "colab_type": "text"
      },
      "source": [
        "<a href=\"https://colab.research.google.com/github/khatamirock/colabs_AI_LAB/blob/main/Decision_Tree_AI_.ipynb\" target=\"_parent\"><img src=\"https://colab.research.google.com/assets/colab-badge.svg\" alt=\"Open In Colab\"/></a>"
      ]
    },
    {
      "cell_type": "code",
      "source": [
        "import pandas as pd\n",
        "from collections import Counter\n",
        "import math"
      ],
      "metadata": {
        "id": "waOtlbMyuanB"
      },
      "execution_count": null,
      "outputs": []
    },
    {
      "cell_type": "code",
      "execution_count": null,
      "metadata": {
        "colab": {
          "base_uri": "https://localhost:8080/",
          "height": 269
        },
        "id": "-684LDXdisMg",
        "outputId": "acd798ae-69fa-45db-d4bb-8c8057a4ab18"
      },
      "outputs": [
        {
          "output_type": "execute_result",
          "data": {
            "text/plain": [
              "     age       edu  incm Mart stt   BC\n",
              "0  36-55    master  high   single  yes\n",
              "1  18-35    high s   low   single   no\n",
              "2  36-55    master   low   single  yes\n",
              "3  18-35  bachelor  high   single   no\n",
              "4    <18    high s   low   single  yes\n",
              "5  18-35  bachelor  high  married   no\n",
              "6  36-55  bachelor   low  married   no"
            ],
            "text/html": [
              "\n",
              "  <div id=\"df-094eec44-6777-47d4-83f1-3c3ca9840564\">\n",
              "    <div class=\"colab-df-container\">\n",
              "      <div>\n",
              "<style scoped>\n",
              "    .dataframe tbody tr th:only-of-type {\n",
              "        vertical-align: middle;\n",
              "    }\n",
              "\n",
              "    .dataframe tbody tr th {\n",
              "        vertical-align: top;\n",
              "    }\n",
              "\n",
              "    .dataframe thead th {\n",
              "        text-align: right;\n",
              "    }\n",
              "</style>\n",
              "<table border=\"1\" class=\"dataframe\">\n",
              "  <thead>\n",
              "    <tr style=\"text-align: right;\">\n",
              "      <th></th>\n",
              "      <th>age</th>\n",
              "      <th>edu</th>\n",
              "      <th>incm</th>\n",
              "      <th>Mart stt</th>\n",
              "      <th>BC</th>\n",
              "    </tr>\n",
              "  </thead>\n",
              "  <tbody>\n",
              "    <tr>\n",
              "      <th>0</th>\n",
              "      <td>36-55</td>\n",
              "      <td>master</td>\n",
              "      <td>high</td>\n",
              "      <td>single</td>\n",
              "      <td>yes</td>\n",
              "    </tr>\n",
              "    <tr>\n",
              "      <th>1</th>\n",
              "      <td>18-35</td>\n",
              "      <td>high s</td>\n",
              "      <td>low</td>\n",
              "      <td>single</td>\n",
              "      <td>no</td>\n",
              "    </tr>\n",
              "    <tr>\n",
              "      <th>2</th>\n",
              "      <td>36-55</td>\n",
              "      <td>master</td>\n",
              "      <td>low</td>\n",
              "      <td>single</td>\n",
              "      <td>yes</td>\n",
              "    </tr>\n",
              "    <tr>\n",
              "      <th>3</th>\n",
              "      <td>18-35</td>\n",
              "      <td>bachelor</td>\n",
              "      <td>high</td>\n",
              "      <td>single</td>\n",
              "      <td>no</td>\n",
              "    </tr>\n",
              "    <tr>\n",
              "      <th>4</th>\n",
              "      <td>&lt;18</td>\n",
              "      <td>high s</td>\n",
              "      <td>low</td>\n",
              "      <td>single</td>\n",
              "      <td>yes</td>\n",
              "    </tr>\n",
              "    <tr>\n",
              "      <th>5</th>\n",
              "      <td>18-35</td>\n",
              "      <td>bachelor</td>\n",
              "      <td>high</td>\n",
              "      <td>married</td>\n",
              "      <td>no</td>\n",
              "    </tr>\n",
              "    <tr>\n",
              "      <th>6</th>\n",
              "      <td>36-55</td>\n",
              "      <td>bachelor</td>\n",
              "      <td>low</td>\n",
              "      <td>married</td>\n",
              "      <td>no</td>\n",
              "    </tr>\n",
              "  </tbody>\n",
              "</table>\n",
              "</div>\n",
              "      <button class=\"colab-df-convert\" onclick=\"convertToInteractive('df-094eec44-6777-47d4-83f1-3c3ca9840564')\"\n",
              "              title=\"Convert this dataframe to an interactive table.\"\n",
              "              style=\"display:none;\">\n",
              "        \n",
              "  <svg xmlns=\"http://www.w3.org/2000/svg\" height=\"24px\"viewBox=\"0 0 24 24\"\n",
              "       width=\"24px\">\n",
              "    <path d=\"M0 0h24v24H0V0z\" fill=\"none\"/>\n",
              "    <path d=\"M18.56 5.44l.94 2.06.94-2.06 2.06-.94-2.06-.94-.94-2.06-.94 2.06-2.06.94zm-11 1L8.5 8.5l.94-2.06 2.06-.94-2.06-.94L8.5 2.5l-.94 2.06-2.06.94zm10 10l.94 2.06.94-2.06 2.06-.94-2.06-.94-.94-2.06-.94 2.06-2.06.94z\"/><path d=\"M17.41 7.96l-1.37-1.37c-.4-.4-.92-.59-1.43-.59-.52 0-1.04.2-1.43.59L10.3 9.45l-7.72 7.72c-.78.78-.78 2.05 0 2.83L4 21.41c.39.39.9.59 1.41.59.51 0 1.02-.2 1.41-.59l7.78-7.78 2.81-2.81c.8-.78.8-2.07 0-2.86zM5.41 20L4 18.59l7.72-7.72 1.47 1.35L5.41 20z\"/>\n",
              "  </svg>\n",
              "      </button>\n",
              "      \n",
              "  <style>\n",
              "    .colab-df-container {\n",
              "      display:flex;\n",
              "      flex-wrap:wrap;\n",
              "      gap: 12px;\n",
              "    }\n",
              "\n",
              "    .colab-df-convert {\n",
              "      background-color: #E8F0FE;\n",
              "      border: none;\n",
              "      border-radius: 50%;\n",
              "      cursor: pointer;\n",
              "      display: none;\n",
              "      fill: #1967D2;\n",
              "      height: 32px;\n",
              "      padding: 0 0 0 0;\n",
              "      width: 32px;\n",
              "    }\n",
              "\n",
              "    .colab-df-convert:hover {\n",
              "      background-color: #E2EBFA;\n",
              "      box-shadow: 0px 1px 2px rgba(60, 64, 67, 0.3), 0px 1px 3px 1px rgba(60, 64, 67, 0.15);\n",
              "      fill: #174EA6;\n",
              "    }\n",
              "\n",
              "    [theme=dark] .colab-df-convert {\n",
              "      background-color: #3B4455;\n",
              "      fill: #D2E3FC;\n",
              "    }\n",
              "\n",
              "    [theme=dark] .colab-df-convert:hover {\n",
              "      background-color: #434B5C;\n",
              "      box-shadow: 0px 1px 3px 1px rgba(0, 0, 0, 0.15);\n",
              "      filter: drop-shadow(0px 1px 2px rgba(0, 0, 0, 0.3));\n",
              "      fill: #FFFFFF;\n",
              "    }\n",
              "  </style>\n",
              "\n",
              "      <script>\n",
              "        const buttonEl =\n",
              "          document.querySelector('#df-094eec44-6777-47d4-83f1-3c3ca9840564 button.colab-df-convert');\n",
              "        buttonEl.style.display =\n",
              "          google.colab.kernel.accessAllowed ? 'block' : 'none';\n",
              "\n",
              "        async function convertToInteractive(key) {\n",
              "          const element = document.querySelector('#df-094eec44-6777-47d4-83f1-3c3ca9840564');\n",
              "          const dataTable =\n",
              "            await google.colab.kernel.invokeFunction('convertToInteractive',\n",
              "                                                     [key], {});\n",
              "          if (!dataTable) return;\n",
              "\n",
              "          const docLinkHtml = 'Like what you see? Visit the ' +\n",
              "            '<a target=\"_blank\" href=https://colab.research.google.com/notebooks/data_table.ipynb>data table notebook</a>'\n",
              "            + ' to learn more about interactive tables.';\n",
              "          element.innerHTML = '';\n",
              "          dataTable['output_type'] = 'display_data';\n",
              "          await google.colab.output.renderOutput(dataTable, element);\n",
              "          const docLink = document.createElement('div');\n",
              "          docLink.innerHTML = docLinkHtml;\n",
              "          element.appendChild(docLink);\n",
              "        }\n",
              "      </script>\n",
              "    </div>\n",
              "  </div>\n",
              "  "
            ]
          },
          "metadata": {},
          "execution_count": 11
        }
      ],
      "source": [
        "data = pd.read_csv('/content/DT.csv',sep= ',')\n",
        "data.head(7)"
      ]
    },
    {
      "cell_type": "code",
      "source": [
        "\n",
        "def logger(val,total,predc,brnc,coln):\n",
        "\n",
        "  val=int(val)/total\n",
        "  try:\n",
        "    return val*math.log2(val)\n",
        "  except:\n",
        "    print('(NO branch!!) ', coln,' ' ,brnc,'  ',predc)\n",
        "    return 0"
      ],
      "metadata": {
        "id": "1Au8TnaSuq6f"
      },
      "execution_count": null,
      "outputs": []
    },
    {
      "cell_type": "code",
      "source": [
        "def ig(col):\n",
        "\n",
        "  total=len(data[col])\n",
        "  bc_cnt=Counter(data[col])\n",
        "  print(bc_cnt)\n",
        "  main_inf_gain=-(logger(bc_cnt['yes'] ,total,'NO' ) + logger(bc_cnt['no'] ,total,'YES')  )\n",
        "  return main_inf_gain\n"
      ],
      "metadata": {
        "id": "rJpeUTl1kNIp"
      },
      "execution_count": null,
      "outputs": []
    },
    {
      "cell_type": "code",
      "source": [
        "class_gain=ig('BC')"
      ],
      "metadata": {
        "id": "d2kw-2FExM8G"
      },
      "execution_count": null,
      "outputs": []
    },
    {
      "cell_type": "code",
      "source": [
        "def ig2(col,coln,cat):\n",
        "\n",
        "  loctotal=len(col)\n",
        "  bc_cnt=Counter(col['BC'])\n",
        "  # print(total,col)\n",
        "  main_inf_gain=-(logger(bc_cnt['yes'] ,loctotal ,'NO',cat,coln ) + logger(bc_cnt['no'] ,loctotal,'YES' ,cat,coln )  )\n",
        "  return main_inf_gain*(loctotal/20)"
      ],
      "metadata": {
        "id": "l8WjG_rMy329"
      },
      "execution_count": null,
      "outputs": []
    },
    {
      "cell_type": "code",
      "source": [
        "cols=set(['age','edu','incm','Mart stt','BC'])\n",
        "\n",
        "tempstore={}\n",
        "\n",
        "for col in cols:\n",
        "\n",
        "  age_cata=Counter(data[col])\n",
        "  age_cata\n",
        "  age_ig=0\n",
        "  for cat in age_cata:\n",
        "    # print(cat)\n",
        "    dd=data[data[col].str.contains(cat)]\n",
        "    age_ig+=ig2(dd,col,cat)\n",
        "  print('information gain for  '+ col+ ' = ',class_gain- age_ig)  \n",
        "  tempstore[col]=class_gain- age_ig\n",
        "\n",
        "\n",
        "tempstore\n",
        "    \n",
        "\n"
      ],
      "metadata": {
        "colab": {
          "base_uri": "https://localhost:8080/"
        },
        "id": "-OKE0oeuxeSa",
        "outputId": "965d7f99-1917-4d50-fbb7-21e616730caa"
      },
      "execution_count": null,
      "outputs": [
        {
          "output_type": "stream",
          "name": "stdout",
          "text": [
            "information gain for  incm =  0.03030514483932223\n",
            "(NO branch!!)  BC   yes    YES\n",
            "(NO branch!!)  BC   no    NO\n",
            "information gain for  BC =  0.9709505944546686\n",
            "information gain for  edu =  0.14354652412251911\n",
            "(NO branch!!)  age   18-35    NO\n",
            "(NO branch!!)  age   >55    YES\n",
            "information gain for  age =  0.45143261817650915\n",
            "information gain for  Mart stt =  0.1024101186092029\n"
          ]
        },
        {
          "output_type": "execute_result",
          "data": {
            "text/plain": [
              "{'incm': 0.03030514483932223,\n",
              " 'BC': 0.9709505944546686,\n",
              " 'edu': 0.14354652412251911,\n",
              " 'age': 0.45143261817650915,\n",
              " 'Mart stt': 0.1024101186092029}"
            ]
          },
          "metadata": {},
          "execution_count": 176
        }
      ]
    },
    {
      "cell_type": "code",
      "source": [
        "dd=data[data['BC'].str.contains('')]\n",
        "# print(dd)\n",
        "ig2(dd,'BC','')"
      ],
      "metadata": {
        "colab": {
          "base_uri": "https://localhost:8080/"
        },
        "id": "lq9Wd7vuzoMW",
        "outputId": "d33f7077-3376-45b2-acc7-ea334225decd"
      },
      "execution_count": null,
      "outputs": [
        {
          "output_type": "execute_result",
          "data": {
            "text/plain": [
              "0.9709505944546686"
            ]
          },
          "metadata": {},
          "execution_count": 169
        }
      ]
    }
  ]
}