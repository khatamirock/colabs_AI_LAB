{
  "nbformat": 4,
  "nbformat_minor": 0,
  "metadata": {
    "colab": {
      "provenance": [],
      "collapsed_sections": [],
      "include_colab_link": true
    },
    "kernelspec": {
      "name": "python3",
      "display_name": "Python 3"
    },
    "language_info": {
      "name": "python"
    }
  },
  "cells": [
    {
      "cell_type": "markdown",
      "metadata": {
        "id": "view-in-github",
        "colab_type": "text"
      },
      "source": [
        "<a href=\"https://colab.research.google.com/github/khatamirock/colabs_AI_LAB/blob/3rdStage/Decision_Tree_AI_.ipynb\" target=\"_parent\"><img src=\"https://colab.research.google.com/assets/colab-badge.svg\" alt=\"Open In Colab\"/></a>"
      ]
    },
    {
      "cell_type": "code",
      "source": [
        "import pandas as pd\n",
        "from collections import Counter\n",
        "import math\n",
        "\n",
        "!git clone https://github.com/khatamirock/colabs_AI_LAB"
      ],
      "metadata": {
        "id": "waOtlbMyuanB",
        "colab": {
          "base_uri": "https://localhost:8080/"
        },
        "outputId": "de8d87e9-eab0-4d50-f15d-a0fda1aeb418"
      },
      "execution_count": 13,
      "outputs": [
        {
          "output_type": "stream",
          "name": "stdout",
          "text": [
            "fatal: destination path 'colabs_AI_LAB' already exists and is not an empty directory.\n"
          ]
        }
      ]
    },
    {
      "cell_type": "code",
      "execution_count": 14,
      "metadata": {
        "colab": {
          "base_uri": "https://localhost:8080/",
          "height": 269
        },
        "id": "-684LDXdisMg",
        "outputId": "063a06dc-a8ff-4210-c377-132b4836f89b"
      },
      "outputs": [
        {
          "output_type": "execute_result",
          "data": {
            "text/plain": [
              "     age       edu  incm Mart stt   BC\n",
              "0  36-55    master  high   single  yes\n",
              "1  18-35    high s   low   single   no\n",
              "2  36-55    master   low   single  yes\n",
              "3  18-35  bachelor  high   single   no\n",
              "4    <18    high s   low   single  yes\n",
              "5  18-35  bachelor  high  married   no\n",
              "6  36-55  bachelor   low  married   no"
            ],
            "text/html": [
              "\n",
              "  <div id=\"df-8d7f8117-b31f-418c-acd6-c0e60b734852\">\n",
              "    <div class=\"colab-df-container\">\n",
              "      <div>\n",
              "<style scoped>\n",
              "    .dataframe tbody tr th:only-of-type {\n",
              "        vertical-align: middle;\n",
              "    }\n",
              "\n",
              "    .dataframe tbody tr th {\n",
              "        vertical-align: top;\n",
              "    }\n",
              "\n",
              "    .dataframe thead th {\n",
              "        text-align: right;\n",
              "    }\n",
              "</style>\n",
              "<table border=\"1\" class=\"dataframe\">\n",
              "  <thead>\n",
              "    <tr style=\"text-align: right;\">\n",
              "      <th></th>\n",
              "      <th>age</th>\n",
              "      <th>edu</th>\n",
              "      <th>incm</th>\n",
              "      <th>Mart stt</th>\n",
              "      <th>BC</th>\n",
              "    </tr>\n",
              "  </thead>\n",
              "  <tbody>\n",
              "    <tr>\n",
              "      <th>0</th>\n",
              "      <td>36-55</td>\n",
              "      <td>master</td>\n",
              "      <td>high</td>\n",
              "      <td>single</td>\n",
              "      <td>yes</td>\n",
              "    </tr>\n",
              "    <tr>\n",
              "      <th>1</th>\n",
              "      <td>18-35</td>\n",
              "      <td>high s</td>\n",
              "      <td>low</td>\n",
              "      <td>single</td>\n",
              "      <td>no</td>\n",
              "    </tr>\n",
              "    <tr>\n",
              "      <th>2</th>\n",
              "      <td>36-55</td>\n",
              "      <td>master</td>\n",
              "      <td>low</td>\n",
              "      <td>single</td>\n",
              "      <td>yes</td>\n",
              "    </tr>\n",
              "    <tr>\n",
              "      <th>3</th>\n",
              "      <td>18-35</td>\n",
              "      <td>bachelor</td>\n",
              "      <td>high</td>\n",
              "      <td>single</td>\n",
              "      <td>no</td>\n",
              "    </tr>\n",
              "    <tr>\n",
              "      <th>4</th>\n",
              "      <td>&lt;18</td>\n",
              "      <td>high s</td>\n",
              "      <td>low</td>\n",
              "      <td>single</td>\n",
              "      <td>yes</td>\n",
              "    </tr>\n",
              "    <tr>\n",
              "      <th>5</th>\n",
              "      <td>18-35</td>\n",
              "      <td>bachelor</td>\n",
              "      <td>high</td>\n",
              "      <td>married</td>\n",
              "      <td>no</td>\n",
              "    </tr>\n",
              "    <tr>\n",
              "      <th>6</th>\n",
              "      <td>36-55</td>\n",
              "      <td>bachelor</td>\n",
              "      <td>low</td>\n",
              "      <td>married</td>\n",
              "      <td>no</td>\n",
              "    </tr>\n",
              "  </tbody>\n",
              "</table>\n",
              "</div>\n",
              "      <button class=\"colab-df-convert\" onclick=\"convertToInteractive('df-8d7f8117-b31f-418c-acd6-c0e60b734852')\"\n",
              "              title=\"Convert this dataframe to an interactive table.\"\n",
              "              style=\"display:none;\">\n",
              "        \n",
              "  <svg xmlns=\"http://www.w3.org/2000/svg\" height=\"24px\"viewBox=\"0 0 24 24\"\n",
              "       width=\"24px\">\n",
              "    <path d=\"M0 0h24v24H0V0z\" fill=\"none\"/>\n",
              "    <path d=\"M18.56 5.44l.94 2.06.94-2.06 2.06-.94-2.06-.94-.94-2.06-.94 2.06-2.06.94zm-11 1L8.5 8.5l.94-2.06 2.06-.94-2.06-.94L8.5 2.5l-.94 2.06-2.06.94zm10 10l.94 2.06.94-2.06 2.06-.94-2.06-.94-.94-2.06-.94 2.06-2.06.94z\"/><path d=\"M17.41 7.96l-1.37-1.37c-.4-.4-.92-.59-1.43-.59-.52 0-1.04.2-1.43.59L10.3 9.45l-7.72 7.72c-.78.78-.78 2.05 0 2.83L4 21.41c.39.39.9.59 1.41.59.51 0 1.02-.2 1.41-.59l7.78-7.78 2.81-2.81c.8-.78.8-2.07 0-2.86zM5.41 20L4 18.59l7.72-7.72 1.47 1.35L5.41 20z\"/>\n",
              "  </svg>\n",
              "      </button>\n",
              "      \n",
              "  <style>\n",
              "    .colab-df-container {\n",
              "      display:flex;\n",
              "      flex-wrap:wrap;\n",
              "      gap: 12px;\n",
              "    }\n",
              "\n",
              "    .colab-df-convert {\n",
              "      background-color: #E8F0FE;\n",
              "      border: none;\n",
              "      border-radius: 50%;\n",
              "      cursor: pointer;\n",
              "      display: none;\n",
              "      fill: #1967D2;\n",
              "      height: 32px;\n",
              "      padding: 0 0 0 0;\n",
              "      width: 32px;\n",
              "    }\n",
              "\n",
              "    .colab-df-convert:hover {\n",
              "      background-color: #E2EBFA;\n",
              "      box-shadow: 0px 1px 2px rgba(60, 64, 67, 0.3), 0px 1px 3px 1px rgba(60, 64, 67, 0.15);\n",
              "      fill: #174EA6;\n",
              "    }\n",
              "\n",
              "    [theme=dark] .colab-df-convert {\n",
              "      background-color: #3B4455;\n",
              "      fill: #D2E3FC;\n",
              "    }\n",
              "\n",
              "    [theme=dark] .colab-df-convert:hover {\n",
              "      background-color: #434B5C;\n",
              "      box-shadow: 0px 1px 3px 1px rgba(0, 0, 0, 0.15);\n",
              "      filter: drop-shadow(0px 1px 2px rgba(0, 0, 0, 0.3));\n",
              "      fill: #FFFFFF;\n",
              "    }\n",
              "  </style>\n",
              "\n",
              "      <script>\n",
              "        const buttonEl =\n",
              "          document.querySelector('#df-8d7f8117-b31f-418c-acd6-c0e60b734852 button.colab-df-convert');\n",
              "        buttonEl.style.display =\n",
              "          google.colab.kernel.accessAllowed ? 'block' : 'none';\n",
              "\n",
              "        async function convertToInteractive(key) {\n",
              "          const element = document.querySelector('#df-8d7f8117-b31f-418c-acd6-c0e60b734852');\n",
              "          const dataTable =\n",
              "            await google.colab.kernel.invokeFunction('convertToInteractive',\n",
              "                                                     [key], {});\n",
              "          if (!dataTable) return;\n",
              "\n",
              "          const docLinkHtml = 'Like what you see? Visit the ' +\n",
              "            '<a target=\"_blank\" href=https://colab.research.google.com/notebooks/data_table.ipynb>data table notebook</a>'\n",
              "            + ' to learn more about interactive tables.';\n",
              "          element.innerHTML = '';\n",
              "          dataTable['output_type'] = 'display_data';\n",
              "          await google.colab.output.renderOutput(dataTable, element);\n",
              "          const docLink = document.createElement('div');\n",
              "          docLink.innerHTML = docLinkHtml;\n",
              "          element.appendChild(docLink);\n",
              "        }\n",
              "      </script>\n",
              "    </div>\n",
              "  </div>\n",
              "  "
            ]
          },
          "metadata": {},
          "execution_count": 14
        }
      ],
      "source": [
        "data = pd.read_csv('/content/DT.csv')\n",
        "data.head(7)"
      ]
    },
    {
      "cell_type": "code",
      "source": [
        "\n",
        "def logger(val,total,predc='',brnc='',coln=''):\n",
        "\n",
        "  \n",
        "  try:\n",
        "    val=int(val)/total\n",
        "    # print(coln,brnc,end= '  ')\n",
        "    return (val*math.log2(val),1)\n",
        "  except:\n",
        "    # print('(NO branch!!) ', coln,' ' ,brnc,'  ',predc)\n",
        "    return (0,predc)"
      ],
      "metadata": {
        "id": "1Au8TnaSuq6f"
      },
      "execution_count": 39,
      "outputs": []
    },
    {
      "cell_type": "code",
      "source": [
        "\n",
        "def edgechecker(col, coln, cat):\n",
        "\n",
        "    loctotal = len(col)\n",
        "    bc_cnt = Counter(col['BC'])\n",
        "    # print(total,col)\n",
        "    no=logger(bc_cnt['yes'] ,loctotal ,'NO')\n",
        "    yes= logger(bc_cnt['no'] ,loctotal,'YES')\n",
        "    main_inf_gain=-( no[0]+yes[0] )\n",
        "\n",
        "    if no[1]!=1:return no[1]\n",
        "    elif yes[1]!=1:return yes[1]\n",
        "  \n",
        "    return main_inf_gain*(loctotal/20)\n"
      ],
      "metadata": {
        "id": "NIl5bkBhYtLZ"
      },
      "execution_count": 34,
      "outputs": []
    },
    {
      "cell_type": "code",
      "source": [
        "def ig2(col,coln,brnc,total):\n",
        "\n",
        "  loctotal=len(col)\n",
        "  bc_cnt=Counter(col['BC'])\n",
        "  # print(loctotal,bc_cnt,total)\n",
        "  no=logger(bc_cnt['yes'] ,loctotal ,'NO',brnc,coln )[0]\n",
        "  yes= logger(bc_cnt['no'] ,loctotal,'YES' ,brnc,coln )[0]\n",
        "  main_inf_gain=-( no+yes )\n",
        "  return main_inf_gain*(loctotal/total)"
      ],
      "metadata": {
        "id": "l8WjG_rMy329"
      },
      "execution_count": 27,
      "outputs": []
    },
    {
      "cell_type": "code",
      "source": [
        "\n",
        "\n",
        "def runner(data):\n",
        "  cols=set(['age','edu','incm','Mart stt'])\n",
        "  \n",
        "\n",
        "  tempstore={}\n",
        "  total=len(data)\n",
        "  class_gain=ig2(data,'BC','',total)\n",
        "  print(class_gain)\n",
        "  # print(total)\n",
        "\n",
        "  for col in cols:\n",
        "\n",
        "    age_cata=Counter(data[col])\n",
        "    \n",
        "    age_ig=0\n",
        "    for cat in age_cata:\n",
        "      # print(cat)\n",
        "      dd=data[data[col].str.contains(cat)]\n",
        "      age_ig+=ig2(dd,col,cat,total)\n",
        "    print('information gain for  '+ col+ ' = ',class_gain- age_ig)  \n",
        "    tempstore[col]=class_gain- age_ig\n",
        "\n",
        "\n",
        "\n",
        "  max(tempstore)    \n",
        "\n",
        "  arr=sorted(tempstore.items(),key=lambda x:x[1])\n",
        "  return arr[-1]\n",
        "\n"
      ],
      "metadata": {
        "id": "-OKE0oeuxeSa"
      },
      "execution_count": 18,
      "outputs": []
    },
    {
      "cell_type": "code",
      "source": [
        "# todo is to genereatet the tree procedurally\n",
        "# if the roots child node have Y/N then add it to children\n",
        "# else find the next child ROOT\n",
        "\n",
        "\n",
        "class learn:\n",
        "    def __init__(self, name, children={}):\n",
        "        self.name = name\n",
        "        self.children = children\n",
        "\n",
        "\n",
        "\n",
        "\n",
        "\n",
        "\n"
      ],
      "metadata": {
        "id": "C9o9sxZ-Xc30"
      },
      "execution_count": 58,
      "outputs": []
    },
    {
      "cell_type": "code",
      "source": [
        "dd=data[data['age'].str.contains('36-55')]\n",
        "# print(dd)\n",
        "dd # for each replacement of data"
      ],
      "metadata": {
        "colab": {
          "base_uri": "https://localhost:8080/",
          "height": 300
        },
        "id": "lq9Wd7vuzoMW",
        "outputId": "397d70a9-148b-4ff3-b050-989fdea84d2d"
      },
      "execution_count": 70,
      "outputs": [
        {
          "output_type": "execute_result",
          "data": {
            "text/plain": [
              "      age       edu  incm Mart stt   BC\n",
              "0   36-55    master  high   single  yes\n",
              "2   36-55    master   low   single  yes\n",
              "6   36-55  bachelor   low  married   no\n",
              "8   36-55    master   low  married   no\n",
              "10  36-55    master  high   single  yes\n",
              "13  36-55    master   low   single  yes\n",
              "14  36-55    high s   low   single  yes\n",
              "19  36-55    high s  high  married   no"
            ],
            "text/html": [
              "\n",
              "  <div id=\"df-ab7c4fde-4235-4aa0-addf-8d258d0cb916\">\n",
              "    <div class=\"colab-df-container\">\n",
              "      <div>\n",
              "<style scoped>\n",
              "    .dataframe tbody tr th:only-of-type {\n",
              "        vertical-align: middle;\n",
              "    }\n",
              "\n",
              "    .dataframe tbody tr th {\n",
              "        vertical-align: top;\n",
              "    }\n",
              "\n",
              "    .dataframe thead th {\n",
              "        text-align: right;\n",
              "    }\n",
              "</style>\n",
              "<table border=\"1\" class=\"dataframe\">\n",
              "  <thead>\n",
              "    <tr style=\"text-align: right;\">\n",
              "      <th></th>\n",
              "      <th>age</th>\n",
              "      <th>edu</th>\n",
              "      <th>incm</th>\n",
              "      <th>Mart stt</th>\n",
              "      <th>BC</th>\n",
              "    </tr>\n",
              "  </thead>\n",
              "  <tbody>\n",
              "    <tr>\n",
              "      <th>0</th>\n",
              "      <td>36-55</td>\n",
              "      <td>master</td>\n",
              "      <td>high</td>\n",
              "      <td>single</td>\n",
              "      <td>yes</td>\n",
              "    </tr>\n",
              "    <tr>\n",
              "      <th>2</th>\n",
              "      <td>36-55</td>\n",
              "      <td>master</td>\n",
              "      <td>low</td>\n",
              "      <td>single</td>\n",
              "      <td>yes</td>\n",
              "    </tr>\n",
              "    <tr>\n",
              "      <th>6</th>\n",
              "      <td>36-55</td>\n",
              "      <td>bachelor</td>\n",
              "      <td>low</td>\n",
              "      <td>married</td>\n",
              "      <td>no</td>\n",
              "    </tr>\n",
              "    <tr>\n",
              "      <th>8</th>\n",
              "      <td>36-55</td>\n",
              "      <td>master</td>\n",
              "      <td>low</td>\n",
              "      <td>married</td>\n",
              "      <td>no</td>\n",
              "    </tr>\n",
              "    <tr>\n",
              "      <th>10</th>\n",
              "      <td>36-55</td>\n",
              "      <td>master</td>\n",
              "      <td>high</td>\n",
              "      <td>single</td>\n",
              "      <td>yes</td>\n",
              "    </tr>\n",
              "    <tr>\n",
              "      <th>13</th>\n",
              "      <td>36-55</td>\n",
              "      <td>master</td>\n",
              "      <td>low</td>\n",
              "      <td>single</td>\n",
              "      <td>yes</td>\n",
              "    </tr>\n",
              "    <tr>\n",
              "      <th>14</th>\n",
              "      <td>36-55</td>\n",
              "      <td>high s</td>\n",
              "      <td>low</td>\n",
              "      <td>single</td>\n",
              "      <td>yes</td>\n",
              "    </tr>\n",
              "    <tr>\n",
              "      <th>19</th>\n",
              "      <td>36-55</td>\n",
              "      <td>high s</td>\n",
              "      <td>high</td>\n",
              "      <td>married</td>\n",
              "      <td>no</td>\n",
              "    </tr>\n",
              "  </tbody>\n",
              "</table>\n",
              "</div>\n",
              "      <button class=\"colab-df-convert\" onclick=\"convertToInteractive('df-ab7c4fde-4235-4aa0-addf-8d258d0cb916')\"\n",
              "              title=\"Convert this dataframe to an interactive table.\"\n",
              "              style=\"display:none;\">\n",
              "        \n",
              "  <svg xmlns=\"http://www.w3.org/2000/svg\" height=\"24px\"viewBox=\"0 0 24 24\"\n",
              "       width=\"24px\">\n",
              "    <path d=\"M0 0h24v24H0V0z\" fill=\"none\"/>\n",
              "    <path d=\"M18.56 5.44l.94 2.06.94-2.06 2.06-.94-2.06-.94-.94-2.06-.94 2.06-2.06.94zm-11 1L8.5 8.5l.94-2.06 2.06-.94-2.06-.94L8.5 2.5l-.94 2.06-2.06.94zm10 10l.94 2.06.94-2.06 2.06-.94-2.06-.94-.94-2.06-.94 2.06-2.06.94z\"/><path d=\"M17.41 7.96l-1.37-1.37c-.4-.4-.92-.59-1.43-.59-.52 0-1.04.2-1.43.59L10.3 9.45l-7.72 7.72c-.78.78-.78 2.05 0 2.83L4 21.41c.39.39.9.59 1.41.59.51 0 1.02-.2 1.41-.59l7.78-7.78 2.81-2.81c.8-.78.8-2.07 0-2.86zM5.41 20L4 18.59l7.72-7.72 1.47 1.35L5.41 20z\"/>\n",
              "  </svg>\n",
              "      </button>\n",
              "      \n",
              "  <style>\n",
              "    .colab-df-container {\n",
              "      display:flex;\n",
              "      flex-wrap:wrap;\n",
              "      gap: 12px;\n",
              "    }\n",
              "\n",
              "    .colab-df-convert {\n",
              "      background-color: #E8F0FE;\n",
              "      border: none;\n",
              "      border-radius: 50%;\n",
              "      cursor: pointer;\n",
              "      display: none;\n",
              "      fill: #1967D2;\n",
              "      height: 32px;\n",
              "      padding: 0 0 0 0;\n",
              "      width: 32px;\n",
              "    }\n",
              "\n",
              "    .colab-df-convert:hover {\n",
              "      background-color: #E2EBFA;\n",
              "      box-shadow: 0px 1px 2px rgba(60, 64, 67, 0.3), 0px 1px 3px 1px rgba(60, 64, 67, 0.15);\n",
              "      fill: #174EA6;\n",
              "    }\n",
              "\n",
              "    [theme=dark] .colab-df-convert {\n",
              "      background-color: #3B4455;\n",
              "      fill: #D2E3FC;\n",
              "    }\n",
              "\n",
              "    [theme=dark] .colab-df-convert:hover {\n",
              "      background-color: #434B5C;\n",
              "      box-shadow: 0px 1px 3px 1px rgba(0, 0, 0, 0.15);\n",
              "      filter: drop-shadow(0px 1px 2px rgba(0, 0, 0, 0.3));\n",
              "      fill: #FFFFFF;\n",
              "    }\n",
              "  </style>\n",
              "\n",
              "      <script>\n",
              "        const buttonEl =\n",
              "          document.querySelector('#df-ab7c4fde-4235-4aa0-addf-8d258d0cb916 button.colab-df-convert');\n",
              "        buttonEl.style.display =\n",
              "          google.colab.kernel.accessAllowed ? 'block' : 'none';\n",
              "\n",
              "        async function convertToInteractive(key) {\n",
              "          const element = document.querySelector('#df-ab7c4fde-4235-4aa0-addf-8d258d0cb916');\n",
              "          const dataTable =\n",
              "            await google.colab.kernel.invokeFunction('convertToInteractive',\n",
              "                                                     [key], {});\n",
              "          if (!dataTable) return;\n",
              "\n",
              "          const docLinkHtml = 'Like what you see? Visit the ' +\n",
              "            '<a target=\"_blank\" href=https://colab.research.google.com/notebooks/data_table.ipynb>data table notebook</a>'\n",
              "            + ' to learn more about interactive tables.';\n",
              "          element.innerHTML = '';\n",
              "          dataTable['output_type'] = 'display_data';\n",
              "          await google.colab.output.renderOutput(dataTable, element);\n",
              "          const docLink = document.createElement('div');\n",
              "          docLink.innerHTML = docLinkHtml;\n",
              "          element.appendChild(docLink);\n",
              "        }\n",
              "      </script>\n",
              "    </div>\n",
              "  </div>\n",
              "  "
            ]
          },
          "metadata": {},
          "execution_count": 70
        }
      ]
    },
    {
      "cell_type": "code",
      "source": [
        "xx=runner(data)\n",
        "print('<<<<<<<<<<<<',xx)"
      ],
      "metadata": {
        "colab": {
          "base_uri": "https://localhost:8080/"
        },
        "id": "7aCHCCPSRYpq",
        "outputId": "932f5b85-e031-4adc-d87c-c69942e4c04e"
      },
      "execution_count": 43,
      "outputs": [
        {
          "output_type": "stream",
          "name": "stdout",
          "text": [
            "0.9709505944546686\n",
            "information gain for  age =  0.45143261817650915\n",
            "information gain for  Mart stt =  0.1024101186092029\n",
            "information gain for  incm =  0.03030514483932223\n",
            "information gain for  edu =  0.14354652412251911\n",
            "<<<<<<<<<<<< ('age', 0.45143261817650915)\n"
          ]
        }
      ]
    },
    {
      "cell_type": "code",
      "source": [
        "ig2(data,'age','18-35',20)"
      ],
      "metadata": {
        "colab": {
          "base_uri": "https://localhost:8080/"
        },
        "id": "Cqw9lYe0WPz7",
        "outputId": "fcae5818-e39f-4add-e714-6f048b29da7e"
      },
      "execution_count": 71,
      "outputs": [
        {
          "output_type": "execute_result",
          "data": {
            "text/plain": [
              "0.9709505944546686"
            ]
          },
          "metadata": {},
          "execution_count": 71
        }
      ]
    },
    {
      "cell_type": "code",
      "source": [
        "\n",
        "node = runner(data)\n",
        "\n",
        "node = learn(name=node[0])\n",
        "\n",
        "\n",
        "def visiter(data, node):\n",
        "\n",
        "    # node.name='age'\n",
        "    for cat in Counter(data[node.name]):  # branch[0]\n",
        "\n",
        "        col, cat = node.name, cat\n",
        "        # here if branch is 0 add child [predc]\n",
        "        # else create a node in the name {branch[0]} and add it to this root\n",
        "\n",
        "        dat = data[data[col].str.contains(cat)]\n",
        "        print(dat)\n",
        "        xx = edgechecker(dat, col, cat)\n",
        "        if xx == 'YES' or xx == 'NO':\n",
        "            print('xx>>>>', end=' ')\n",
        "            node.children[cat] = xx\n",
        "        else:\n",
        "            newnodeName = runner(dat)\n",
        "            print(newnodeName)\n",
        "            newnode = learn(newnodeName[0], {})\n",
        "            node.children[cat] = newnode\n",
        "            print(node.children, newnode.children)\n",
        "            visiter(dat, newnode)\n",
        "            # node = learn()\n",
        "        print('>>>>>>>', col, cat, xx)\n",
        "\n",
        "\n",
        "visiter(data, node)\n",
        "print(node.name,node.children)\n"
      ],
      "metadata": {
        "colab": {
          "base_uri": "https://localhost:8080/"
        },
        "id": "BjW4P_CdaY5T",
        "outputId": "7b5708b3-7130-4044-d6a8-8b45247dcb12"
      },
      "execution_count": 72,
      "outputs": [
        {
          "output_type": "stream",
          "name": "stdout",
          "text": [
            "0.9709505944546686\n",
            "information gain for  age =  0.45143261817650915\n",
            "information gain for  Mart stt =  0.1024101186092029\n",
            "information gain for  incm =  0.03030514483932223\n",
            "information gain for  edu =  0.14354652412251911\n",
            "      age       edu  incm Mart stt   BC\n",
            "0   36-55    master  high   single  yes\n",
            "2   36-55    master   low   single  yes\n",
            "6   36-55  bachelor   low  married   no\n",
            "8   36-55    master   low  married   no\n",
            "10  36-55    master  high   single  yes\n",
            "13  36-55    master   low   single  yes\n",
            "14  36-55    high s   low   single  yes\n",
            "19  36-55    high s  high  married   no\n",
            "0.9544340029249649\n",
            "information gain for  age =  0.0\n",
            "information gain for  Mart stt =  0.9544340029249649\n",
            "information gain for  incm =  0.0032289436203634114\n",
            "information gain for  edu =  0.2532289436203635\n",
            "('Mart stt', 0.9544340029249649)\n",
            "{'<12': 'rock', '36-55': <__main__.learn object at 0x7fbce99d4fd0>} {}\n",
            "      age     edu  incm Mart stt   BC\n",
            "0   36-55  master  high   single  yes\n",
            "2   36-55  master   low   single  yes\n",
            "10  36-55  master  high   single  yes\n",
            "13  36-55  master   low   single  yes\n",
            "14  36-55  high s   low   single  yes\n",
            "xx>>>> >>>>>>> Mart stt single YES\n",
            "      age       edu  incm Mart stt  BC\n",
            "6   36-55  bachelor   low  married  no\n",
            "8   36-55    master   low  married  no\n",
            "19  36-55    high s  high  married  no\n",
            "xx>>>> >>>>>>> Mart stt married NO\n",
            ">>>>>>> age 36-55 0.381773601169986\n",
            "      age       edu  incm Mart stt  BC\n",
            "1   18-35    high s   low   single  no\n",
            "3   18-35  bachelor  high   single  no\n",
            "5   18-35  bachelor  high  married  no\n",
            "16  18-35  bachelor  high  married  no\n",
            "xx>>>> >>>>>>> age 18-35 NO\n",
            "    age     edu  incm Mart stt   BC\n",
            "4   <18  high s   low   single  yes\n",
            "12  <18  high s  high   single   no\n",
            "15  <18  high s   low  married  yes\n",
            "0.9182958340544896\n",
            "information gain for  age =  0.0\n",
            "information gain for  Mart stt =  0.2516291673878229\n",
            "information gain for  incm =  0.9182958340544896\n",
            "information gain for  edu =  0.0\n",
            "('incm', 0.9182958340544896)\n",
            "{'<12': 'rock', '36-55': <__main__.learn object at 0x7fbce99d4fd0>, '18-35': 'NO', '<18': <__main__.learn object at 0x7fbce941b4d0>} {}\n",
            "    age     edu incm Mart stt   BC\n",
            "4   <18  high s  low   single  yes\n",
            "15  <18  high s  low  married  yes\n",
            "xx>>>> >>>>>>> incm low YES\n",
            "    age     edu  incm Mart stt  BC\n",
            "12  <18  high s  high   single  no\n",
            "xx>>>> >>>>>>> incm high NO\n",
            ">>>>>>> age <18 0.13774437510817342\n",
            "    age       edu  incm Mart stt   BC\n",
            "7   >55  bachelor  high   single  yes\n",
            "9   >55    master   low  married  yes\n",
            "11  >55    master  high   single  yes\n",
            "17  >55    high s  high  married  yes\n",
            "18  >55  bachelor   low   single  yes\n",
            "xx>>>> >>>>>>> age >55 YES\n",
            "age {'<12': 'rock', '36-55': <__main__.learn object at 0x7fbce99d4fd0>, '18-35': 'NO', '<18': <__main__.learn object at 0x7fbce941b4d0>, '>55': 'YES'}\n"
          ]
        }
      ]
    },
    {
      "cell_type": "code",
      "source": [
        "node.children['<12']=\"rock\"\n",
        "node.children\n"
      ],
      "metadata": {
        "id": "npISzjLNdyPu",
        "outputId": "145fd06e-b073-4476-91b8-81d86e901f68",
        "colab": {
          "base_uri": "https://localhost:8080/"
        }
      },
      "execution_count": 65,
      "outputs": [
        {
          "output_type": "execute_result",
          "data": {
            "text/plain": [
              "{'<12': 'rock'}"
            ]
          },
          "metadata": {},
          "execution_count": 65
        }
      ]
    },
    {
      "cell_type": "code",
      "source": [
        "\n",
        "col,cat='age','36-55'\n",
        "\n",
        "dd = data[data[col].str.contains(cat)]\n",
        "xx=edgechecker(dd, col, cat)\n",
        "xx"
      ],
      "metadata": {
        "colab": {
          "base_uri": "https://localhost:8080/"
        },
        "id": "_hTTVyqUfNom",
        "outputId": "8b938a72-151c-4fce-d6b5-b7c93edc5447"
      },
      "execution_count": 41,
      "outputs": [
        {
          "output_type": "execute_result",
          "data": {
            "text/plain": [
              "0.381773601169986"
            ]
          },
          "metadata": {},
          "execution_count": 41
        }
      ]
    }
  ]
}