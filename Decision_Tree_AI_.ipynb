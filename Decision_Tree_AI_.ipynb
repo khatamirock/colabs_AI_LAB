{
  "nbformat": 4,
  "nbformat_minor": 0,
  "metadata": {
    "colab": {
      "provenance": [],
      "collapsed_sections": [],
      "include_colab_link": true
    },
    "kernelspec": {
      "name": "python3",
      "display_name": "Python 3"
    },
    "language_info": {
      "name": "python"
    }
  },
  "cells": [
    {
      "cell_type": "markdown",
      "metadata": {
        "id": "view-in-github",
        "colab_type": "text"
      },
      "source": [
        "<a href=\"https://colab.research.google.com/github/khatamirock/colabs_AI_LAB/blob/second_stage/Decision_Tree_AI_.ipynb\" target=\"_parent\"><img src=\"https://colab.research.google.com/assets/colab-badge.svg\" alt=\"Open In Colab\"/></a>"
      ]
    },
    {
      "cell_type": "code",
      "source": [
        "import pandas as pd\n",
        "from collections import Counter\n",
        "import math\n",
        "\n",
        "!git clone https://github.com/khatamirock/colabs_AI_LAB/blob/main/DT.csv"
      ],
      "metadata": {
        "id": "waOtlbMyuanB",
        "colab": {
          "base_uri": "https://localhost:8080/"
        },
        "outputId": "f4a51438-5a6f-450d-ff20-74f5ab705862"
      },
      "execution_count": 10,
      "outputs": [
        {
          "output_type": "stream",
          "name": "stdout",
          "text": [
            "Cloning into 'DT.csv'...\n",
            "fatal: repository 'https://github.com/khatamirock/colabs_AI_LAB/blob/main/DT.csv/' not found\n"
          ]
        }
      ]
    },
    {
      "cell_type": "code",
      "execution_count": 11,
      "metadata": {
        "colab": {
          "base_uri": "https://localhost:8080/",
          "height": 269
        },
        "id": "-684LDXdisMg",
        "outputId": "ddab1132-3455-4815-b375-ff3934ae7b0b"
      },
      "outputs": [
        {
          "output_type": "execute_result",
          "data": {
            "text/plain": [
              "     age       edu  incm Mart stt   BC\n",
              "0  36-55    master  high   single  yes\n",
              "1  18-35    high s   low   single   no\n",
              "2  36-55    master   low   single  yes\n",
              "3  18-35  bachelor  high   single   no\n",
              "4    <18    high s   low   single  yes\n",
              "5  18-35  bachelor  high  married   no\n",
              "6  36-55  bachelor   low  married   no"
            ],
            "text/html": [
              "\n",
              "  <div id=\"df-42997b59-760a-4a5f-84a9-233d2eeacf98\">\n",
              "    <div class=\"colab-df-container\">\n",
              "      <div>\n",
              "<style scoped>\n",
              "    .dataframe tbody tr th:only-of-type {\n",
              "        vertical-align: middle;\n",
              "    }\n",
              "\n",
              "    .dataframe tbody tr th {\n",
              "        vertical-align: top;\n",
              "    }\n",
              "\n",
              "    .dataframe thead th {\n",
              "        text-align: right;\n",
              "    }\n",
              "</style>\n",
              "<table border=\"1\" class=\"dataframe\">\n",
              "  <thead>\n",
              "    <tr style=\"text-align: right;\">\n",
              "      <th></th>\n",
              "      <th>age</th>\n",
              "      <th>edu</th>\n",
              "      <th>incm</th>\n",
              "      <th>Mart stt</th>\n",
              "      <th>BC</th>\n",
              "    </tr>\n",
              "  </thead>\n",
              "  <tbody>\n",
              "    <tr>\n",
              "      <th>0</th>\n",
              "      <td>36-55</td>\n",
              "      <td>master</td>\n",
              "      <td>high</td>\n",
              "      <td>single</td>\n",
              "      <td>yes</td>\n",
              "    </tr>\n",
              "    <tr>\n",
              "      <th>1</th>\n",
              "      <td>18-35</td>\n",
              "      <td>high s</td>\n",
              "      <td>low</td>\n",
              "      <td>single</td>\n",
              "      <td>no</td>\n",
              "    </tr>\n",
              "    <tr>\n",
              "      <th>2</th>\n",
              "      <td>36-55</td>\n",
              "      <td>master</td>\n",
              "      <td>low</td>\n",
              "      <td>single</td>\n",
              "      <td>yes</td>\n",
              "    </tr>\n",
              "    <tr>\n",
              "      <th>3</th>\n",
              "      <td>18-35</td>\n",
              "      <td>bachelor</td>\n",
              "      <td>high</td>\n",
              "      <td>single</td>\n",
              "      <td>no</td>\n",
              "    </tr>\n",
              "    <tr>\n",
              "      <th>4</th>\n",
              "      <td>&lt;18</td>\n",
              "      <td>high s</td>\n",
              "      <td>low</td>\n",
              "      <td>single</td>\n",
              "      <td>yes</td>\n",
              "    </tr>\n",
              "    <tr>\n",
              "      <th>5</th>\n",
              "      <td>18-35</td>\n",
              "      <td>bachelor</td>\n",
              "      <td>high</td>\n",
              "      <td>married</td>\n",
              "      <td>no</td>\n",
              "    </tr>\n",
              "    <tr>\n",
              "      <th>6</th>\n",
              "      <td>36-55</td>\n",
              "      <td>bachelor</td>\n",
              "      <td>low</td>\n",
              "      <td>married</td>\n",
              "      <td>no</td>\n",
              "    </tr>\n",
              "  </tbody>\n",
              "</table>\n",
              "</div>\n",
              "      <button class=\"colab-df-convert\" onclick=\"convertToInteractive('df-42997b59-760a-4a5f-84a9-233d2eeacf98')\"\n",
              "              title=\"Convert this dataframe to an interactive table.\"\n",
              "              style=\"display:none;\">\n",
              "        \n",
              "  <svg xmlns=\"http://www.w3.org/2000/svg\" height=\"24px\"viewBox=\"0 0 24 24\"\n",
              "       width=\"24px\">\n",
              "    <path d=\"M0 0h24v24H0V0z\" fill=\"none\"/>\n",
              "    <path d=\"M18.56 5.44l.94 2.06.94-2.06 2.06-.94-2.06-.94-.94-2.06-.94 2.06-2.06.94zm-11 1L8.5 8.5l.94-2.06 2.06-.94-2.06-.94L8.5 2.5l-.94 2.06-2.06.94zm10 10l.94 2.06.94-2.06 2.06-.94-2.06-.94-.94-2.06-.94 2.06-2.06.94z\"/><path d=\"M17.41 7.96l-1.37-1.37c-.4-.4-.92-.59-1.43-.59-.52 0-1.04.2-1.43.59L10.3 9.45l-7.72 7.72c-.78.78-.78 2.05 0 2.83L4 21.41c.39.39.9.59 1.41.59.51 0 1.02-.2 1.41-.59l7.78-7.78 2.81-2.81c.8-.78.8-2.07 0-2.86zM5.41 20L4 18.59l7.72-7.72 1.47 1.35L5.41 20z\"/>\n",
              "  </svg>\n",
              "      </button>\n",
              "      \n",
              "  <style>\n",
              "    .colab-df-container {\n",
              "      display:flex;\n",
              "      flex-wrap:wrap;\n",
              "      gap: 12px;\n",
              "    }\n",
              "\n",
              "    .colab-df-convert {\n",
              "      background-color: #E8F0FE;\n",
              "      border: none;\n",
              "      border-radius: 50%;\n",
              "      cursor: pointer;\n",
              "      display: none;\n",
              "      fill: #1967D2;\n",
              "      height: 32px;\n",
              "      padding: 0 0 0 0;\n",
              "      width: 32px;\n",
              "    }\n",
              "\n",
              "    .colab-df-convert:hover {\n",
              "      background-color: #E2EBFA;\n",
              "      box-shadow: 0px 1px 2px rgba(60, 64, 67, 0.3), 0px 1px 3px 1px rgba(60, 64, 67, 0.15);\n",
              "      fill: #174EA6;\n",
              "    }\n",
              "\n",
              "    [theme=dark] .colab-df-convert {\n",
              "      background-color: #3B4455;\n",
              "      fill: #D2E3FC;\n",
              "    }\n",
              "\n",
              "    [theme=dark] .colab-df-convert:hover {\n",
              "      background-color: #434B5C;\n",
              "      box-shadow: 0px 1px 3px 1px rgba(0, 0, 0, 0.15);\n",
              "      filter: drop-shadow(0px 1px 2px rgba(0, 0, 0, 0.3));\n",
              "      fill: #FFFFFF;\n",
              "    }\n",
              "  </style>\n",
              "\n",
              "      <script>\n",
              "        const buttonEl =\n",
              "          document.querySelector('#df-42997b59-760a-4a5f-84a9-233d2eeacf98 button.colab-df-convert');\n",
              "        buttonEl.style.display =\n",
              "          google.colab.kernel.accessAllowed ? 'block' : 'none';\n",
              "\n",
              "        async function convertToInteractive(key) {\n",
              "          const element = document.querySelector('#df-42997b59-760a-4a5f-84a9-233d2eeacf98');\n",
              "          const dataTable =\n",
              "            await google.colab.kernel.invokeFunction('convertToInteractive',\n",
              "                                                     [key], {});\n",
              "          if (!dataTable) return;\n",
              "\n",
              "          const docLinkHtml = 'Like what you see? Visit the ' +\n",
              "            '<a target=\"_blank\" href=https://colab.research.google.com/notebooks/data_table.ipynb>data table notebook</a>'\n",
              "            + ' to learn more about interactive tables.';\n",
              "          element.innerHTML = '';\n",
              "          dataTable['output_type'] = 'display_data';\n",
              "          await google.colab.output.renderOutput(dataTable, element);\n",
              "          const docLink = document.createElement('div');\n",
              "          docLink.innerHTML = docLinkHtml;\n",
              "          element.appendChild(docLink);\n",
              "        }\n",
              "      </script>\n",
              "    </div>\n",
              "  </div>\n",
              "  "
            ]
          },
          "metadata": {},
          "execution_count": 11
        }
      ],
      "source": [
        "data = pd.read_csv('/content/DT.csv')\n",
        "data.head(7)"
      ]
    },
    {
      "cell_type": "code",
      "source": [
        "\n",
        "def logger(val,total,predc='',brnc='',coln=''):\n",
        "\n",
        "  \n",
        "  try:\n",
        "    val=int(val)/total\n",
        "    # print(coln,brnc,end= '  ')\n",
        "    return val*math.log2(val)\n",
        "  except:\n",
        "    print('(NO branch!!) ', coln,' ' ,brnc,'  ',predc)\n",
        "    return 0"
      ],
      "metadata": {
        "id": "1Au8TnaSuq6f"
      },
      "execution_count": 64,
      "outputs": []
    },
    {
      "cell_type": "code",
      "source": [
        "\n",
        "def edgechecker(col, coln, cat):\n",
        "\n",
        "    loctotal = len(col)\n",
        "    bc_cnt = Counter(col['BC'])\n",
        "    # print(total,col)\n",
        "    main_inf_gain = -(logger(bc_cnt['yes'], loctotal, 'NO', cat,\n",
        "                             coln) + logger(bc_cnt['no'], loctotal, 'YES', cat, coln))\n",
        "    return main_inf_gain*(loctotal/20)\n"
      ],
      "metadata": {
        "id": "NIl5bkBhYtLZ"
      },
      "execution_count": 90,
      "outputs": []
    },
    {
      "cell_type": "code",
      "source": [
        "def ig2(col,coln,brnc,total):\n",
        "\n",
        "  loctotal=len(col)\n",
        "  bc_cnt=Counter(col['BC'])\n",
        "  # print(loctotal,bc_cnt,total)\n",
        "  main_inf_gain=-(logger(bc_cnt['yes'] ,loctotal ,'NO',brnc,coln ) + logger(bc_cnt['no'] ,loctotal,'YES' ,brnc,coln )  )\n",
        "  return main_inf_gain*(loctotal/total)"
      ],
      "metadata": {
        "id": "l8WjG_rMy329"
      },
      "execution_count": 39,
      "outputs": []
    },
    {
      "cell_type": "code",
      "source": [
        "\n",
        "\n",
        "def runner(data):\n",
        "  cols=set(['age','edu','incm','Mart stt'])\n",
        "  \n",
        "\n",
        "  tempstore={}\n",
        "  total=len(data)\n",
        "  class_gain=ig2(data,'BC','',total)\n",
        "  print(class_gain)\n",
        "  # print(total)\n",
        "\n",
        "  for col in cols:\n",
        "\n",
        "    age_cata=Counter(data[col])\n",
        "    \n",
        "    age_ig=0\n",
        "    for cat in age_cata:\n",
        "      # print(cat)\n",
        "      dd=data[data[col].str.contains(cat)]\n",
        "      age_ig+=ig2(dd,col,cat,total)\n",
        "    print('information gain for  '+ col+ ' = ',class_gain- age_ig)  \n",
        "    tempstore[col]=class_gain- age_ig\n",
        "\n",
        "\n",
        "\n",
        "  max(tempstore)    \n",
        "\n",
        "  arr=sorted(tempstore.items(),key=lambda x:x[1])\n",
        "  return arr[-1]\n",
        "\n"
      ],
      "metadata": {
        "id": "-OKE0oeuxeSa"
      },
      "execution_count": 14,
      "outputs": []
    },
    {
      "cell_type": "code",
      "source": [
        "# todo is to genereatet the tree procedurally\n",
        "# if the roots child node have Y/N then add it to children\n",
        "# else find the next child ROOT\n",
        "\n",
        "\n",
        "\n",
        "\n",
        "\n",
        "\n",
        "\n",
        "\n",
        "\n"
      ],
      "metadata": {
        "id": "C9o9sxZ-Xc30"
      },
      "execution_count": null,
      "outputs": []
    },
    {
      "cell_type": "code",
      "source": [
        "dd=data[data['Mart stt'].str.contains('single')]\n",
        "# print(dd)\n",
        "dd # for each replacement of data"
      ],
      "metadata": {
        "colab": {
          "base_uri": "https://localhost:8080/",
          "height": 425
        },
        "id": "lq9Wd7vuzoMW",
        "outputId": "b635a2b3-81ab-4643-dd35-df2c130bbad0"
      },
      "execution_count": 35,
      "outputs": [
        {
          "output_type": "execute_result",
          "data": {
            "text/plain": [
              "      age       edu  incm Mart stt   BC\n",
              "0   36-55    master  high   single  yes\n",
              "1   18-35    high s   low   single   no\n",
              "2   36-55    master   low   single  yes\n",
              "3   18-35  bachelor  high   single   no\n",
              "4     <18    high s   low   single  yes\n",
              "7     >55  bachelor  high   single  yes\n",
              "10  36-55    master  high   single  yes\n",
              "11    >55    master  high   single  yes\n",
              "12    <18    high s  high   single   no\n",
              "13  36-55    master   low   single  yes\n",
              "14  36-55    high s   low   single  yes\n",
              "18    >55  bachelor   low   single  yes"
            ],
            "text/html": [
              "\n",
              "  <div id=\"df-71510a0d-67d6-4a73-b062-e5c74317dea8\">\n",
              "    <div class=\"colab-df-container\">\n",
              "      <div>\n",
              "<style scoped>\n",
              "    .dataframe tbody tr th:only-of-type {\n",
              "        vertical-align: middle;\n",
              "    }\n",
              "\n",
              "    .dataframe tbody tr th {\n",
              "        vertical-align: top;\n",
              "    }\n",
              "\n",
              "    .dataframe thead th {\n",
              "        text-align: right;\n",
              "    }\n",
              "</style>\n",
              "<table border=\"1\" class=\"dataframe\">\n",
              "  <thead>\n",
              "    <tr style=\"text-align: right;\">\n",
              "      <th></th>\n",
              "      <th>age</th>\n",
              "      <th>edu</th>\n",
              "      <th>incm</th>\n",
              "      <th>Mart stt</th>\n",
              "      <th>BC</th>\n",
              "    </tr>\n",
              "  </thead>\n",
              "  <tbody>\n",
              "    <tr>\n",
              "      <th>0</th>\n",
              "      <td>36-55</td>\n",
              "      <td>master</td>\n",
              "      <td>high</td>\n",
              "      <td>single</td>\n",
              "      <td>yes</td>\n",
              "    </tr>\n",
              "    <tr>\n",
              "      <th>1</th>\n",
              "      <td>18-35</td>\n",
              "      <td>high s</td>\n",
              "      <td>low</td>\n",
              "      <td>single</td>\n",
              "      <td>no</td>\n",
              "    </tr>\n",
              "    <tr>\n",
              "      <th>2</th>\n",
              "      <td>36-55</td>\n",
              "      <td>master</td>\n",
              "      <td>low</td>\n",
              "      <td>single</td>\n",
              "      <td>yes</td>\n",
              "    </tr>\n",
              "    <tr>\n",
              "      <th>3</th>\n",
              "      <td>18-35</td>\n",
              "      <td>bachelor</td>\n",
              "      <td>high</td>\n",
              "      <td>single</td>\n",
              "      <td>no</td>\n",
              "    </tr>\n",
              "    <tr>\n",
              "      <th>4</th>\n",
              "      <td>&lt;18</td>\n",
              "      <td>high s</td>\n",
              "      <td>low</td>\n",
              "      <td>single</td>\n",
              "      <td>yes</td>\n",
              "    </tr>\n",
              "    <tr>\n",
              "      <th>7</th>\n",
              "      <td>&gt;55</td>\n",
              "      <td>bachelor</td>\n",
              "      <td>high</td>\n",
              "      <td>single</td>\n",
              "      <td>yes</td>\n",
              "    </tr>\n",
              "    <tr>\n",
              "      <th>10</th>\n",
              "      <td>36-55</td>\n",
              "      <td>master</td>\n",
              "      <td>high</td>\n",
              "      <td>single</td>\n",
              "      <td>yes</td>\n",
              "    </tr>\n",
              "    <tr>\n",
              "      <th>11</th>\n",
              "      <td>&gt;55</td>\n",
              "      <td>master</td>\n",
              "      <td>high</td>\n",
              "      <td>single</td>\n",
              "      <td>yes</td>\n",
              "    </tr>\n",
              "    <tr>\n",
              "      <th>12</th>\n",
              "      <td>&lt;18</td>\n",
              "      <td>high s</td>\n",
              "      <td>high</td>\n",
              "      <td>single</td>\n",
              "      <td>no</td>\n",
              "    </tr>\n",
              "    <tr>\n",
              "      <th>13</th>\n",
              "      <td>36-55</td>\n",
              "      <td>master</td>\n",
              "      <td>low</td>\n",
              "      <td>single</td>\n",
              "      <td>yes</td>\n",
              "    </tr>\n",
              "    <tr>\n",
              "      <th>14</th>\n",
              "      <td>36-55</td>\n",
              "      <td>high s</td>\n",
              "      <td>low</td>\n",
              "      <td>single</td>\n",
              "      <td>yes</td>\n",
              "    </tr>\n",
              "    <tr>\n",
              "      <th>18</th>\n",
              "      <td>&gt;55</td>\n",
              "      <td>bachelor</td>\n",
              "      <td>low</td>\n",
              "      <td>single</td>\n",
              "      <td>yes</td>\n",
              "    </tr>\n",
              "  </tbody>\n",
              "</table>\n",
              "</div>\n",
              "      <button class=\"colab-df-convert\" onclick=\"convertToInteractive('df-71510a0d-67d6-4a73-b062-e5c74317dea8')\"\n",
              "              title=\"Convert this dataframe to an interactive table.\"\n",
              "              style=\"display:none;\">\n",
              "        \n",
              "  <svg xmlns=\"http://www.w3.org/2000/svg\" height=\"24px\"viewBox=\"0 0 24 24\"\n",
              "       width=\"24px\">\n",
              "    <path d=\"M0 0h24v24H0V0z\" fill=\"none\"/>\n",
              "    <path d=\"M18.56 5.44l.94 2.06.94-2.06 2.06-.94-2.06-.94-.94-2.06-.94 2.06-2.06.94zm-11 1L8.5 8.5l.94-2.06 2.06-.94-2.06-.94L8.5 2.5l-.94 2.06-2.06.94zm10 10l.94 2.06.94-2.06 2.06-.94-2.06-.94-.94-2.06-.94 2.06-2.06.94z\"/><path d=\"M17.41 7.96l-1.37-1.37c-.4-.4-.92-.59-1.43-.59-.52 0-1.04.2-1.43.59L10.3 9.45l-7.72 7.72c-.78.78-.78 2.05 0 2.83L4 21.41c.39.39.9.59 1.41.59.51 0 1.02-.2 1.41-.59l7.78-7.78 2.81-2.81c.8-.78.8-2.07 0-2.86zM5.41 20L4 18.59l7.72-7.72 1.47 1.35L5.41 20z\"/>\n",
              "  </svg>\n",
              "      </button>\n",
              "      \n",
              "  <style>\n",
              "    .colab-df-container {\n",
              "      display:flex;\n",
              "      flex-wrap:wrap;\n",
              "      gap: 12px;\n",
              "    }\n",
              "\n",
              "    .colab-df-convert {\n",
              "      background-color: #E8F0FE;\n",
              "      border: none;\n",
              "      border-radius: 50%;\n",
              "      cursor: pointer;\n",
              "      display: none;\n",
              "      fill: #1967D2;\n",
              "      height: 32px;\n",
              "      padding: 0 0 0 0;\n",
              "      width: 32px;\n",
              "    }\n",
              "\n",
              "    .colab-df-convert:hover {\n",
              "      background-color: #E2EBFA;\n",
              "      box-shadow: 0px 1px 2px rgba(60, 64, 67, 0.3), 0px 1px 3px 1px rgba(60, 64, 67, 0.15);\n",
              "      fill: #174EA6;\n",
              "    }\n",
              "\n",
              "    [theme=dark] .colab-df-convert {\n",
              "      background-color: #3B4455;\n",
              "      fill: #D2E3FC;\n",
              "    }\n",
              "\n",
              "    [theme=dark] .colab-df-convert:hover {\n",
              "      background-color: #434B5C;\n",
              "      box-shadow: 0px 1px 3px 1px rgba(0, 0, 0, 0.15);\n",
              "      filter: drop-shadow(0px 1px 2px rgba(0, 0, 0, 0.3));\n",
              "      fill: #FFFFFF;\n",
              "    }\n",
              "  </style>\n",
              "\n",
              "      <script>\n",
              "        const buttonEl =\n",
              "          document.querySelector('#df-71510a0d-67d6-4a73-b062-e5c74317dea8 button.colab-df-convert');\n",
              "        buttonEl.style.display =\n",
              "          google.colab.kernel.accessAllowed ? 'block' : 'none';\n",
              "\n",
              "        async function convertToInteractive(key) {\n",
              "          const element = document.querySelector('#df-71510a0d-67d6-4a73-b062-e5c74317dea8');\n",
              "          const dataTable =\n",
              "            await google.colab.kernel.invokeFunction('convertToInteractive',\n",
              "                                                     [key], {});\n",
              "          if (!dataTable) return;\n",
              "\n",
              "          const docLinkHtml = 'Like what you see? Visit the ' +\n",
              "            '<a target=\"_blank\" href=https://colab.research.google.com/notebooks/data_table.ipynb>data table notebook</a>'\n",
              "            + ' to learn more about interactive tables.';\n",
              "          element.innerHTML = '';\n",
              "          dataTable['output_type'] = 'display_data';\n",
              "          await google.colab.output.renderOutput(dataTable, element);\n",
              "          const docLink = document.createElement('div');\n",
              "          docLink.innerHTML = docLinkHtml;\n",
              "          element.appendChild(docLink);\n",
              "        }\n",
              "      </script>\n",
              "    </div>\n",
              "  </div>\n",
              "  "
            ]
          },
          "metadata": {},
          "execution_count": 35
        }
      ]
    },
    {
      "cell_type": "code",
      "source": [
        "runner(data)"
      ],
      "metadata": {
        "colab": {
          "base_uri": "https://localhost:8080/"
        },
        "id": "7aCHCCPSRYpq",
        "outputId": "aef2e244-a75e-4057-ee32-6b9370192e07"
      },
      "execution_count": 46,
      "outputs": [
        {
          "output_type": "stream",
          "name": "stdout",
          "text": [
            "0.9709505944546686\n",
            "information gain for  Mart stt =  0.1024101186092029\n",
            "information gain for  edu =  0.14354652412251911\n",
            "information gain for  incm =  0.03030514483932223\n",
            "(NO branch!!)  age   18-35    NO\n",
            "(NO branch!!)  age   >55    YES\n",
            "information gain for  age =  0.45143261817650915\n"
          ]
        },
        {
          "output_type": "execute_result",
          "data": {
            "text/plain": [
              "('age', 0.45143261817650915)"
            ]
          },
          "metadata": {},
          "execution_count": 46
        }
      ]
    },
    {
      "cell_type": "code",
      "source": [
        "ig2(data,'age','18-35',20)"
      ],
      "metadata": {
        "colab": {
          "base_uri": "https://localhost:8080/"
        },
        "id": "Cqw9lYe0WPz7",
        "outputId": "443eddec-7d2e-4b6f-be9d-bacb6a2f83a9"
      },
      "execution_count": 54,
      "outputs": [
        {
          "output_type": "execute_result",
          "data": {
            "text/plain": [
              "0.9709505944546686"
            ]
          },
          "metadata": {},
          "execution_count": 54
        }
      ]
    },
    {
      "cell_type": "code",
      "source": [
        "\n",
        "\n",
        "\n",
        "for cat in  Counter(data['age']):\n",
        "\n",
        "  col,cat='age',cat\n",
        "\n",
        "  dd = data[data[col].str.contains(cat)]\n",
        "  xx=edgechecker(dd, col, cat)\n",
        "  print('>>>>>>>',xx==0,xx)"
      ],
      "metadata": {
        "id": "BjW4P_CdaY5T",
        "outputId": "09239419-91f2-414e-f45c-c3aeb03ca49f",
        "colab": {
          "base_uri": "https://localhost:8080/"
        }
      },
      "execution_count": 91,
      "outputs": [
        {
          "output_type": "stream",
          "name": "stdout",
          "text": [
            ">>>>>>> False 0.381773601169986\n",
            "(NO branch!!)  age   18-35    NO\n",
            ">>>>>>> True -0.0\n",
            ">>>>>>> False 0.13774437510817342\n",
            "(NO branch!!)  age   >55    YES\n",
            ">>>>>>> True -0.0\n"
          ]
        }
      ]
    },
    {
      "cell_type": "code",
      "source": [
        "age_cata = Counter(data[col])\n",
        "age_cata"
      ],
      "metadata": {
        "id": "_hTTVyqUfNom",
        "outputId": "0bf86516-b427-41dd-e851-b83aa227b8b1",
        "colab": {
          "base_uri": "https://localhost:8080/"
        }
      },
      "execution_count": 74,
      "outputs": [
        {
          "output_type": "execute_result",
          "data": {
            "text/plain": [
              "Counter({'36-55': 8, '18-35': 4, '<18': 3, '>55': 5})"
            ]
          },
          "metadata": {},
          "execution_count": 74
        }
      ]
    }
  ]
}