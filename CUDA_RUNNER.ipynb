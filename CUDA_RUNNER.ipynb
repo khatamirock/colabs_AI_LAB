{
  "nbformat": 4,
  "nbformat_minor": 0,
  "metadata": {
    "colab": {
      "provenance": [],
      "gpuType": "T4",
      "mount_file_id": "17L6sW5OLVvqPBkVff-rMrqmZBqrrWSVk",
      "authorship_tag": "ABX9TyMOlVvMsJGcqEu7YjLiTEzD",
      "include_colab_link": true
    },
    "kernelspec": {
      "name": "python3",
      "display_name": "Python 3"
    },
    "language_info": {
      "name": "python"
    },
    "accelerator": "GPU"
  },
  "cells": [
    {
      "cell_type": "markdown",
      "metadata": {
        "id": "view-in-github",
        "colab_type": "text"
      },
      "source": [
        "<a href=\"https://colab.research.google.com/github/khatamirock/colabs_AI_LAB/blob/main/CUDA_RUNNER.ipynb\" target=\"_parent\"><img src=\"https://colab.research.google.com/assets/colab-badge.svg\" alt=\"Open In Colab\"/></a>"
      ]
    },
    {
      "cell_type": "markdown",
      "source": [
        "## main thing to install\n"
      ],
      "metadata": {
        "id": "ff9CrSVBmwID"
      }
    },
    {
      "cell_type": "markdown",
      "source": [
        "## main thing to install"
      ],
      "metadata": {
        "id": "aiIT2Oshm0zI"
      }
    },
    {
      "cell_type": "code",
      "source": [
        "!pip install git+https://github.com/andreinechaev/nvcc4jupyter.git\n",
        "%load_ext nvcc_plugin\n"
      ],
      "metadata": {
        "id": "9DOoFCYygjq4",
        "colab": {
          "base_uri": "https://localhost:8080/"
        },
        "outputId": "39c460b2-de22-4795-c0eb-e3458e9c0e3b"
      },
      "execution_count": 6,
      "outputs": [
        {
          "output_type": "stream",
          "name": "stdout",
          "text": [
            "Collecting git+https://github.com/andreinechaev/nvcc4jupyter.git\n",
            "  Cloning https://github.com/andreinechaev/nvcc4jupyter.git to /tmp/pip-req-build-m1d2qjd6\n",
            "  Running command git clone --filter=blob:none --quiet https://github.com/andreinechaev/nvcc4jupyter.git /tmp/pip-req-build-m1d2qjd6\n",
            "  Resolved https://github.com/andreinechaev/nvcc4jupyter.git to commit aac710a35f52bb78ab34d2e52517237941399eff\n",
            "  Preparing metadata (setup.py) ... \u001b[?25l\u001b[?25hdone\n",
            "Building wheels for collected packages: NVCCPlugin\n",
            "  Building wheel for NVCCPlugin (setup.py) ... \u001b[?25l\u001b[?25hdone\n",
            "  Created wheel for NVCCPlugin: filename=NVCCPlugin-0.0.2-py3-none-any.whl size=4287 sha256=6a435e2ace4218eba5217ceef4c7cc739f43fb6f221ccd56b0c88bc7d59f539c\n",
            "  Stored in directory: /tmp/pip-ephem-wheel-cache-ajryxmag/wheels/a8/b9/18/23f8ef71ceb0f63297dd1903aedd067e6243a68ea756d6feea\n",
            "Successfully built NVCCPlugin\n",
            "Installing collected packages: NVCCPlugin\n",
            "Successfully installed NVCCPlugin-0.0.2\n",
            "created output directory at /content/src\n",
            "Out bin /content/result.out\n"
          ]
        }
      ]
    },
    {
      "cell_type": "code",
      "execution_count": null,
      "metadata": {
        "colab": {
          "base_uri": "https://localhost:8080/"
        },
        "id": "sANXJNqAgHXD",
        "outputId": "e631b647-4c8c-4f38-d5dd-8d8c93ae3f83"
      },
      "outputs": [
        {
          "output_type": "stream",
          "name": "stdout",
          "text": [
            "[Vector multiplication of 50000 elements]\n",
            "2.000000 1.000000 || \n"
          ]
        }
      ],
      "source": []
    },
    {
      "cell_type": "markdown",
      "source": [
        "### the make file config....\n",
        "```\n",
        "IDIR=./\n",
        "COMPILER=nvcc\n",
        "STRR=--relocatable-device-code=true\n",
        "OPNCV=/usr/include/opencv4\n",
        "COMPILER_FLAGS=-I$(IDIR) -I/usr/local/cuda/include -lcuda -I$(OPNCV) -lopencv_core -lopencv_highgui -lopencv_imgproc -lopencv_imgcodecs --std c++17\n",
        "\n",
        ".PHONY: clean build run\n",
        "\n",
        "build:\n",
        "\t$(COMPILER) $(STRR) $(COMPILER_FLAGS) imgg.cu -o imgg.exe & clear\n",
        "\n",
        "clean:\n",
        "\trm -f simple.exe & clear\n",
        "\n",
        "run:\n",
        "\t./imgg.exe\n",
        "\n",
        "all: clean build run\n",
        "\n",
        "```\n",
        "\n",
        "`"
      ],
      "metadata": {
        "id": "xd9W7GDBnGIs"
      }
    },
    {
      "cell_type": "markdown",
      "source": [
        "# hpp include sections...\n",
        "\n",
        "\n",
        "```\n",
        "#include <opencv2/core.hpp>\n",
        "#include <opencv2/imgproc.hpp>\n",
        "#include <opencv2/imgcodecs.hpp>\n",
        "#include <iostream>\n",
        "#include <stdio.h>\n",
        "#include <tuple>\n",
        "#include <string>\n",
        "\n",
        "```\n",
        "if youve included the **openCV** in the make file with the last foldername *opencv2* then be careful to remove it in here... making it only\n",
        "\n",
        "```\n",
        "#include <core.hpp>\n",
        "```\n",
        "\n",
        "**Lastly include the header into main cu file**\n",
        "\n",
        "\n",
        "```\n",
        "#include \"storage.hpp\"\n",
        "or..\n",
        "#include \"convertRGBToGrey.hpp\"\n",
        "or ......\n",
        "\n",
        "```\n",
        "\n",
        "\n",
        "\n",
        "\n",
        "\n"
      ],
      "metadata": {
        "id": "RP2CqM1hnYHi"
      }
    },
    {
      "cell_type": "code",
      "source": [
        "# !make build\n",
        "%cd /content/OPEN_CV_OK\n",
        "# !pwd\n",
        "!make clean build\n",
        "\n"
      ],
      "metadata": {
        "colab": {
          "base_uri": "https://localhost:8080/"
        },
        "id": "2INV0KMCNZld",
        "outputId": "fde1c0b4-ee61-4b5a-a84b-53d20fd3ad02"
      },
      "execution_count": 97,
      "outputs": [
        {
          "output_type": "stream",
          "name": "stdout",
          "text": [
            "/content/OPEN_CV_OK\n",
            "rm -f simple.exe & clear\n",
            "\u001b[H\u001b[2Jnvcc --relocatable-device-code=true -I./ -I/usr/local/cuda/include -lcuda -I/usr/include/opencv4 -lopencv_core -lopencv_highgui -lopencv_imgproc -lopencv_imgcodecs --std c++17 imgg.cu -o imgg.exe & clear\n",
            "\u001b[H\u001b[2J\u001b[01m\u001b[0m\u001b[01mimgg.cu(9)\u001b[0m: \u001b[01;35mwarning\u001b[0m #550-D: parameter \u001b[01m\"result\"\u001b[0m was set but never used\n",
            "\n",
            "\u001b[01m\u001b[0m\u001b[01mimgg.cu(22)\u001b[0m: \u001b[01;35mwarning\u001b[0m #550-D: parameter \u001b[01m\"result\"\u001b[0m was set but never used\n",
            "\n"
          ]
        }
      ]
    },
    {
      "cell_type": "code",
      "source": [
        "!make run\n",
        "# successfull run but cou"
      ],
      "metadata": {
        "colab": {
          "base_uri": "https://localhost:8080/"
        },
        "id": "SKGS62_YjpWo",
        "outputId": "18ebc5d8-bfc5-4d85-c4bc-3be87d5cd371"
      },
      "execution_count": 98,
      "outputs": [
        {
          "output_type": "stream",
          "name": "stdout",
          "text": [
            "./imgg.exe\n",
            "Parsing CLI arguments\n",
            "inputImage: sloth.png outputImage: grey-sloth.png currentPartId: test threadsPerBlock: 256\n",
            "Reading Image From File\n",
            "Rows: 1000 Columns: 1333\n",
            "Allocating GPU device memory\n",
            "Copying from Host to Device\n",
            "Executing kernel\n",
            "Copying from Device to Host\n",
            "Deallocating GPU device memory\n",
            "Cleaning CUDA device\n",
            "CPU converting image file to grayscale\n",
            "Comparing actual and test grayscale pixel arrays\n",
            "meanImagePixelDifference: 8.000000 scaledMeanDifferencePercentage: 0.031373\n",
            "Mean difference percentage: 3.13726\n"
          ]
        }
      ]
    }
  ]
}