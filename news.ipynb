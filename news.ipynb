{
  "cells": [
    {
      "cell_type": "markdown",
      "metadata": {
        "id": "view-in-github",
        "colab_type": "text"
      },
      "source": [
        "<a href=\"https://colab.research.google.com/github/khatamirock/colabs_AI_LAB/blob/main/news.ipynb\" target=\"_parent\"><img src=\"https://colab.research.google.com/assets/colab-badge.svg\" alt=\"Open In Colab\"/></a>"
      ]
    },
    {
      "cell_type": "markdown",
      "source": [
        "# SCRAPY SECn"
      ],
      "metadata": {
        "id": "35hrMg9nxspG"
      }
    },
    {
      "cell_type": "code",
      "execution_count": null,
      "metadata": {
        "id": "wFM9Rw41etWH"
      },
      "outputs": [],
      "source": [
        "\n",
        "import requests\n",
        "url='https://www.prothomalo.com/bangladesh/rha1q55dri'\n",
        "x = requests.get(url)\n",
        "\n",
        "# print(x.text)"
      ]
    },
    {
      "cell_type": "code",
      "execution_count": null,
      "metadata": {
        "id": "S65AK6KZixyL"
      },
      "outputs": [],
      "source": [
        "from bs4 import BeautifulSoup as bs"
      ]
    },
    {
      "cell_type": "code",
      "source": [
        "def newspage(url):\n",
        "  x = requests.get(url)\n",
        "  soup = bs( x.text  , 'html.parser')\n",
        "  # print(soup)\n",
        "  # print(soup)\n",
        "  # news=soup.select('.news-content p')\n",
        "  \n",
        "  \n",
        "  return soup"
      ],
      "metadata": {
        "id": "hVX5GiWfXG53"
      },
      "execution_count": null,
      "outputs": []
    },
    {
      "cell_type": "code",
      "execution_count": null,
      "metadata": {
        "id": "QhEqDM4vjX8g"
      },
      "outputs": [],
      "source": [
        "base='https://www.prothomalo.com/bangladesh/rha1q55dri'\n",
        "soup = bs( x.text  , 'html.parser')\n",
        "# print(soup)\n",
        "# lists=soup.select('.latest-news-top a')\n",
        "# lists\n",
        "# for lst in lists[:2]:\n",
        "#   url=lst['href']\n",
        "#   print(url,'>>>> ',lst.strong.text)\n",
        "#   print(newspage(base+url))\n",
        "\n",
        "# soup\n",
        "# lists=soup.select('tags')\n",
        "# lists\n",
        "# "
      ]
    },
    {
      "cell_type": "code",
      "source": [
        "import json\n",
        "res = soup.select('script[type=\"application/ld+json\"]')\n",
        "xx=res[1].text\n",
        "# print(xx)\n",
        "jsono = json.loads(xx)\n",
        "jsono['articleBody']"
      ],
      "metadata": {
        "id": "hQ__UrWlXTNW",
        "outputId": "71b3cc74-97bd-44a7-8bbb-63ac2eabb32f",
        "colab": {
          "base_uri": "https://localhost:8080/",
          "height": 191
        }
      },
      "execution_count": null,
      "outputs": [
        {
          "output_type": "execute_result",
          "data": {
            "text/plain": [
              "'&lt;p&gt;বাংলাদেশে অবাধ ও সুষ্ঠু নির্বাচন চায় যুক্তরাষ্ট্র। এই লক্ষ্যে বাংলাদেশের নাগরিক সমাজের সঙ্গে যুক্তরাষ্ট্র কাজ করছে বলে জানিয়েছেন দেশটির মধ্য ও দক্ষিণ এশিয়াবিষয়ক উপসহকারী পররাষ্ট্রমন্ত্রী আফরিন আক্তার। তিনি আজ রোববার সাংবাদিকদের প্রশ্নের জবাবে এ কথা বলেন।&lt;/p&gt;.&lt;p&gt;আফরিন আক্তার এক সংক্ষিপ্ত সফরে গতকাল শনিবার ঢাকায় আসেন। তিনি আজ বাংলাদেশের ভারপ্রাপ্ত পররাষ্ট্রসচিব রিয়ার অ্যাডমিরাল (অব.) মো. খুরশেদ আলমের সঙ্গে বৈঠক করেন।&lt;/p&gt;.&lt;p&gt;বৈঠক শেষে মার্কিন উপসহকারী পররাষ্ট্রমন্ত্রী আফরিন আক্তার সাংবাদিকদের বলেন, ‘আমি প্রথমবারের মতো বাংলাদেশে এসেছি। বাংলাদেশের সরকারি কর্মকর্তা, নাগরিক সমাজ ও সংশ্লিষ্টদের সঙ্গে কীভাবে আমরা একসঙ্গে কাজ করতে পারি, তা নিয়ে আলোচনা করার জন্য এসেছি।’ তিনি বলেন, দ্বিপক্ষীয় নানা বিষয়ের পাশাপাশি বাংলাদেশে অবাধ ও সুষ্ঠু নির্বাচনের বিষয়ে যুক্তরাষ্ট্রের সমর্থনের বিষয়ে ভারপ্রাপ্ত পররাষ্ট্রসচিবের সঙ্গে তাঁর আলোচনা হয়েছে।&lt;/p&gt;.&lt;p&gt;বাংলাদেশে অবাধ ও সুষ্ঠু নির্বাচনে যুক্তরাষ্ট্রের সমর্থনের বিষয়ে সাংবাদিকদের এক প্রশ্নের জবাবে আফরিন আক্তার বলেন, যুক্তরাষ্ট্রের ঢাকা মিশন এবং আন্তর্জাতিক সহযোগিতা সংস্থা–ইউএসএইডের বাংলাদেশ কার্যালয় আসন্ন নির্বাচন অবাধ, সুষ্ঠু ও নিরপেক্ষ করতে এ দেশের নাগরিক সমাজের সঙ্গে নিবিড়ভাবে কাজ করে যাচ্ছে।&lt;/p&gt;&lt;p&gt;রোহিঙ্গা সমস্যা সমাধানে যুক্তরাষ্ট্রের সহযোগিতা প্রসঙ্গে আফরিন আক্তার বলেন, রোহিঙ্গাদের ব্যাপারে বাংলাদেশের সঙ্গে কাজ করছে যুক্তরাষ্ট্র। রোহিঙ্গাদের সহায়তায় মার্কিন পররাষ্ট্রমন্ত্রী যে ১৭ কোটি ডলারের ঘোষণা দিয়েছেন, তা বাস্তবায়নে কীভাবে কাজ করা যায়, সে বিষয়ে ভারপ্রাপ্ত পররাষ্ট্রসচিবের সঙ্গে তাঁর আলোচনা হয়েছে। এ ছাড়া সামুদ্রিক নিরাপত্তা নিয়ে কথা হয়েছে। বঙ্গোপসাগরে কীভাবে মৎস্য ও খনিজ সম্পদের সর্বোচ্চ সুষ্ঠু ব্যবহার নিশ্চিত করা যায়, সেটাও আলোচনায় এসেছে।&lt;/p&gt;'"
            ],
            "application/vnd.google.colaboratory.intrinsic+json": {
              "type": "string"
            }
          },
          "metadata": {},
          "execution_count": 47
        }
      ]
    },
    {
      "cell_type": "code",
      "source": [
        "ls=newspage('https://www.bd-pratidin.com/country/2022/11/04/825792')\n",
        "def printer(st):\n",
        "  print(st)\n",
        "map(printer,ls.select('#bpsepnil p'))"
      ],
      "metadata": {
        "colab": {
          "base_uri": "https://localhost:8080/"
        },
        "id": "YWZfrpaHxIgQ",
        "outputId": "378812ee-4919-41b8-dfff-28ff9ce7e88f"
      },
      "execution_count": null,
      "outputs": [
        {
          "output_type": "execute_result",
          "data": {
            "text/plain": [
              "<map at 0x7f6b2a0130d0>"
            ]
          },
          "metadata": {},
          "execution_count": 5
        }
      ]
    },
    {
      "cell_type": "markdown",
      "source": [
        "# SELNM\n"
      ],
      "metadata": {
        "id": "SaYAlUcoxwuL"
      }
    },
    {
      "cell_type": "markdown",
      "source": [
        "# install\n"
      ],
      "metadata": {
        "id": "D6heQpQrAhU4"
      }
    },
    {
      "cell_type": "code",
      "source": [
        "!apt update\n",
        "!pip install xlsxwriter \n",
        "!apt install chromium-chromedriver\n",
        "!pip install selenium"
      ],
      "metadata": {
        "id": "jZ4HdiCQxzMz",
        "colab": {
          "base_uri": "https://localhost:8080/"
        },
        "outputId": "b8aee972-462e-49ad-df48-6423b2d8b5a8"
      },
      "execution_count": null,
      "outputs": [
        {
          "output_type": "stream",
          "name": "stdout",
          "text": [
            "\u001b[33m\r0% [Working]\u001b[0m\r            \rGet:1 https://cloud.r-project.org/bin/linux/ubuntu bionic-cran40/ InRelease [3,626 B]\n",
            "\u001b[33m\r0% [Waiting for headers] [Waiting for headers] [1 InRelease 0 B/3,626 B 0%] [Wa\u001b[0m\u001b[33m\r0% [Waiting for headers] [Waiting for headers] [Waiting for headers] [Connectin\u001b[0m\r                                                                               \rHit:2 http://archive.ubuntu.com/ubuntu bionic InRelease\n",
            "\u001b[33m\r0% [Waiting for headers] [Waiting for headers] [Waiting for headers] [Connectin\u001b[0m\u001b[33m\r0% [1 InRelease gpgv 3,626 B] [Waiting for headers] [Waiting for headers] [Wait\u001b[0m\r                                                                               \rGet:3 http://archive.ubuntu.com/ubuntu bionic-updates InRelease [88.7 kB]\n",
            "\u001b[33m\r0% [1 InRelease gpgv 3,626 B] [3 InRelease 14.2 kB/88.7 kB 16%] [Waiting for he\u001b[0m\r                                                                               \rIgn:4 https://developer.download.nvidia.com/compute/machine-learning/repos/ubuntu1804/x86_64  InRelease\n",
            "\u001b[33m\r0% [1 InRelease gpgv 3,626 B] [3 InRelease 15.6 kB/88.7 kB 18%] [Waiting for he\u001b[0m\r                                                                               \rGet:5 https://developer.download.nvidia.com/compute/cuda/repos/ubuntu1804/x86_64  InRelease [1,581 B]\n",
            "\u001b[33m\r0% [1 InRelease gpgv 3,626 B] [3 InRelease 15.6 kB/88.7 kB 18%] [Waiting for he\u001b[0m\r                                                                               \rHit:6 https://developer.download.nvidia.com/compute/machine-learning/repos/ubuntu1804/x86_64  Release\n",
            "Get:7 http://security.ubuntu.com/ubuntu bionic-security InRelease [88.7 kB]\n",
            "Get:8 http://ppa.launchpad.net/c2d4u.team/c2d4u4.0+/ubuntu bionic InRelease [15.9 kB]\n",
            "Get:9 http://archive.ubuntu.com/ubuntu bionic-backports InRelease [83.3 kB]\n",
            "Hit:10 http://ppa.launchpad.net/cran/libgit2/ubuntu bionic InRelease\n",
            "Get:11 https://cloud.r-project.org/bin/linux/ubuntu bionic-cran40/ Packages [98.9 kB]\n",
            "Get:12 http://ppa.launchpad.net/deadsnakes/ppa/ubuntu bionic InRelease [15.9 kB]\n",
            "Hit:13 http://ppa.launchpad.net/graphics-drivers/ppa/ubuntu bionic InRelease\n",
            "Get:14 https://developer.download.nvidia.com/compute/cuda/repos/ubuntu1804/x86_64  Packages [992 kB]\n",
            "Get:16 http://archive.ubuntu.com/ubuntu bionic-updates/main amd64 Packages [3,472 kB]\n",
            "Get:17 http://archive.ubuntu.com/ubuntu bionic-updates/restricted amd64 Packages [1,267 kB]\n",
            "Get:18 http://archive.ubuntu.com/ubuntu bionic-updates/universe amd64 Packages [2,332 kB]\n",
            "Get:19 http://ppa.launchpad.net/c2d4u.team/c2d4u4.0+/ubuntu bionic/main Sources [2,216 kB]\n",
            "Get:20 http://security.ubuntu.com/ubuntu bionic-security/restricted amd64 Packages [1,226 kB]\n",
            "Get:21 http://security.ubuntu.com/ubuntu bionic-security/universe amd64 Packages [1,554 kB]\n",
            "Get:22 http://ppa.launchpad.net/c2d4u.team/c2d4u4.0+/ubuntu bionic/main amd64 Packages [1,133 kB]\n",
            "Get:23 http://security.ubuntu.com/ubuntu bionic-security/main amd64 Packages [3,040 kB]\n",
            "Fetched 17.6 MB in 6s (3,014 kB/s)\n",
            "Reading package lists... Done\n",
            "Building dependency tree       \n",
            "Reading state information... Done\n",
            "28 packages can be upgraded. Run 'apt list --upgradable' to see them.\n",
            "Looking in indexes: https://pypi.org/simple, https://us-python.pkg.dev/colab-wheels/public/simple/\n",
            "Collecting xlsxwriter\n",
            "  Downloading XlsxWriter-3.0.3-py3-none-any.whl (149 kB)\n",
            "\u001b[K     |████████████████████████████████| 149 kB 4.8 MB/s \n",
            "\u001b[?25hInstalling collected packages: xlsxwriter\n",
            "Successfully installed xlsxwriter-3.0.3\n",
            "Reading package lists... Done\n",
            "Building dependency tree       \n",
            "Reading state information... Done\n",
            "The following package was automatically installed and is no longer required:\n",
            "  libnvidia-common-460\n",
            "Use 'apt autoremove' to remove it.\n",
            "The following additional packages will be installed:\n",
            "  chromium-browser chromium-browser-l10n chromium-codecs-ffmpeg-extra\n",
            "Suggested packages:\n",
            "  webaccounts-chromium-extension unity-chromium-extension\n",
            "The following NEW packages will be installed:\n",
            "  chromium-browser chromium-browser-l10n chromium-chromedriver\n",
            "  chromium-codecs-ffmpeg-extra\n",
            "0 upgraded, 4 newly installed, 0 to remove and 28 not upgraded.\n",
            "Need to get 91.7 MB of archives.\n",
            "After this operation, 309 MB of additional disk space will be used.\n",
            "Get:1 http://archive.ubuntu.com/ubuntu bionic-updates/universe amd64 chromium-codecs-ffmpeg-extra amd64 105.0.5195.102-0ubuntu0.18.04.1 [1,156 kB]\n",
            "Get:2 http://archive.ubuntu.com/ubuntu bionic-updates/universe amd64 chromium-browser amd64 105.0.5195.102-0ubuntu0.18.04.1 [80.1 MB]\n",
            "Get:3 http://archive.ubuntu.com/ubuntu bionic-updates/universe amd64 chromium-browser-l10n all 105.0.5195.102-0ubuntu0.18.04.1 [5,097 kB]\n",
            "Get:4 http://archive.ubuntu.com/ubuntu bionic-updates/universe amd64 chromium-chromedriver amd64 105.0.5195.102-0ubuntu0.18.04.1 [5,320 kB]\n",
            "Fetched 91.7 MB in 2s (45.4 MB/s)\n",
            "Selecting previously unselected package chromium-codecs-ffmpeg-extra.\n",
            "(Reading database ... 123942 files and directories currently installed.)\n",
            "Preparing to unpack .../chromium-codecs-ffmpeg-extra_105.0.5195.102-0ubuntu0.18.04.1_amd64.deb ...\n",
            "Unpacking chromium-codecs-ffmpeg-extra (105.0.5195.102-0ubuntu0.18.04.1) ...\n",
            "Selecting previously unselected package chromium-browser.\n",
            "Preparing to unpack .../chromium-browser_105.0.5195.102-0ubuntu0.18.04.1_amd64.deb ...\n",
            "Unpacking chromium-browser (105.0.5195.102-0ubuntu0.18.04.1) ...\n",
            "Selecting previously unselected package chromium-browser-l10n.\n",
            "Preparing to unpack .../chromium-browser-l10n_105.0.5195.102-0ubuntu0.18.04.1_all.deb ...\n",
            "Unpacking chromium-browser-l10n (105.0.5195.102-0ubuntu0.18.04.1) ...\n",
            "Selecting previously unselected package chromium-chromedriver.\n",
            "Preparing to unpack .../chromium-chromedriver_105.0.5195.102-0ubuntu0.18.04.1_amd64.deb ...\n",
            "Unpacking chromium-chromedriver (105.0.5195.102-0ubuntu0.18.04.1) ...\n",
            "Setting up chromium-codecs-ffmpeg-extra (105.0.5195.102-0ubuntu0.18.04.1) ...\n",
            "Setting up chromium-browser (105.0.5195.102-0ubuntu0.18.04.1) ...\n",
            "update-alternatives: using /usr/bin/chromium-browser to provide /usr/bin/x-www-browser (x-www-browser) in auto mode\n",
            "update-alternatives: using /usr/bin/chromium-browser to provide /usr/bin/gnome-www-browser (gnome-www-browser) in auto mode\n",
            "Setting up chromium-chromedriver (105.0.5195.102-0ubuntu0.18.04.1) ...\n",
            "Setting up chromium-browser-l10n (105.0.5195.102-0ubuntu0.18.04.1) ...\n",
            "Processing triggers for man-db (2.8.3-2ubuntu0.1) ...\n",
            "Processing triggers for hicolor-icon-theme (0.17-2) ...\n",
            "Processing triggers for mime-support (3.60ubuntu1) ...\n",
            "Processing triggers for libc-bin (2.27-3ubuntu1.6) ...\n",
            "Looking in indexes: https://pypi.org/simple, https://us-python.pkg.dev/colab-wheels/public/simple/\n",
            "Collecting selenium\n",
            "  Downloading selenium-4.6.0-py3-none-any.whl (5.2 MB)\n",
            "\u001b[K     |████████████████████████████████| 5.2 MB 6.0 MB/s \n",
            "\u001b[?25hCollecting trio~=0.17\n",
            "  Downloading trio-0.22.0-py3-none-any.whl (384 kB)\n",
            "\u001b[K     |████████████████████████████████| 384 kB 55.6 MB/s \n",
            "\u001b[?25hRequirement already satisfied: certifi>=2021.10.8 in /usr/local/lib/python3.7/dist-packages (from selenium) (2022.9.24)\n",
            "Collecting trio-websocket~=0.9\n",
            "  Downloading trio_websocket-0.9.2-py3-none-any.whl (16 kB)\n",
            "Collecting urllib3[socks]~=1.26\n",
            "  Downloading urllib3-1.26.12-py2.py3-none-any.whl (140 kB)\n",
            "\u001b[K     |████████████████████████████████| 140 kB 46.2 MB/s \n",
            "\u001b[?25hCollecting sniffio\n",
            "  Downloading sniffio-1.3.0-py3-none-any.whl (10 kB)\n",
            "Collecting async-generator>=1.9\n",
            "  Downloading async_generator-1.10-py3-none-any.whl (18 kB)\n",
            "Collecting exceptiongroup>=1.0.0rc9\n",
            "  Downloading exceptiongroup-1.0.1-py3-none-any.whl (12 kB)\n",
            "Requirement already satisfied: idna in /usr/local/lib/python3.7/dist-packages (from trio~=0.17->selenium) (2.10)\n",
            "Requirement already satisfied: sortedcontainers in /usr/local/lib/python3.7/dist-packages (from trio~=0.17->selenium) (2.4.0)\n",
            "Requirement already satisfied: attrs>=19.2.0 in /usr/local/lib/python3.7/dist-packages (from trio~=0.17->selenium) (22.1.0)\n",
            "Collecting outcome\n",
            "  Downloading outcome-1.2.0-py2.py3-none-any.whl (9.7 kB)\n",
            "Collecting wsproto>=0.14\n",
            "  Downloading wsproto-1.2.0-py3-none-any.whl (24 kB)\n",
            "Requirement already satisfied: PySocks!=1.5.7,<2.0,>=1.5.6 in /usr/local/lib/python3.7/dist-packages (from urllib3[socks]~=1.26->selenium) (1.7.1)\n",
            "Collecting h11<1,>=0.9.0\n",
            "  Downloading h11-0.14.0-py3-none-any.whl (58 kB)\n",
            "\u001b[K     |████████████████████████████████| 58 kB 5.0 MB/s \n",
            "\u001b[?25hRequirement already satisfied: typing-extensions in /usr/local/lib/python3.7/dist-packages (from h11<1,>=0.9.0->wsproto>=0.14->trio-websocket~=0.9->selenium) (4.1.1)\n",
            "Installing collected packages: sniffio, outcome, h11, exceptiongroup, async-generator, wsproto, urllib3, trio, trio-websocket, selenium\n",
            "  Attempting uninstall: urllib3\n",
            "    Found existing installation: urllib3 1.24.3\n",
            "    Uninstalling urllib3-1.24.3:\n",
            "      Successfully uninstalled urllib3-1.24.3\n",
            "\u001b[31mERROR: pip's dependency resolver does not currently take into account all the packages that are installed. This behaviour is the source of the following dependency conflicts.\n",
            "requests 2.23.0 requires urllib3!=1.25.0,!=1.25.1,<1.26,>=1.21.1, but you have urllib3 1.26.12 which is incompatible.\u001b[0m\n",
            "Successfully installed async-generator-1.10 exceptiongroup-1.0.1 h11-0.14.0 outcome-1.2.0 selenium-4.6.0 sniffio-1.3.0 trio-0.22.0 trio-websocket-0.9.2 urllib3-1.26.12 wsproto-1.2.0\n"
          ]
        }
      ]
    },
    {
      "cell_type": "markdown",
      "source": [
        "# WORKS"
      ],
      "metadata": {
        "id": "Rg9dCSV9AlHg"
      }
    },
    {
      "cell_type": "code",
      "source": [
        "from selenium import webdriver\n",
        "from bs4 import BeautifulSoup as bs\n",
        "\n",
        "def driversetup():\n",
        "    options = webdriver.ChromeOptions()\n",
        "    #run Selenium in headless mode\n",
        "    options.add_argument('--headless')\n",
        "    options.add_argument('--no-sandbox')\n",
        "    #overcome limited resource problems\n",
        "    options.add_argument('--disable-dev-shm-usage')\n",
        "    options.add_argument(\"lang=en\")\n",
        "    #open Browser in maximized mode\n",
        "    options.add_argument(\"start-maximized\")\n",
        "    #disable infobars\n",
        "    options.add_argument(\"disable-infobars\")\n",
        "    #disable extension\n",
        "    # options.add_argument(\"--disable-extensions\")\n",
        "    # options.add_argument(\"--incognito\")\n",
        "    options.add_argument(\"--disable-blink-features=AutomationControlled\")\n",
        "    \n",
        "    driver = webdriver.Chrome(options=options)\n",
        "\n",
        "    driver.execute_script(\"Object.defineProperty(navigator, 'webdriver', {get: () => undefined});\")\n",
        "\n",
        "    return driver"
      ],
      "metadata": {
        "id": "fMDmiE4G2aMF"
      },
      "execution_count": null,
      "outputs": []
    },
    {
      "cell_type": "code",
      "source": [
        "driver=driversetup()\n",
        "\n",
        "\n",
        "def pagesource(url):\n",
        "    driver.get(url)\n",
        "    soup = bs(driver.page_source)\n",
        "    # driver.close()\n",
        "    return soup\n",
        "\n",
        "def gettextnews(url):\n",
        "      # story-grid\n",
        "    # url1='https://www.prothomalo.com/world/pakistan/mdmgit24p2'\n",
        "    # driver2=driversetup()\n",
        "\n",
        "    xx=pagesource(url)\n",
        "    # xy=xx.select('.story-element-text')\n",
        "    # latest-news-top\n",
        "    xy=xx.select('.latest-news-top')# for every news link (the texts)\n",
        "    news=''\n",
        "    for x in xy:\n",
        "      news+=x.text\n",
        "    return news\n",
        "\n",
        "\n"
      ],
      "metadata": {
        "id": "CmR8zHkH11r0"
      },
      "execution_count": null,
      "outputs": []
    },
    {
      "cell_type": "markdown",
      "source": [
        "#for PROTHOM ALOE!!\n",
        "<!-- api collected ;))) -->\n",
        "<!--https://www.prothomalo.com/api/v1/collections/lifestyle?limit=4&fields=headline,url -->"
      ],
      "metadata": {
        "id": "Uo0KXhzk7Dpx"
      }
    },
    {
      "cell_type": "code",
      "source": [
        "import requests\n",
        "import json\n",
        "from selenium.webdriver.common.by import By\n",
        "driver2=driversetup()\n",
        "\n",
        "def parsebybs(url):  \n",
        "  x = requests.get(url)\n",
        "  soup = bs( x.text  , 'html.parser')\n",
        "  \n",
        "  res = soup.select('script[type=\"application/ld+json\"]')\n",
        "  jsonOb=res[1].text\n",
        "  # print(xx)\n",
        "  jsono = json.loads(jsonOb)\n",
        "  print(jsono['articleBody'])\n",
        "\n",
        "\n",
        "\n",
        "def proalospecial(url,clss,choice=None):\n",
        "  driver2.get(url)\n",
        "  # fOg1k\n",
        "  #  \"stories-set\"\n",
        "  ls=driver2.find_element(By.CLASS_NAME,clss)\n",
        "  if choice:\n",
        "    l=driver2.find_element(By.CLASS_NAME,choice)\n",
        "    return [ls,l]\n",
        "\n",
        "\n",
        "  return ls\n",
        "# /////////////  ############################################\n",
        "# ave : 7 sec\n",
        "    \n",
        "url='https://www.prothomalo.com/bangladesh'\n",
        "ls=proalospecial(url,'stories-set')\n",
        "# # print(ls)\n",
        "# # print(ls.text)\n",
        "# # driver2.close()\n",
        "\n",
        "lss=ls.find_elements(By.CLASS_NAME,\"wMFhj\")"
      ],
      "metadata": {
        "id": "BwMkRdskngAy"
      },
      "execution_count": null,
      "outputs": []
    },
    {
      "cell_type": "code",
      "source": [
        "\n",
        "# print(list(lss))\n",
        "# from collections import defaultdict\n",
        "# pnewsdict= defaultdict(list)\n",
        "\n",
        "\n",
        "# for x in lss:\n",
        "#   title=x.find_element(By.TAG_NAME,'a').get_attribute('aria-label')\n",
        "#   time=x.find_element(By.CLASS_NAME,'published-time')\n",
        "#   url=x.find_element(By.TAG_NAME,'a').get_attribute('href')\n",
        "#   print(title,'?////',time.text, '>>>>>',url)\n",
        "#   pnewsdict[title].append(url)\n",
        "\n",
        "# #   # print(\n",
        "\n",
        "# print(pnewsdict)\n",
        "\n",
        "for nw in pnewsdict:\n",
        "  url=pnewsdict[nw][0]\n",
        "  print(nw,url)\n",
        "  parsebybs(url)\n",
        "\n",
        "  \n",
        "  # print(news[0].text,news[1].text)\n",
        "# driver2.quit()\n"
      ],
      "metadata": {
        "id": "rE-758h18jPb"
      },
      "execution_count": null,
      "outputs": []
    },
    {
      "cell_type": "code",
      "source": [
        "url='https://bangla.bdnews24.com/samagrabangladesh'\n",
        "\n",
        "xx=pagesource(url)\n",
        "\n",
        "\n",
        "xx"
      ],
      "metadata": {
        "id": "6bHOhQlP11lh"
      },
      "execution_count": null,
      "outputs": []
    },
    {
      "cell_type": "code",
      "source": [
        "xx\n",
        "ar=[1,2,3,4,5,6,7,8,9,10]\n",
        "\n",
        "for x in range(0,len(ar),2):\n",
        "  print(ar[x],ar[x+1])\n",
        "\n",
        "\n"
      ],
      "metadata": {
        "colab": {
          "base_uri": "https://localhost:8080/"
        },
        "id": "8opUZHS0BJJ3",
        "outputId": "df665f9c-fe1b-44fe-8b41-07a708bcb28a"
      },
      "execution_count": null,
      "outputs": [
        {
          "output_type": "stream",
          "name": "stdout",
          "text": [
            "1 2\n",
            "3 4\n",
            "5 6\n",
            "7 8\n",
            "9 10\n"
          ]
        }
      ]
    },
    {
      "cell_type": "code",
      "source": [
        "# NFUuA\n",
        "# hOSPD a\n",
        "from collections import defaultdict\n",
        "\n",
        "lists=xx.select('.arr--story-card a')\n",
        "# print(lists)\n",
        "print(len(lists))\n",
        "for ls in lists[:4]:\n",
        "  print(ls)\n",
        "  # print( ls.select('img')[0]['data-src'])\n",
        "# lists\n",
        "\n",
        "newsdict=defaultdict(list)\n",
        "\n",
        "print('>>>>>>>>>>>>>>>>>>>>>>>>>>>>>>>>>>>>>>>')\n",
        "for l in range(0,len(lists),2):\n",
        "  l1=lists[l]\n",
        "  l2=lists[l+1]\n",
        "  link=l1['href']\n",
        "  # print(l)\n",
        "  try:\n",
        "    imaglink=l1.select('img')[0]['data-src']\n",
        "  except:\n",
        "    imaglink='null'\n",
        "  # print(imaglink,'\\n',l2.text)\n",
        "  newsdict[l2.text].append(link)\n",
        "  newsdict[l2.text].append(imaglink)\n",
        "  \n",
        "\n",
        "\n",
        "\n",
        "print(len(newsdict))\n",
        "newsdict\n",
        "\n",
        "\n"
      ],
      "metadata": {
        "id": "tbxItFrQ46cA",
        "colab": {
          "base_uri": "https://localhost:8080/"
        },
        "outputId": "46571ce6-39c5-4873-b9e8-10989b10292e"
      },
      "execution_count": null,
      "outputs": [
        {
          "output_type": "stream",
          "name": "stdout",
          "text": [
            "56\n",
            "<a aria-label=\"fallback-hero-image\" class=\"arr--hero-image hero-image-m_hero-image__3lraV\" data-test-id=\"arr--hero-image\" href=\"https://bangla.bdnews24.com/samagrabangladesh/mprgktj8qd\"><figure class=\"arr--responsive-hero-image hero-image-m_image__1mz0U\" style=\"padding-top: 56.25%;\"><img alt=\"ঝিনাইগাতী সীমান্তে বন্যহাতির আক্রমণে কৃষকের মৃত্যু\" class=\"qt-image\" data-src=\"https://gumlet.assettype.com/bdnews24%2F2022-11%2F062e05b5-85ef-4790-9285-19d02d387aab%2Fsherpur_hati_061122_01.jpg?auto=format%2Ccompress&amp;fit=max\" src=\"data:image/gif;base64,R0lGODlhAQABAAD/ACwAAAAAAQABAAACADs=\"/><noscript></noscript></figure></a>\n",
            "<a aria-label=\"headline\" href=\"https://bangla.bdnews24.com/samagrabangladesh/mprgktj8qd\"><h2 class=\"headline-m_headline__3_NhV headline-m_dark__en3hW\">ঝিনাইগাতী সীমান্তে বন্যহাতির আক্রমণে কৃষকের মৃত্যু</h2></a>\n",
            "<a aria-label=\"fallback-hero-image\" class=\"arr--hero-image hero-image-m_left-padding__pYRAj\" data-test-id=\"arr--hero-image\" href=\"https://bangla.bdnews24.com/samagrabangladesh/d9e90hffsc\"><figure class=\"arr--responsive-hero-image hero-image-m_image__1mz0U\" style=\"padding-top: 56.25%;\"><img alt=\"কানে হেডফোন, রেলপথ পার হতে গিয়ে ট্রেনের ধাক্কায় মৃত্যু\" class=\"qt-image\" data-src=\"https://gumlet.assettype.com/bdnews24%2F2022-11%2F5abf01a8-1457-43f6-a9ee-1e02a151d309%2Fmymensingh_accident_061122_01.jpg?auto=format%2Ccompress&amp;fit=max\" src=\"data:image/gif;base64,R0lGODlhAQABAAD/ACwAAAAAAQABAAACADs=\"/><noscript></noscript></figure></a>\n",
            "<a aria-label=\"headline\" href=\"https://bangla.bdnews24.com/samagrabangladesh/d9e90hffsc\"><h6 class=\"headline-m_headline__3_NhV headline-m_dark__en3hW\">কানে হেডফোন, রেলপথ পার হতে গিয়ে ট্রেনের ধাক্কায় মৃত্যু</h6></a>\n",
            ">>>>>>>>>>>>>>>>>>>>>>>>>>>>>>>>>>>>>>>\n",
            "21\n"
          ]
        },
        {
          "output_type": "execute_result",
          "data": {
            "text/plain": [
              "defaultdict(list,\n",
              "            {'ঝিনাইগাতী সীমান্তে বন্যহাতির আক্রমণে কৃষকের মৃত্যু': ['https://bangla.bdnews24.com/samagrabangladesh/mprgktj8qd',\n",
              "              'https://gumlet.assettype.com/bdnews24%2F2022-11%2F062e05b5-85ef-4790-9285-19d02d387aab%2Fsherpur_hati_061122_01.jpg?auto=format%2Ccompress&fit=max'],\n",
              "             'কানে হেডফোন, রেলপথ পার হতে গিয়ে ট্রেনের ধাক্কায় মৃত্যু': ['https://bangla.bdnews24.com/samagrabangladesh/d9e90hffsc',\n",
              "              'https://gumlet.assettype.com/bdnews24%2F2022-11%2F5abf01a8-1457-43f6-a9ee-1e02a151d309%2Fmymensingh_accident_061122_01.jpg?auto=format%2Ccompress&fit=max'],\n",
              "             'গোবিন্দগঞ্জে সাঁওতাল হত্যা: ৬ বছরেও বিচার শুরু হয়নি': ['https://bangla.bdnews24.com/samagrabangladesh/djzjvbb3l8',\n",
              "              'https://gumlet.assettype.com/bdnews24%2F2022-11%2F5dde3ec5-9cb2-4647-b420-13b226d4f467%2Fgaibandha_rally_051122_01.jpg?auto=format%2Ccompress&fit=max'],\n",
              "             'কুমিল্লায় চলন্ত ট্রেনে তরুণীর সন্তান প্রসব': ['https://bangla.bdnews24.com/samagrabangladesh/sv97hma2ic',\n",
              "              'https://gumlet.assettype.com/bdnews24%2F2022-11%2F65a51cef-30b9-409f-af65-d443b0ee5f68%2Fcumilla_delivery_051122_01.jpg?auto=format%2Ccompress&fit=max'],\n",
              "             'নাটোরে খেজুরের রস সংগ্রহের প্রস্তুতি গাছিদের': ['https://bangla.bdnews24.com/samagrabangladesh/gqrf72ig9e',\n",
              "              'https://gumlet.assettype.com/bdnews24%2F2022-11%2Fc5e88d77-b96c-45e4-8de8-1bf2b5ef58b0%2Fnatore_datepalm_051122_01.jpg?auto=format%2Ccompress&fit=max',\n",
              "              'https://bangla.bdnews24.com/samagrabangladesh/gqrf72ig9e',\n",
              "              'https://gumlet.assettype.com/bdnews24%2F2022-11%2Fc5e88d77-b96c-45e4-8de8-1bf2b5ef58b0%2Fnatore_datepalm_051122_01.jpg?auto=format%2Ccompress&fit=max'],\n",
              "             'ইশরাকসহ বিএনপির শতাধিক নেতাকর্মীর নামে মামলা': ['https://bangla.bdnews24.com/samagrabangladesh/36h9ojizos',\n",
              "              'https://gumlet.assettype.com/bdnews24%2F2022-11%2Fe39c4d40-aad1-4e47-accc-bcddc640c404%2Fbarishal_attack_051122_01.jpg?auto=format%2Ccompress&fit=max'],\n",
              "             'সমগ্র বাংলাদেশ': ['https://bangla.bdnews24.com/samagrabangladesh/vqcvfxlpdn',\n",
              "              'https://gumlet.assettype.com/bdnews24%2F2022-11%2F29ccd27a-d6ea-4399-9a12-671fbcd2a3cd%2Fbarishal_kaunch_051122_01.jpg?auto=format%2Ccompress&fit=max',\n",
              "              'https://bangla.bdnews24.com/samagrabangladesh/3m619qz8hh',\n",
              "              'https://gumlet.assettype.com/bdnews24%2F2022-11%2Fab0edae9-f596-45a9-81c8-1b5a789d11d1%2Fcumilla_city_al_bahar_rifat_051122_01.jpg?auto=format%2Ccompress&fit=max',\n",
              "              'https://bangla.bdnews24.com/samagrabangladesh/mzwvpxpke9',\n",
              "              'https://gumlet.assettype.com/bdnews24%2F2022-11%2Ffe770d9c-29cb-4f95-901c-fd464ef021a6%2Fbarishalbnp_meetting_051122_01.jpg?auto=format%2Ccompress&fit=max',\n",
              "              'https://bangla.bdnews24.com/samagrabangladesh/yx15mzmsgy',\n",
              "              'https://gumlet.assettype.com/bdnews24%2F2022-11%2F44b6831c-494f-4cd0-b0b1-b2a85b30fcab%2Fgazipur_minister_051122_01.jpg?auto=format%2Ccompress&fit=max'],\n",
              "             '': ['https://bangla.bdnews24.com/samagrabangladesh/vqcvfxlpdn',\n",
              "              'null',\n",
              "              'https://bangla.bdnews24.com/samagrabangladesh/3m619qz8hh',\n",
              "              'null',\n",
              "              'https://bangla.bdnews24.com/samagrabangladesh/mzwvpxpke9',\n",
              "              'null',\n",
              "              'https://bangla.bdnews24.com/samagrabangladesh/yx15mzmsgy',\n",
              "              'null'],\n",
              "             'সিআরবিতে হাসপাতাল: আন্দোলনের ইতি, বঙ্গমাতার নামে উদ্যান দাবি': ['https://bangla.bdnews24.com/ctg',\n",
              "              'null'],\n",
              "             'ফরিদপুর ২ উপ নির্বাচনে সাজেদাপুত্র শাহদাব জয়ী': ['https://bangla.bdnews24.com/samagrabangladesh',\n",
              "              'null'],\n",
              "             'চট্টগ্রামে ছাদের পানির ট্যাঙ্কে নারীর লাশ, স্বামী লাপাত্তা': ['https://bangla.bdnews24.com/ctg',\n",
              "              'null'],\n",
              "             'মাদারীপুরে চার মাসেই ধস ৪১ কোটি টাকায় নির্মিত সড়কে': ['https://bangla.bdnews24.com/samagrabangladesh',\n",
              "              'null'],\n",
              "             'সিরাজগঞ্জে ঘোড়দৌড় প্রতিযোগিতা অনুষ্ঠিত': ['https://bangla.bdnews24.com/samagrabangladesh/1toqchltdb',\n",
              "              'https://gumlet.assettype.com/bdnews24%2F2022-10%2F2c6ead11-e9af-49ff-ad68-be1fdac994fe%2Fsirajganj_horse_race_311022_01.jpg?auto=format%2Ccompress&fit=max'],\n",
              "             'নেত্রকোণায় সূর্যপূজায় মানবজাতির মঙ্গল কামনা': ['https://bangla.bdnews24.com/samagrabangladesh/l8afqbtl80',\n",
              "              'https://gumlet.assettype.com/bdnews24%2F2022-10%2F905590f6-26ee-4ac0-9d9b-ca84a2cdb548%2Fnetrakona_surjo_puja_301022_01.jpg?auto=format%2Ccompress&fit=max'],\n",
              "             'আমার এ ঘর নিও না পদ্মা': ['https://bangla.bdnews24.com/samagrabangladesh/vmxi38cv2c',\n",
              "              'https://gumlet.assettype.com/bdnews24%2F2022-09%2Fd41faf2b-698d-4d65-834f-0225cd2a3c94%2Friver_bank_erosion_160922_33.jpg?auto=format%2Ccompress&fit=max'],\n",
              "             'স্বপ্নের পদ্মা সেতুতে বাধাহীন উচ্ছ্বাস': ['https://bangla.bdnews24.com/samagrabangladesh/article2081578.bdnews',\n",
              "              'https://gumlet.assettype.com/bdnews24-english%2Fimport%2Fmedia%2F2022%2F06%2F25%2Fpadma-bridge-people-visiting-250622-04.jpg?auto=format%2Ccompress&fit=max'],\n",
              "             'পদ্মা সেতু দর্শনে পর্যটকের ভিড় মাওয়া প্রান্তে': ['https://bangla.bdnews24.com/samagrabangladesh/article2070707.bdnews',\n",
              "              'https://gumlet.assettype.com/bdnews24-english%2Fimport%2Fmedia%2F2022%2F06%2F03%2Fmunsiganj-padma-bridge-030622-01.jpg?auto=format%2Ccompress&fit=max'],\n",
              "             'শেরপুরে ‘গজনী কালচারাল সেন্টার’ উদ্বোধন': ['https://bangla.bdnews24.com/samagrabangladesh/article2057139.bdnews',\n",
              "              'https://gumlet.assettype.com/bdnews24-english%2Fimport%2Fmedia%2F2022%2F05%2F06%2Fsherpur_cultural_center-060522-01.jpg?auto=format%2Ccompress&fit=max'],\n",
              "             'শ্রীমঙ্গলে চা বাগানের উপর দিয়ে রাস্তা, শ্রমিকদের প্রতিবাদ': ['https://bangla.bdnews24.com/samagrabangladesh/article2048634.bdnews',\n",
              "              'https://gumlet.assettype.com/bdnews24-english%2Fimport%2Fmedia%2F2022%2F04%2F19%2Fmoulvibazar-tea-garden-180422-01.jpg?auto=format%2Ccompress&fit=max'],\n",
              "             'পাহাড়ে ফুল ভাসিয়ে শুরু চাকমাদের নববর্ষের উৎসব বিজু': ['https://bangla.bdnews24.com/samagrabangladesh/article2045706.bdnews',\n",
              "              'https://gumlet.assettype.com/bdnews24-english%2Fimport%2Fmedia%2F2022%2F04%2F13%2Fkhagrachari-biju-120422-01.jpg?auto=format%2Ccompress&fit=max'],\n",
              "             'উপচে পড়া পুণ্যার্থীর অংশগ্রহণে ওড়াকান্দির স্নানোৎসব': ['https://bangla.bdnews24.com/samagrabangladesh/article2038985.bdnews',\n",
              "              'https://gumlet.assettype.com/bdnews24-english%2Fimport%2Fmedia%2F2022%2F03%2F31%2Fgopalganj-snan-300322-01.jpg?auto=format%2Ccompress&fit=max']})"
            ]
          },
          "metadata": {},
          "execution_count": 42
        }
      ]
    },
    {
      "cell_type": "code",
      "source": [
        "print(len(lists))\n",
        "newsls=[]\n",
        "for ls in lists[:2]:\n",
        "  print(ls['aria-label'],'>>>',ls['href'])\n",
        "  news=gettextnews(ls['href'])\n",
        "  newsls.append(news)\n",
        "\n",
        "newsls\n",
        "driver.close()"
      ],
      "metadata": {
        "colab": {
          "base_uri": "https://localhost:8080/"
        },
        "id": "huGQeOPY5Y5j",
        "outputId": "a978fe40-d15e-4272-cddb-aca0623af303"
      },
      "execution_count": null,
      "outputs": [
        {
          "output_type": "stream",
          "name": "stdout",
          "text": [
            "56\n",
            "fallback-hero-image >>> https://bangla.bdnews24.com/samagrabangladesh/mprgktj8qd\n",
            "headline >>> https://bangla.bdnews24.com/samagrabangladesh/mprgktj8qd\n"
          ]
        }
      ]
    },
    {
      "cell_type": "code",
      "source": [
        "# story-grid\n",
        "url1='https://www.prothomalo.com/world/pakistan/mdmgit24p2'\n",
        "# driver2=driversetup()\n",
        "\n",
        "xx=pagesource(url1)\n",
        "\n",
        "\n"
      ],
      "metadata": {
        "id": "a006Aotx8HD9",
        "colab": {
          "base_uri": "https://localhost:8080/",
          "height": 660
        },
        "outputId": "ff23730f-a78e-46dd-f7de-9d51321a1f88"
      },
      "execution_count": null,
      "outputs": [
        {
          "output_type": "error",
          "ename": "InvalidSessionIdException",
          "evalue": "ignored",
          "traceback": [
            "\u001b[0;31m---------------------------------------------------------------------------\u001b[0m",
            "\u001b[0;31mInvalidSessionIdException\u001b[0m                 Traceback (most recent call last)",
            "\u001b[0;32m<ipython-input-19-a52edb3e6009>\u001b[0m in \u001b[0;36m<module>\u001b[0;34m\u001b[0m\n\u001b[1;32m      3\u001b[0m \u001b[0;31m# driver2=driversetup()\u001b[0m\u001b[0;34m\u001b[0m\u001b[0;34m\u001b[0m\u001b[0;34m\u001b[0m\u001b[0m\n\u001b[1;32m      4\u001b[0m \u001b[0;34m\u001b[0m\u001b[0m\n\u001b[0;32m----> 5\u001b[0;31m \u001b[0mxx\u001b[0m\u001b[0;34m=\u001b[0m\u001b[0mpagesource\u001b[0m\u001b[0;34m(\u001b[0m\u001b[0murl1\u001b[0m\u001b[0;34m)\u001b[0m\u001b[0;34m\u001b[0m\u001b[0;34m\u001b[0m\u001b[0m\n\u001b[0m\u001b[1;32m      6\u001b[0m \u001b[0;34m\u001b[0m\u001b[0m\n\u001b[1;32m      7\u001b[0m \u001b[0;34m\u001b[0m\u001b[0m\n",
            "\u001b[0;32m<ipython-input-14-702d42d3f83f>\u001b[0m in \u001b[0;36mpagesource\u001b[0;34m(url)\u001b[0m\n\u001b[1;32m      3\u001b[0m \u001b[0;34m\u001b[0m\u001b[0m\n\u001b[1;32m      4\u001b[0m \u001b[0;32mdef\u001b[0m \u001b[0mpagesource\u001b[0m\u001b[0;34m(\u001b[0m\u001b[0murl\u001b[0m\u001b[0;34m)\u001b[0m\u001b[0;34m:\u001b[0m\u001b[0;34m\u001b[0m\u001b[0;34m\u001b[0m\u001b[0m\n\u001b[0;32m----> 5\u001b[0;31m     \u001b[0mdriver\u001b[0m\u001b[0;34m.\u001b[0m\u001b[0mget\u001b[0m\u001b[0;34m(\u001b[0m\u001b[0murl\u001b[0m\u001b[0;34m)\u001b[0m\u001b[0;34m\u001b[0m\u001b[0;34m\u001b[0m\u001b[0m\n\u001b[0m\u001b[1;32m      6\u001b[0m     \u001b[0msoup\u001b[0m \u001b[0;34m=\u001b[0m \u001b[0mbs\u001b[0m\u001b[0;34m(\u001b[0m\u001b[0mdriver\u001b[0m\u001b[0;34m.\u001b[0m\u001b[0mpage_source\u001b[0m\u001b[0;34m)\u001b[0m\u001b[0;34m\u001b[0m\u001b[0;34m\u001b[0m\u001b[0m\n\u001b[1;32m      7\u001b[0m     \u001b[0;31m# driver.close()\u001b[0m\u001b[0;34m\u001b[0m\u001b[0;34m\u001b[0m\u001b[0;34m\u001b[0m\u001b[0m\n",
            "\u001b[0;32m/usr/local/lib/python3.7/dist-packages/selenium/webdriver/remote/webdriver.py\u001b[0m in \u001b[0;36mget\u001b[0;34m(self, url)\u001b[0m\n\u001b[1;32m    453\u001b[0m         \u001b[0mLoads\u001b[0m \u001b[0ma\u001b[0m \u001b[0mweb\u001b[0m \u001b[0mpage\u001b[0m \u001b[0;32min\u001b[0m \u001b[0mthe\u001b[0m \u001b[0mcurrent\u001b[0m \u001b[0mbrowser\u001b[0m \u001b[0msession\u001b[0m\u001b[0;34m.\u001b[0m\u001b[0;34m\u001b[0m\u001b[0;34m\u001b[0m\u001b[0m\n\u001b[1;32m    454\u001b[0m         \"\"\"\n\u001b[0;32m--> 455\u001b[0;31m         \u001b[0mself\u001b[0m\u001b[0;34m.\u001b[0m\u001b[0mexecute\u001b[0m\u001b[0;34m(\u001b[0m\u001b[0mCommand\u001b[0m\u001b[0;34m.\u001b[0m\u001b[0mGET\u001b[0m\u001b[0;34m,\u001b[0m \u001b[0;34m{\u001b[0m\u001b[0;34m\"url\"\u001b[0m\u001b[0;34m:\u001b[0m \u001b[0murl\u001b[0m\u001b[0;34m}\u001b[0m\u001b[0;34m)\u001b[0m\u001b[0;34m\u001b[0m\u001b[0;34m\u001b[0m\u001b[0m\n\u001b[0m\u001b[1;32m    456\u001b[0m \u001b[0;34m\u001b[0m\u001b[0m\n\u001b[1;32m    457\u001b[0m     \u001b[0;34m@\u001b[0m\u001b[0mproperty\u001b[0m\u001b[0;34m\u001b[0m\u001b[0;34m\u001b[0m\u001b[0m\n",
            "\u001b[0;32m/usr/local/lib/python3.7/dist-packages/selenium/webdriver/remote/webdriver.py\u001b[0m in \u001b[0;36mexecute\u001b[0;34m(self, driver_command, params)\u001b[0m\n\u001b[1;32m    442\u001b[0m         \u001b[0mresponse\u001b[0m \u001b[0;34m=\u001b[0m \u001b[0mself\u001b[0m\u001b[0;34m.\u001b[0m\u001b[0mcommand_executor\u001b[0m\u001b[0;34m.\u001b[0m\u001b[0mexecute\u001b[0m\u001b[0;34m(\u001b[0m\u001b[0mdriver_command\u001b[0m\u001b[0;34m,\u001b[0m \u001b[0mparams\u001b[0m\u001b[0;34m)\u001b[0m\u001b[0;34m\u001b[0m\u001b[0;34m\u001b[0m\u001b[0m\n\u001b[1;32m    443\u001b[0m         \u001b[0;32mif\u001b[0m \u001b[0mresponse\u001b[0m\u001b[0;34m:\u001b[0m\u001b[0;34m\u001b[0m\u001b[0;34m\u001b[0m\u001b[0m\n\u001b[0;32m--> 444\u001b[0;31m             \u001b[0mself\u001b[0m\u001b[0;34m.\u001b[0m\u001b[0merror_handler\u001b[0m\u001b[0;34m.\u001b[0m\u001b[0mcheck_response\u001b[0m\u001b[0;34m(\u001b[0m\u001b[0mresponse\u001b[0m\u001b[0;34m)\u001b[0m\u001b[0;34m\u001b[0m\u001b[0;34m\u001b[0m\u001b[0m\n\u001b[0m\u001b[1;32m    445\u001b[0m             \u001b[0mresponse\u001b[0m\u001b[0;34m[\u001b[0m\u001b[0;34m\"value\"\u001b[0m\u001b[0;34m]\u001b[0m \u001b[0;34m=\u001b[0m \u001b[0mself\u001b[0m\u001b[0;34m.\u001b[0m\u001b[0m_unwrap_value\u001b[0m\u001b[0;34m(\u001b[0m\u001b[0mresponse\u001b[0m\u001b[0;34m.\u001b[0m\u001b[0mget\u001b[0m\u001b[0;34m(\u001b[0m\u001b[0;34m\"value\"\u001b[0m\u001b[0;34m,\u001b[0m \u001b[0;32mNone\u001b[0m\u001b[0;34m)\u001b[0m\u001b[0;34m)\u001b[0m\u001b[0;34m\u001b[0m\u001b[0;34m\u001b[0m\u001b[0m\n\u001b[1;32m    446\u001b[0m             \u001b[0;32mreturn\u001b[0m \u001b[0mresponse\u001b[0m\u001b[0;34m\u001b[0m\u001b[0;34m\u001b[0m\u001b[0m\n",
            "\u001b[0;32m/usr/local/lib/python3.7/dist-packages/selenium/webdriver/remote/errorhandler.py\u001b[0m in \u001b[0;36mcheck_response\u001b[0;34m(self, response)\u001b[0m\n\u001b[1;32m    247\u001b[0m                 \u001b[0malert_text\u001b[0m \u001b[0;34m=\u001b[0m \u001b[0mvalue\u001b[0m\u001b[0;34m[\u001b[0m\u001b[0;34m\"alert\"\u001b[0m\u001b[0;34m]\u001b[0m\u001b[0;34m.\u001b[0m\u001b[0mget\u001b[0m\u001b[0;34m(\u001b[0m\u001b[0;34m\"text\"\u001b[0m\u001b[0;34m)\u001b[0m\u001b[0;34m\u001b[0m\u001b[0;34m\u001b[0m\u001b[0m\n\u001b[1;32m    248\u001b[0m             \u001b[0;32mraise\u001b[0m \u001b[0mexception_class\u001b[0m\u001b[0;34m(\u001b[0m\u001b[0mmessage\u001b[0m\u001b[0;34m,\u001b[0m \u001b[0mscreen\u001b[0m\u001b[0;34m,\u001b[0m \u001b[0mstacktrace\u001b[0m\u001b[0;34m,\u001b[0m \u001b[0malert_text\u001b[0m\u001b[0;34m)\u001b[0m  \u001b[0;31m# type: ignore[call-arg]  # mypy is not smart enough here\u001b[0m\u001b[0;34m\u001b[0m\u001b[0;34m\u001b[0m\u001b[0m\n\u001b[0;32m--> 249\u001b[0;31m         \u001b[0;32mraise\u001b[0m \u001b[0mexception_class\u001b[0m\u001b[0;34m(\u001b[0m\u001b[0mmessage\u001b[0m\u001b[0;34m,\u001b[0m \u001b[0mscreen\u001b[0m\u001b[0;34m,\u001b[0m \u001b[0mstacktrace\u001b[0m\u001b[0;34m)\u001b[0m\u001b[0;34m\u001b[0m\u001b[0;34m\u001b[0m\u001b[0m\n\u001b[0m",
            "\u001b[0;31mInvalidSessionIdException\u001b[0m: Message: invalid session id\nStacktrace:\n#0 0x55714b30b1a3 <unknown>\n#1 0x55714b0d79a4 <unknown>\n#2 0x55714b102dc5 <unknown>\n#3 0x55714b12cf2c <unknown>\n#4 0x55714b12abc2 <unknown>\n#5 0x55714b12a329 <unknown>\n#6 0x55714b0b2d77 <unknown>\n#7 0x55714b0b3df9 <unknown>\n#8 0x55714b3872a0 <unknown>\n#9 0x55714b34281a <unknown>\n#10 0x55714b34234a <unknown>\n#11 0x55714b342e75 <unknown>\n#12 0x55714b38314b <unknown>\n#13 0x55714b3431de <unknown>\n#14 0x55714b324c23 <unknown>\n#15 0x55714b0b294e <unknown>\n#16 0x7f54dce23c87 <unknown>\n"
          ]
        }
      ]
    },
    {
      "cell_type": "code",
      "source": [
        "xy=xx.select('.story-element-text')\n",
        "news=''\n",
        "for x in xy:\n",
        "  news+=x.text\n",
        "news\n"
      ],
      "metadata": {
        "id": "V9ACbggi_UqD"
      },
      "execution_count": null,
      "outputs": []
    },
    {
      "cell_type": "code",
      "source": [
        "!pip install pipreqs"
      ],
      "metadata": {
        "id": "o0Iislx11oP_"
      },
      "execution_count": null,
      "outputs": []
    },
    {
      "cell_type": "code",
      "source": [
        "!pipreqs '/content/'"
      ],
      "metadata": {
        "id": "vyuLCWjO15E5"
      },
      "execution_count": null,
      "outputs": []
    }
  ],
  "metadata": {
    "colab": {
      "provenance": [],
      "collapsed_sections": [
        "D6heQpQrAhU4"
      ],
      "authorship_tag": "ABX9TyPsnEl8KrCzzaAFsungbBLw",
      "include_colab_link": true
    },
    "kernelspec": {
      "display_name": "Python 3",
      "name": "python3"
    },
    "language_info": {
      "name": "python"
    }
  },
  "nbformat": 4,
  "nbformat_minor": 0
}