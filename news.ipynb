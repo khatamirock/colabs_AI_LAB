{
  "cells": [
    {
      "cell_type": "markdown",
      "metadata": {
        "id": "view-in-github",
        "colab_type": "text"
      },
      "source": [
        "<a href=\"https://colab.research.google.com/github/khatamirock/colabs_AI_LAB/blob/main/news.ipynb\" target=\"_parent\"><img src=\"https://colab.research.google.com/assets/colab-badge.svg\" alt=\"Open In Colab\"/></a>"
      ]
    },
    {
      "cell_type": "markdown",
      "source": [
        "# SCRAPY SECn"
      ],
      "metadata": {
        "id": "35hrMg9nxspG"
      }
    },
    {
      "cell_type": "code",
      "execution_count": null,
      "metadata": {
        "id": "wFM9Rw41etWH"
      },
      "outputs": [],
      "source": [
        "import requests\n",
        "url='https://www.prothomalo.com/bangladesh/rha1q55dri'\n",
        "x = requests.get(url)\n",
        "\n",
        "# print(x.text)"
      ]
    },
    {
      "cell_type": "code",
      "execution_count": null,
      "metadata": {
        "id": "S65AK6KZixyL"
      },
      "outputs": [],
      "source": [
        "from bs4 import BeautifulSoup as bs"
      ]
    },
    {
      "cell_type": "code",
      "source": [
        "def newspage(url):\n",
        "  x = requests.get(url)\n",
        "  soup = bs( x.text  , 'html.parser')\n",
        "  # print(soup)\n",
        "  # print(soup)\n",
        "  # news=soup.select('.news-content p')\n",
        "  \n",
        "  \n",
        "  return soup"
      ],
      "metadata": {
        "id": "hVX5GiWfXG53"
      },
      "execution_count": null,
      "outputs": []
    },
    {
      "cell_type": "code",
      "execution_count": null,
      "metadata": {
        "id": "QhEqDM4vjX8g"
      },
      "outputs": [],
      "source": [
        "base='https://www.prothomalo.com/bangladesh/rha1q55dri'\n",
        "soup = bs( x.text  , 'html.parser')\n",
        "# print(soup)\n",
        "# lists=soup.select('.latest-news-top a')\n",
        "# lists\n",
        "# for lst in lists[:2]:\n",
        "#   url=lst['href']\n",
        "#   print(url,'>>>> ',lst.strong.text)\n",
        "#   print(newspage(base+url))\n",
        "\n",
        "# soup\n",
        "# lists=soup.select('tags')\n",
        "# lists\n",
        "# "
      ]
    },
    {
      "cell_type": "code",
      "source": [
        "import json\n",
        "res = soup.select('script[type=\"application/ld+json\"]')\n",
        "xx=res[1].text\n",
        "# print(xx)\n",
        "jsono = json.loads(xx)\n",
        "jsono['articleBody']"
      ],
      "metadata": {
        "id": "hQ__UrWlXTNW",
        "outputId": "71b3cc74-97bd-44a7-8bbb-63ac2eabb32f",
        "colab": {
          "base_uri": "https://localhost:8080/",
          "height": 191
        }
      },
      "execution_count": 47,
      "outputs": [
        {
          "output_type": "execute_result",
          "data": {
            "text/plain": [
              "'&lt;p&gt;বাংলাদেশে অবাধ ও সুষ্ঠু নির্বাচন চায় যুক্তরাষ্ট্র। এই লক্ষ্যে বাংলাদেশের নাগরিক সমাজের সঙ্গে যুক্তরাষ্ট্র কাজ করছে বলে জানিয়েছেন দেশটির মধ্য ও দক্ষিণ এশিয়াবিষয়ক উপসহকারী পররাষ্ট্রমন্ত্রী আফরিন আক্তার। তিনি আজ রোববার সাংবাদিকদের প্রশ্নের জবাবে এ কথা বলেন।&lt;/p&gt;.&lt;p&gt;আফরিন আক্তার এক সংক্ষিপ্ত সফরে গতকাল শনিবার ঢাকায় আসেন। তিনি আজ বাংলাদেশের ভারপ্রাপ্ত পররাষ্ট্রসচিব রিয়ার অ্যাডমিরাল (অব.) মো. খুরশেদ আলমের সঙ্গে বৈঠক করেন।&lt;/p&gt;.&lt;p&gt;বৈঠক শেষে মার্কিন উপসহকারী পররাষ্ট্রমন্ত্রী আফরিন আক্তার সাংবাদিকদের বলেন, ‘আমি প্রথমবারের মতো বাংলাদেশে এসেছি। বাংলাদেশের সরকারি কর্মকর্তা, নাগরিক সমাজ ও সংশ্লিষ্টদের সঙ্গে কীভাবে আমরা একসঙ্গে কাজ করতে পারি, তা নিয়ে আলোচনা করার জন্য এসেছি।’ তিনি বলেন, দ্বিপক্ষীয় নানা বিষয়ের পাশাপাশি বাংলাদেশে অবাধ ও সুষ্ঠু নির্বাচনের বিষয়ে যুক্তরাষ্ট্রের সমর্থনের বিষয়ে ভারপ্রাপ্ত পররাষ্ট্রসচিবের সঙ্গে তাঁর আলোচনা হয়েছে।&lt;/p&gt;.&lt;p&gt;বাংলাদেশে অবাধ ও সুষ্ঠু নির্বাচনে যুক্তরাষ্ট্রের সমর্থনের বিষয়ে সাংবাদিকদের এক প্রশ্নের জবাবে আফরিন আক্তার বলেন, যুক্তরাষ্ট্রের ঢাকা মিশন এবং আন্তর্জাতিক সহযোগিতা সংস্থা–ইউএসএইডের বাংলাদেশ কার্যালয় আসন্ন নির্বাচন অবাধ, সুষ্ঠু ও নিরপেক্ষ করতে এ দেশের নাগরিক সমাজের সঙ্গে নিবিড়ভাবে কাজ করে যাচ্ছে।&lt;/p&gt;&lt;p&gt;রোহিঙ্গা সমস্যা সমাধানে যুক্তরাষ্ট্রের সহযোগিতা প্রসঙ্গে আফরিন আক্তার বলেন, রোহিঙ্গাদের ব্যাপারে বাংলাদেশের সঙ্গে কাজ করছে যুক্তরাষ্ট্র। রোহিঙ্গাদের সহায়তায় মার্কিন পররাষ্ট্রমন্ত্রী যে ১৭ কোটি ডলারের ঘোষণা দিয়েছেন, তা বাস্তবায়নে কীভাবে কাজ করা যায়, সে বিষয়ে ভারপ্রাপ্ত পররাষ্ট্রসচিবের সঙ্গে তাঁর আলোচনা হয়েছে। এ ছাড়া সামুদ্রিক নিরাপত্তা নিয়ে কথা হয়েছে। বঙ্গোপসাগরে কীভাবে মৎস্য ও খনিজ সম্পদের সর্বোচ্চ সুষ্ঠু ব্যবহার নিশ্চিত করা যায়, সেটাও আলোচনায় এসেছে।&lt;/p&gt;'"
            ],
            "application/vnd.google.colaboratory.intrinsic+json": {
              "type": "string"
            }
          },
          "metadata": {},
          "execution_count": 47
        }
      ]
    },
    {
      "cell_type": "code",
      "source": [
        "ls=newspage('https://www.bd-pratidin.com/country/2022/11/04/825792')\n",
        "def printer(st):\n",
        "  print(st)\n",
        "map(printer,ls.select('#bpsepnil p'))"
      ],
      "metadata": {
        "colab": {
          "base_uri": "https://localhost:8080/"
        },
        "id": "YWZfrpaHxIgQ",
        "outputId": "378812ee-4919-41b8-dfff-28ff9ce7e88f"
      },
      "execution_count": null,
      "outputs": [
        {
          "output_type": "execute_result",
          "data": {
            "text/plain": [
              "<map at 0x7f6b2a0130d0>"
            ]
          },
          "metadata": {},
          "execution_count": 5
        }
      ]
    },
    {
      "cell_type": "markdown",
      "source": [
        "# SELNM\n"
      ],
      "metadata": {
        "id": "SaYAlUcoxwuL"
      }
    },
    {
      "cell_type": "markdown",
      "source": [
        "# install\n"
      ],
      "metadata": {
        "id": "D6heQpQrAhU4"
      }
    },
    {
      "cell_type": "code",
      "source": [
        "!apt update\n",
        "!pip install xlsxwriter \n",
        "!apt install chromium-chromedriver\n",
        "!pip install selenium"
      ],
      "metadata": {
        "id": "jZ4HdiCQxzMz",
        "colab": {
          "base_uri": "https://localhost:8080/"
        },
        "outputId": "b8aee972-462e-49ad-df48-6423b2d8b5a8"
      },
      "execution_count": null,
      "outputs": [
        {
          "output_type": "stream",
          "name": "stdout",
          "text": [
            "\u001b[33m\r0% [Working]\u001b[0m\r            \rGet:1 https://cloud.r-project.org/bin/linux/ubuntu bionic-cran40/ InRelease [3,626 B]\n",
            "\u001b[33m\r0% [Waiting for headers] [Waiting for headers] [1 InRelease 0 B/3,626 B 0%] [Wa\u001b[0m\u001b[33m\r0% [Waiting for headers] [Waiting for headers] [Waiting for headers] [Connectin\u001b[0m\r                                                                               \rHit:2 http://archive.ubuntu.com/ubuntu bionic InRelease\n",
            "\u001b[33m\r0% [Waiting for headers] [Waiting for headers] [Waiting for headers] [Connectin\u001b[0m\u001b[33m\r0% [1 InRelease gpgv 3,626 B] [Waiting for headers] [Waiting for headers] [Wait\u001b[0m\r                                                                               \rGet:3 http://archive.ubuntu.com/ubuntu bionic-updates InRelease [88.7 kB]\n",
            "\u001b[33m\r0% [1 InRelease gpgv 3,626 B] [3 InRelease 14.2 kB/88.7 kB 16%] [Waiting for he\u001b[0m\r                                                                               \rIgn:4 https://developer.download.nvidia.com/compute/machine-learning/repos/ubuntu1804/x86_64  InRelease\n",
            "\u001b[33m\r0% [1 InRelease gpgv 3,626 B] [3 InRelease 15.6 kB/88.7 kB 18%] [Waiting for he\u001b[0m\r                                                                               \rGet:5 https://developer.download.nvidia.com/compute/cuda/repos/ubuntu1804/x86_64  InRelease [1,581 B]\n",
            "\u001b[33m\r0% [1 InRelease gpgv 3,626 B] [3 InRelease 15.6 kB/88.7 kB 18%] [Waiting for he\u001b[0m\r                                                                               \rHit:6 https://developer.download.nvidia.com/compute/machine-learning/repos/ubuntu1804/x86_64  Release\n",
            "Get:7 http://security.ubuntu.com/ubuntu bionic-security InRelease [88.7 kB]\n",
            "Get:8 http://ppa.launchpad.net/c2d4u.team/c2d4u4.0+/ubuntu bionic InRelease [15.9 kB]\n",
            "Get:9 http://archive.ubuntu.com/ubuntu bionic-backports InRelease [83.3 kB]\n",
            "Hit:10 http://ppa.launchpad.net/cran/libgit2/ubuntu bionic InRelease\n",
            "Get:11 https://cloud.r-project.org/bin/linux/ubuntu bionic-cran40/ Packages [98.9 kB]\n",
            "Get:12 http://ppa.launchpad.net/deadsnakes/ppa/ubuntu bionic InRelease [15.9 kB]\n",
            "Hit:13 http://ppa.launchpad.net/graphics-drivers/ppa/ubuntu bionic InRelease\n",
            "Get:14 https://developer.download.nvidia.com/compute/cuda/repos/ubuntu1804/x86_64  Packages [992 kB]\n",
            "Get:16 http://archive.ubuntu.com/ubuntu bionic-updates/main amd64 Packages [3,472 kB]\n",
            "Get:17 http://archive.ubuntu.com/ubuntu bionic-updates/restricted amd64 Packages [1,267 kB]\n",
            "Get:18 http://archive.ubuntu.com/ubuntu bionic-updates/universe amd64 Packages [2,332 kB]\n",
            "Get:19 http://ppa.launchpad.net/c2d4u.team/c2d4u4.0+/ubuntu bionic/main Sources [2,216 kB]\n",
            "Get:20 http://security.ubuntu.com/ubuntu bionic-security/restricted amd64 Packages [1,226 kB]\n",
            "Get:21 http://security.ubuntu.com/ubuntu bionic-security/universe amd64 Packages [1,554 kB]\n",
            "Get:22 http://ppa.launchpad.net/c2d4u.team/c2d4u4.0+/ubuntu bionic/main amd64 Packages [1,133 kB]\n",
            "Get:23 http://security.ubuntu.com/ubuntu bionic-security/main amd64 Packages [3,040 kB]\n",
            "Fetched 17.6 MB in 6s (3,014 kB/s)\n",
            "Reading package lists... Done\n",
            "Building dependency tree       \n",
            "Reading state information... Done\n",
            "28 packages can be upgraded. Run 'apt list --upgradable' to see them.\n",
            "Looking in indexes: https://pypi.org/simple, https://us-python.pkg.dev/colab-wheels/public/simple/\n",
            "Collecting xlsxwriter\n",
            "  Downloading XlsxWriter-3.0.3-py3-none-any.whl (149 kB)\n",
            "\u001b[K     |████████████████████████████████| 149 kB 4.8 MB/s \n",
            "\u001b[?25hInstalling collected packages: xlsxwriter\n",
            "Successfully installed xlsxwriter-3.0.3\n",
            "Reading package lists... Done\n",
            "Building dependency tree       \n",
            "Reading state information... Done\n",
            "The following package was automatically installed and is no longer required:\n",
            "  libnvidia-common-460\n",
            "Use 'apt autoremove' to remove it.\n",
            "The following additional packages will be installed:\n",
            "  chromium-browser chromium-browser-l10n chromium-codecs-ffmpeg-extra\n",
            "Suggested packages:\n",
            "  webaccounts-chromium-extension unity-chromium-extension\n",
            "The following NEW packages will be installed:\n",
            "  chromium-browser chromium-browser-l10n chromium-chromedriver\n",
            "  chromium-codecs-ffmpeg-extra\n",
            "0 upgraded, 4 newly installed, 0 to remove and 28 not upgraded.\n",
            "Need to get 91.7 MB of archives.\n",
            "After this operation, 309 MB of additional disk space will be used.\n",
            "Get:1 http://archive.ubuntu.com/ubuntu bionic-updates/universe amd64 chromium-codecs-ffmpeg-extra amd64 105.0.5195.102-0ubuntu0.18.04.1 [1,156 kB]\n",
            "Get:2 http://archive.ubuntu.com/ubuntu bionic-updates/universe amd64 chromium-browser amd64 105.0.5195.102-0ubuntu0.18.04.1 [80.1 MB]\n",
            "Get:3 http://archive.ubuntu.com/ubuntu bionic-updates/universe amd64 chromium-browser-l10n all 105.0.5195.102-0ubuntu0.18.04.1 [5,097 kB]\n",
            "Get:4 http://archive.ubuntu.com/ubuntu bionic-updates/universe amd64 chromium-chromedriver amd64 105.0.5195.102-0ubuntu0.18.04.1 [5,320 kB]\n",
            "Fetched 91.7 MB in 2s (45.4 MB/s)\n",
            "Selecting previously unselected package chromium-codecs-ffmpeg-extra.\n",
            "(Reading database ... 123942 files and directories currently installed.)\n",
            "Preparing to unpack .../chromium-codecs-ffmpeg-extra_105.0.5195.102-0ubuntu0.18.04.1_amd64.deb ...\n",
            "Unpacking chromium-codecs-ffmpeg-extra (105.0.5195.102-0ubuntu0.18.04.1) ...\n",
            "Selecting previously unselected package chromium-browser.\n",
            "Preparing to unpack .../chromium-browser_105.0.5195.102-0ubuntu0.18.04.1_amd64.deb ...\n",
            "Unpacking chromium-browser (105.0.5195.102-0ubuntu0.18.04.1) ...\n",
            "Selecting previously unselected package chromium-browser-l10n.\n",
            "Preparing to unpack .../chromium-browser-l10n_105.0.5195.102-0ubuntu0.18.04.1_all.deb ...\n",
            "Unpacking chromium-browser-l10n (105.0.5195.102-0ubuntu0.18.04.1) ...\n",
            "Selecting previously unselected package chromium-chromedriver.\n",
            "Preparing to unpack .../chromium-chromedriver_105.0.5195.102-0ubuntu0.18.04.1_amd64.deb ...\n",
            "Unpacking chromium-chromedriver (105.0.5195.102-0ubuntu0.18.04.1) ...\n",
            "Setting up chromium-codecs-ffmpeg-extra (105.0.5195.102-0ubuntu0.18.04.1) ...\n",
            "Setting up chromium-browser (105.0.5195.102-0ubuntu0.18.04.1) ...\n",
            "update-alternatives: using /usr/bin/chromium-browser to provide /usr/bin/x-www-browser (x-www-browser) in auto mode\n",
            "update-alternatives: using /usr/bin/chromium-browser to provide /usr/bin/gnome-www-browser (gnome-www-browser) in auto mode\n",
            "Setting up chromium-chromedriver (105.0.5195.102-0ubuntu0.18.04.1) ...\n",
            "Setting up chromium-browser-l10n (105.0.5195.102-0ubuntu0.18.04.1) ...\n",
            "Processing triggers for man-db (2.8.3-2ubuntu0.1) ...\n",
            "Processing triggers for hicolor-icon-theme (0.17-2) ...\n",
            "Processing triggers for mime-support (3.60ubuntu1) ...\n",
            "Processing triggers for libc-bin (2.27-3ubuntu1.6) ...\n",
            "Looking in indexes: https://pypi.org/simple, https://us-python.pkg.dev/colab-wheels/public/simple/\n",
            "Collecting selenium\n",
            "  Downloading selenium-4.6.0-py3-none-any.whl (5.2 MB)\n",
            "\u001b[K     |████████████████████████████████| 5.2 MB 6.0 MB/s \n",
            "\u001b[?25hCollecting trio~=0.17\n",
            "  Downloading trio-0.22.0-py3-none-any.whl (384 kB)\n",
            "\u001b[K     |████████████████████████████████| 384 kB 55.6 MB/s \n",
            "\u001b[?25hRequirement already satisfied: certifi>=2021.10.8 in /usr/local/lib/python3.7/dist-packages (from selenium) (2022.9.24)\n",
            "Collecting trio-websocket~=0.9\n",
            "  Downloading trio_websocket-0.9.2-py3-none-any.whl (16 kB)\n",
            "Collecting urllib3[socks]~=1.26\n",
            "  Downloading urllib3-1.26.12-py2.py3-none-any.whl (140 kB)\n",
            "\u001b[K     |████████████████████████████████| 140 kB 46.2 MB/s \n",
            "\u001b[?25hCollecting sniffio\n",
            "  Downloading sniffio-1.3.0-py3-none-any.whl (10 kB)\n",
            "Collecting async-generator>=1.9\n",
            "  Downloading async_generator-1.10-py3-none-any.whl (18 kB)\n",
            "Collecting exceptiongroup>=1.0.0rc9\n",
            "  Downloading exceptiongroup-1.0.1-py3-none-any.whl (12 kB)\n",
            "Requirement already satisfied: idna in /usr/local/lib/python3.7/dist-packages (from trio~=0.17->selenium) (2.10)\n",
            "Requirement already satisfied: sortedcontainers in /usr/local/lib/python3.7/dist-packages (from trio~=0.17->selenium) (2.4.0)\n",
            "Requirement already satisfied: attrs>=19.2.0 in /usr/local/lib/python3.7/dist-packages (from trio~=0.17->selenium) (22.1.0)\n",
            "Collecting outcome\n",
            "  Downloading outcome-1.2.0-py2.py3-none-any.whl (9.7 kB)\n",
            "Collecting wsproto>=0.14\n",
            "  Downloading wsproto-1.2.0-py3-none-any.whl (24 kB)\n",
            "Requirement already satisfied: PySocks!=1.5.7,<2.0,>=1.5.6 in /usr/local/lib/python3.7/dist-packages (from urllib3[socks]~=1.26->selenium) (1.7.1)\n",
            "Collecting h11<1,>=0.9.0\n",
            "  Downloading h11-0.14.0-py3-none-any.whl (58 kB)\n",
            "\u001b[K     |████████████████████████████████| 58 kB 5.0 MB/s \n",
            "\u001b[?25hRequirement already satisfied: typing-extensions in /usr/local/lib/python3.7/dist-packages (from h11<1,>=0.9.0->wsproto>=0.14->trio-websocket~=0.9->selenium) (4.1.1)\n",
            "Installing collected packages: sniffio, outcome, h11, exceptiongroup, async-generator, wsproto, urllib3, trio, trio-websocket, selenium\n",
            "  Attempting uninstall: urllib3\n",
            "    Found existing installation: urllib3 1.24.3\n",
            "    Uninstalling urllib3-1.24.3:\n",
            "      Successfully uninstalled urllib3-1.24.3\n",
            "\u001b[31mERROR: pip's dependency resolver does not currently take into account all the packages that are installed. This behaviour is the source of the following dependency conflicts.\n",
            "requests 2.23.0 requires urllib3!=1.25.0,!=1.25.1,<1.26,>=1.21.1, but you have urllib3 1.26.12 which is incompatible.\u001b[0m\n",
            "Successfully installed async-generator-1.10 exceptiongroup-1.0.1 h11-0.14.0 outcome-1.2.0 selenium-4.6.0 sniffio-1.3.0 trio-0.22.0 trio-websocket-0.9.2 urllib3-1.26.12 wsproto-1.2.0\n"
          ]
        }
      ]
    },
    {
      "cell_type": "markdown",
      "source": [
        "# WORKS"
      ],
      "metadata": {
        "id": "Rg9dCSV9AlHg"
      }
    },
    {
      "cell_type": "code",
      "source": [
        "from selenium import webdriver\n",
        "from bs4 import BeautifulSoup as bs\n",
        "\n",
        "def driversetup():\n",
        "    options = webdriver.ChromeOptions()\n",
        "    #run Selenium in headless mode\n",
        "    options.add_argument('--headless')\n",
        "    options.add_argument('--no-sandbox')\n",
        "    #overcome limited resource problems\n",
        "    options.add_argument('--disable-dev-shm-usage')\n",
        "    options.add_argument(\"lang=en\")\n",
        "    #open Browser in maximized mode\n",
        "    options.add_argument(\"start-maximized\")\n",
        "    #disable infobars\n",
        "    options.add_argument(\"disable-infobars\")\n",
        "    #disable extension\n",
        "    # options.add_argument(\"--disable-extensions\")\n",
        "    # options.add_argument(\"--incognito\")\n",
        "    options.add_argument(\"--disable-blink-features=AutomationControlled\")\n",
        "    \n",
        "    driver = webdriver.Chrome(options=options)\n",
        "\n",
        "    driver.execute_script(\"Object.defineProperty(navigator, 'webdriver', {get: () => undefined});\")\n",
        "\n",
        "    return driver"
      ],
      "metadata": {
        "id": "fMDmiE4G2aMF"
      },
      "execution_count": null,
      "outputs": []
    },
    {
      "cell_type": "code",
      "source": [
        "driver=driversetup()\n",
        "\n",
        "\n",
        "def pagesource(url):\n",
        "    driver.get(url)\n",
        "    soup = bs(driver.page_source)\n",
        "    # driver.close()\n",
        "    return soup\n",
        "\n",
        "def gettextnews(url):\n",
        "      # story-grid\n",
        "    # url1='https://www.prothomalo.com/world/pakistan/mdmgit24p2'\n",
        "    # driver2=driversetup()\n",
        "\n",
        "    xx=pagesource(url)\n",
        "    # xy=xx.select('.story-element-text')\n",
        "    # latest-news-top\n",
        "    xy=xx.select('.latest-news-top')# for every news link (the texts)\n",
        "    news=''\n",
        "    for x in xy:\n",
        "      news+=x.text\n",
        "    return news\n",
        "\n",
        "\n"
      ],
      "metadata": {
        "id": "CmR8zHkH11r0"
      },
      "execution_count": null,
      "outputs": []
    },
    {
      "cell_type": "markdown",
      "source": [
        "#for PROTHOM ALOE!!"
      ],
      "metadata": {
        "id": "Uo0KXhzk7Dpx"
      }
    },
    {
      "cell_type": "code",
      "source": [
        "import requests\n",
        "import json\n",
        "from selenium.webdriver.common.by import By\n",
        "driver2=driversetup()\n",
        "\n",
        "def parsebybs(url):  \n",
        "  x = requests.get(url)\n",
        "  soup = bs( x.text  , 'html.parser')\n",
        "  \n",
        "  res = soup.select('script[type=\"application/ld+json\"]')\n",
        "  jsonOb=res[1].text\n",
        "  # print(xx)\n",
        "  jsono = json.loads(jsonOb)\n",
        "  print(jsono['articleBody'])\n",
        "\n",
        "\n",
        "\n",
        "def proalospecial(url,clss,choice=None):\n",
        "  driver2.get(url)\n",
        "  # fOg1k\n",
        "  #  \"stories-set\"\n",
        "  ls=driver2.find_element(By.CLASS_NAME,clss)\n",
        "  if choice:\n",
        "    l=driver2.find_element(By.CLASS_NAME,choice)\n",
        "    return [ls,l]\n",
        "\n",
        "\n",
        "  return ls\n",
        "# /////////////  ############################################\n",
        "# ave : 7 sec\n",
        "    \n",
        "url='https://www.prothomalo.com/bangladesh'\n",
        "ls=proalospecial(url,'stories-set')\n",
        "# # print(ls)\n",
        "# # print(ls.text)\n",
        "# # driver2.close()\n",
        "\n",
        "lss=ls.find_elements(By.CLASS_NAME,\"wMFhj\")"
      ],
      "metadata": {
        "id": "BwMkRdskngAy"
      },
      "execution_count": 48,
      "outputs": []
    },
    {
      "cell_type": "code",
      "source": [
        "\n",
        "# print(list(lss))\n",
        "# from collections import defaultdict\n",
        "# pnewsdict= defaultdict(list)\n",
        "\n",
        "\n",
        "# for x in lss:\n",
        "#   title=x.find_element(By.TAG_NAME,'a').get_attribute('aria-label')\n",
        "#   time=x.find_element(By.CLASS_NAME,'published-time')\n",
        "#   url=x.find_element(By.TAG_NAME,'a').get_attribute('href')\n",
        "#   print(title,'?////',time.text, '>>>>>',url)\n",
        "#   pnewsdict[title].append(url)\n",
        "\n",
        "# #   # print(\n",
        "\n",
        "# print(pnewsdict)\n",
        "\n",
        "for nw in pnewsdict:\n",
        "  url=pnewsdict[nw][0]\n",
        "  print(nw,url)\n",
        "  parsebybs(url)\n",
        "\n",
        "  \n",
        "  # print(news[0].text,news[1].text)\n",
        "# driver2.quit()\n"
      ],
      "metadata": {
        "colab": {
          "base_uri": "https://localhost:8080/"
        },
        "id": "rE-758h18jPb",
        "outputId": "afa9b88c-cf77-42e6-97b3-2c314adff1ed"
      },
      "execution_count": 56,
      "outputs": [
        {
          "output_type": "stream",
          "name": "stdout",
          "text": [
            "টাঙ্গাইলে গাড়িচাপায় দুই মোটরসাইকেল আরোহী নিহত https://www.prothomalo.com/bangladesh/district/6i1xs64ewn\n",
            "&lt;p&gt;টাঙ্গাইলের বঙ্গবন্ধু সেতুর পূর্ব প্রান্তের সংযোগ সড়কে অজ্ঞাত গাড়ির চাপায় দুই মোটরসাইকেল আরোহী নিহত হয়েছেন। রোববার রাত আটটার দিকে টাঙ্গাইলের কালিহাতী উপজেলার হাতিয়ায় এ দুর্ঘটনা ঘটে। নিহত দুজনের বয়স ৩০ থেকে ৩৫ বছরের মধ্যে। এর মধ্যে একজন নারী, অন্যজন পুরুষ। প্রাথমিকভাবে দুজনের পরিচয় জানা যায়নি।&lt;/p&gt;.&lt;p&gt;দুই অজ্ঞাতনামা নারী-পুরুষ নিহত হওয়ার বিষয়টি নিশ্চিত করে বঙ্গবন্ধু সেতু পূর্ব থানার ভারপ্রাপ্ত কর্মকর্তা শফিকুল ইসলাম বলেন, ধারণা করা হচ্ছে, নিহত দুজন মোটরসাইকেলে উত্তরবঙ্গের দিকে যাচ্ছিলেন। হাতিয়া এলাকায় একটি সেতুর ওপর পৌঁছালে অজ্ঞাত গাড়ি তাঁদের চাপা দেয়। &lt;/p&gt;.&lt;p&gt;পরে ওই গাড়ির চাকা দুই আরোহীর মাথার ওপর দিয়ে গেলে ঘটনাস্থলেই তাঁদের মৃত্যু হয়। নিহত নারী-পুরুষের পরিচয় শনাক্ত করার চেষ্টা চলছে। লাশ দুটি ঘটনাস্থল থেকে উদ্ধার করে বঙ্গবন্ধু সেতু পূর্ব থানায় রাখা হয়েছে।&lt;/p&gt;\n",
            "বাংলাদেশে অবাধ ও সুষ্ঠু নির্বাচনের জন্য\n",
            "কাজ করছে যুক্তরাষ্ট্র https://www.prothomalo.com/bangladesh/rha1q55dri\n",
            "&lt;p&gt;বাংলাদেশে অবাধ ও সুষ্ঠু নির্বাচন চায় যুক্তরাষ্ট্র। এই লক্ষ্যে বাংলাদেশের নাগরিক সমাজের সঙ্গে যুক্তরাষ্ট্র কাজ করছে বলে জানিয়েছেন দেশটির মধ্য ও দক্ষিণ এশিয়াবিষয়ক উপসহকারী পররাষ্ট্রমন্ত্রী আফরিন আক্তার। তিনি আজ রোববার সাংবাদিকদের প্রশ্নের জবাবে এ কথা বলেন।&lt;/p&gt;.&lt;p&gt;আফরিন আক্তার এক সংক্ষিপ্ত সফরে গতকাল শনিবার ঢাকায় আসেন। তিনি আজ বাংলাদেশের ভারপ্রাপ্ত পররাষ্ট্রসচিব রিয়ার অ্যাডমিরাল (অব.) মো. খুরশেদ আলমের সঙ্গে বৈঠক করেন।&lt;/p&gt;.&lt;p&gt;বৈঠক শেষে মার্কিন উপসহকারী পররাষ্ট্রমন্ত্রী আফরিন আক্তার সাংবাদিকদের বলেন, ‘আমি প্রথমবারের মতো বাংলাদেশে এসেছি। বাংলাদেশের সরকারি কর্মকর্তা, নাগরিক সমাজ ও সংশ্লিষ্টদের সঙ্গে কীভাবে আমরা একসঙ্গে কাজ করতে পারি, তা নিয়ে আলোচনা করার জন্য এসেছি।’ তিনি বলেন, দ্বিপক্ষীয় নানা বিষয়ের পাশাপাশি বাংলাদেশে অবাধ ও সুষ্ঠু নির্বাচনের বিষয়ে যুক্তরাষ্ট্রের সমর্থনের বিষয়ে ভারপ্রাপ্ত পররাষ্ট্রসচিবের সঙ্গে তাঁর আলোচনা হয়েছে।&lt;/p&gt;.&lt;p&gt;বাংলাদেশে অবাধ ও সুষ্ঠু নির্বাচনে যুক্তরাষ্ট্রের সমর্থনের বিষয়ে সাংবাদিকদের এক প্রশ্নের জবাবে আফরিন আক্তার বলেন, যুক্তরাষ্ট্রের ঢাকা মিশন এবং আন্তর্জাতিক সহযোগিতা সংস্থা–ইউএসএইডের বাংলাদেশ কার্যালয় আসন্ন নির্বাচন অবাধ, সুষ্ঠু ও নিরপেক্ষ করতে এ দেশের নাগরিক সমাজের সঙ্গে নিবিড়ভাবে কাজ করে যাচ্ছে।&lt;/p&gt;&lt;p&gt;রোহিঙ্গা সমস্যা সমাধানে যুক্তরাষ্ট্রের সহযোগিতা প্রসঙ্গে আফরিন আক্তার বলেন, রোহিঙ্গাদের ব্যাপারে বাংলাদেশের সঙ্গে কাজ করছে যুক্তরাষ্ট্র। রোহিঙ্গাদের সহায়তায় মার্কিন পররাষ্ট্রমন্ত্রী যে ১৭ কোটি ডলারের ঘোষণা দিয়েছেন, তা বাস্তবায়নে কীভাবে কাজ করা যায়, সে বিষয়ে ভারপ্রাপ্ত পররাষ্ট্রসচিবের সঙ্গে তাঁর আলোচনা হয়েছে। এ ছাড়া সামুদ্রিক নিরাপত্তা নিয়ে কথা হয়েছে। বঙ্গোপসাগরে কীভাবে মৎস্য ও খনিজ সম্পদের সর্বোচ্চ সুষ্ঠু ব্যবহার নিশ্চিত করা যায়, সেটাও আলোচনায় এসেছে।&lt;/p&gt;\n",
            "শুরু হলো ওয়ার্ল্ড মার্কেটিং সামিট-২০২২ https://www.prothomalo.com/bangladesh/4v1j2um7xg\n",
            "&lt;p&gt;তৃতীয়বারের মতো শুরু হয়েছে ওয়ার্ল্ড মার্কেটিং সামিট-২০২২। রোববার ভার্চ্যুয়ালি সামিট শুরু হয়। দুই দিনব্যাপী এ সামিট শেষ হবে সোমবার।&lt;/p&gt;&lt;p&gt;‘আধুনিক মার্কেটিংয়ের মাধ্যমে উন্নত পৃথিবী গড়ার’ প্রতিপাদ্য নিয়ে এবারের সামিট অনুষ্ঠিত হচ্ছে। যৌথভাবে আয়োজন করেছে বাংলাদেশে কটলার ইমপ্যাক্টের কান্ট্রি পার্টনার নর্দার্ন এডুকেশন গ্রুপ। এতে বাংলাদেশসহ ১৬০টি দেশের প্রতিনিধি অংশ নিচ্ছেন। এক সংবাদ বিজ্ঞপ্তিতে এ তথ্য জানানো হয়েছে।&lt;/p&gt;.&lt;p&gt;এবারের ওয়ার্ল্ড মার্কেটিং সামিটে বাংলাদেশ থেকে প্রধানমন্ত্রী শেখ হাসিনা, শিক্ষামন্ত্রী দীপু মনি, প্রধানমন্ত্রীর অর্থনৈতিক উপদেষ্টা মসিউর রহমান, তথ্য ও যোগাযোগপ্রযুক্তি প্রতিমন্ত্রী জুনাইদ আহমেদ, গ্রামীণফোনের সিইও ইয়াসির আজমান এবং ঢাকা বিশ্ববিদ্যালয় ব্যবসায় প্রশাসন ইনস্টিটিউটের (আইবিএ) অধ্যাপক ও ওয়ার্ল্ড মার্কেটিং সামিটের গ্লোবাল অ্যাডভাইজার অধ্যাপক আবু ইউসুফ মো. আবদুল্লাহ বক্তব্য দেবেন বলে বিজ্ঞপ্তিতে জানানো হয়েছে।&lt;/p&gt;.&lt;p&gt;ওয়ার্ল্ড মার্কেটিং সামিট নিয়ে আবু ইউসুফ মো. আবদুল্লাহ বলেন, বিপণন (মার্কেটিং) শাস্ত্রের বিশ্বগুরু হিসেবে খ্যাত অধ্যাপক ফিলিপ কটলার ও তাঁর প্রতিষ্ঠানের উদ্যোগে ‘ওয়ার্ল্ড মার্কেটিং সামিট ২০২২’ অনুষ্ঠিত হচ্ছে। ফিলিপ কটলার ২০১২ সাল থেকে সফলতার সঙ্গে বিশ্বের বিভিন্ন দেশে মার্কেটিং-সংক্রান্ত অনুষ্ঠান করে আসছেন। এর উদ্দেশ্য, বিশ্বব্যাপী মার্কেটিং-সংক্রান্ত ধারণা দেওয়া ও সচেতনতা গড়ে তোলা। &lt;/p&gt;.&lt;p&gt;এর মাধ্যমে দারিদ্র্য বিমোচন, ব্যবসার প্রসার, স্বাস্থ্য ও পরিবেশের উন্নতি সাধন এবং ভোক্তা অধিকারের মাধ্যমে কীভাবে পরিবেশ বিপর্যয় থেকে বিশ্বকে রক্ষা করা যায়, এ সম্পর্কে সম্যক ধারণা পাওয়া যাবে।&lt;/p&gt;&lt;p&gt;এবারের সামিটে অংশ নিতে বাংলাদেশের ২০ লাখ বিশ্ববিদ্যালয় পর্যায়ের শিক্ষার্থীর টিকিট স্পন্সর করেছে মাইক্রোসফট, অ্যামাজন ও গুগল।&lt;/p&gt;\n",
            "সাউথইস্ট বিশ্ববিদ্যালয় ট্রাস্টের বোর্ড সভা অনুষ্ঠিত https://www.prothomalo.com/bangladesh/rgqaircgcy\n",
            "&lt;p&gt;সাউথইস্ট বিশ্ববিদ্যালয়ের বোর্ড অব ট্রাস্টিজের ১২২তম সভা অনুষ্ঠিত হয়েছে। রাজধানীর তেজগাঁওয়ে বিশ্ববিদ্যালয়ের স্থায়ী ক্যাম্পাসে সম্প্রতি এ সভা অনুষ্ঠিত হয়।&lt;/p&gt;&lt;p&gt;বিশ্ববিদ্যালয়ের চেয়ারম্যান রেজাউল করিমের সভাপতিত্বে একাডেমিক ও প্রশাসনিক বিভিন্ন বিষয়ে আলোচনা হয়। এ সময় সভায় উপস্থাপিত ও আলোচিত বিভিন্ন বিষয়ে সিদ্ধান্ত গৃহীত হয়।&lt;/p&gt;.&lt;p&gt;বিশ্ববিদ্যালয়ের এক সংবাদ বিজ্ঞপ্তিতে এ তথ্য জানানো হয়। এতে বলা হয়, সভায় উপস্থিত সদস্যরা তাঁদের মূল্যবান মতামত তুলে ধরেন। বিশ্ববিদ্যালয়ের ভবিষ্যৎ পরিকল্পনা নিয়ে আলোচনা করেন তাঁরা।&lt;/p&gt;\n",
            "ডেঙ্গুতে ৩ জনের মৃত্যু, হাসপাতালে ভর্তি ৯০৮ https://www.prothomalo.com/bangladesh/heq5qkf3bm\n",
            "&lt;p&gt;ডেঙ্গুতে আরও তিনজনের মৃত্যু হয়েছে। এ নিয়ে সারা দেশে এ বছর ডেঙ্গুতে মৃত্যুর সংখ্যা দাঁড়াল ১৭০। স্বাস্থ্য অধিদপ্তরের হেলথ ইমার্জেন্সি অপারেশন সেন্টার ও কন্ট্রোল রুম এ তথ্য দিয়েছে।&lt;/p&gt;&lt;p&gt;কন্ট্রোল রুমের সর্বশেষ তথ্য অনুযায়ী, গতকাল শনিবার সকাল ৮টা থেকে আজ রোববার সকাল ৮টা পর্যন্ত সারা দেশে ৯০৮ জন নতুন রোগী চিকিৎসার জন্য সরকারি ও বেসরকারি হাসপাতালে ভর্তি হয়েছেন। &lt;/p&gt;.&lt;p&gt;এর মধ্যে রাজধানী ঢাকার হাসপাতালগুলোয় ভর্তি হয়েছেন ৪৭৬ জন। বাকি ৪৩২ জন ভর্তি হয়েছেন দেশের বিভিন্ন জেলার হাসপাতালগুলোয়।&lt;/p&gt;&lt;p&gt;এ বছর ডেঙ্গুতে আক্রান্ত হয়ে হাসপাতালে ভর্তি হওয়ার রোগীর সংখ্যা ৪৩ হাজার ১০৭।&lt;/p&gt;&lt;p&gt;সম্প্রতি এক অনুষ্ঠানে স্বাস্থ্য অধিদপ্তরের কর্মকর্তারা বলেছিলেন, অধিকাংশ রোগীর মৃত্যু হচ্ছে হাসপাতালে ভর্তি হওয়ার প্রথম তিন দিনের মধ্যে। এর কারণ, রোগীরা পরিস্থিতি বেশ খারাপ হওয়ার পর হাসপাতালে ভর্তি হচ্ছেন।&lt;/p&gt;.&lt;p&gt;এ বছর ঢাকা শহরে এ পর্যন্ত ডেঙ্গুতে মারা গেছেন ১০৩ জন। বাকি ৬৭ জনের মৃত্যু হয়েছে বিভিন্ন জেলায়। ঢাকার বাইরে ডেঙ্গুতে সবচেয়ে বেশি মৃত্যু হয়েছে কক্সবাজার জেলায়। এ বছর দেশের উপকূলের এ জেলায় ২৩ জনের মৃত্যু হয়েছে।&lt;/p&gt;.&lt;p&gt;দুই দশকের বেশি সময় ধরে ডেঙ্গু বাংলাদেশে বড় ধরনের জনস্বাস্থ্য সমস্যা। ২০০০ সালের পর থেকে প্রতিবছর বহু মানুষ ডেঙ্গুতে আক্রান্ত হচ্ছেন এবং এতে মৃত্যুও হচ্ছে। গত বছর ডেঙ্গুতে আক্রান্ত হয়ে ২৮ হাজার ৪২৯ জন হাসপাতালে ভর্তি হন। এর মধ্যে ১০৫ জনের মৃত্যু হয়েছিল।&lt;/p&gt;\n",
            "সিলেটে ব্যস্ত রাস্তায় গাড়ি থেকে নামিয়ে ছুরিকাঘাতে বিএনপি নেতাকে হত্যা https://www.prothomalo.com/bangladesh/5dzkao0van\n",
            "&lt;p&gt;সিলেট নগরের আম্বরখানা বড়বাজার এলাকায় ছুরিকাঘাতে বিএনপি নেতা আ ফ ম কামাল (৪৪) খুন হয়েছেন। আজ রোববার রাত সোয়া আটটার দিকে এ ঘটনা ঘটে। নিহত কামাল জেলা বিএনপির সর্বশেষ কমিটির স্বাস্থ্যবিষয়ক সম্পাদক ছিলেন। এ ছাড়া তিনি সিলেট সদর উপজেলা ছাত্রদলের সভাপতি ছিলেন।&lt;/p&gt;.&lt;p&gt;সিলেট মহানগর বিমানবন্দর থানার ভারপ্রাপ্ত কর্মকর্তা (ওসি) খান মুহাম্মদ মইনুল জাকির প্রথম আলোকে কামালের মৃত্যুর বিষয়টি নিশ্চিত করেছেন। তিনি বলেন, কী কারণে কামাল খুন হয়েছেন, এটি এখনো পুলিশ নিশ্চিত হতে পারেনি।&lt;/p&gt;.&lt;p&gt;এ বিষয়ে সিলেট জেলা বিএনপির সভাপতি আবদুল কাইয়ুম চৌধুরী প্রথম আলোকে বলেন, কামালকে কারা খুন করেছে, এটা জানার চেষ্টা করছেন বিএনপি নেতারা। ১৯ নভেম্বর বিএনপির বিভাগীয় গণসমাবেশ সামনে রেখে পরিস্থিতি উত্তপ্ত করতেই এই খুন কি না, এটাও তাঁরা জানার চেষ্টা করছেন।&lt;/p&gt;.&lt;p&gt;বিএনপি ও পুলিশ সূত্রে জানা গেছে, কামাল বড়বাজার এলাকায় ব্যস্ত রাস্তা দিয়ে প্রাইভেট কারে করে যাচ্ছিলেন। এ সময় ছয়–সাতটি মোটরসাইকেলে করে কয়েকজন দুর্বৃত্ত এসে তাঁর গাড়ির পথ রোধ করে। পরে তাঁকে গাড়ি থেকে নামিয়ে উপর্যুপরি ছুরিকাঘাত করে পালিয়ে যায় তারা। গুরুতর আহত অবস্থায় কামালকে সিলেট এম এ জি ওসমানী মেডিকেল কলেজ হাসপাতালে নিয়ে যাওয়া হয়। সেখানে কর্তব্যরত চিকিৎসক তাঁকে মৃত ঘোষণা করেন।&lt;/p&gt;.&lt;p&gt;জানতে চাইলে জেলা ছাত্রদলের সাধারণ সম্পাদক দিলোয়ার হোসেন ওরফে দিনার আজ প্রথম আলোকে বলেন, নিহত কামাল বিভিন্ন সময় সামাজিক যোগাযোগমাধ্যমে আওয়ামী লীগবিরোধী প্রচার–প্রচারণা চালাতেন। গত দুই সপ্তাহ আগেও তাঁর সঙ্গে বড়বাজারের পাশে চৌকিদেখী এলাকায় ছাত্রলীগ ও যুবলীগের কিছু নেতা-কর্মীর কথা–কাটাকাটি হয়।&lt;/p&gt;\n",
            "পুলিশ সদস্যরা অপরাধে জড়ালে কোনো ছাড় নয়: ডিএমপি কমিশনার https://www.prothomalo.com/bangladesh/pwihhan0r7\n",
            "&lt;p&gt;ইউনিফর্মের আড়ালে পুলিশ সদস্যরা অপরাধে জড়ালে কোনো ছাড় দেওয়া হবে না। তবে দায়িত্ব পালন করতে গিয়ে কোনো বিপদ-আপদ এলে বা ব্যক্তিগত ও পারিবারিক সমস্যায় পড়লে সব সময় তাঁদের পাশে থাকার প্রতিশ্রুতি দিয়েছেন ঢাকা মহানগর পুলিশের (ডিএমপি) নবনিযুক্ত কমিশনার খন্দকার গোলাম ফারুক।&lt;/p&gt;.&lt;p&gt;ডিএমপি কমিশনার হিসেবে দায়িত্ব গ্রহণের পর রোববার সকালে রাজধানীর মিরপুরে পাবলিক অর্ডার ম্যানেজমেন্ট (পিওএম) পুলিশ লাইনসে পুলিশ সদস্যদের সঙ্গে বিশেষ কল্যাণ সভায় তিনি এ কথা বলেন। খন্দকার গোলাম ফারুক বলেন, ‘আমাদের এমনভাবে দায়িত্ব পালন করা উচিত, যেন অবসরে যাওয়ার পরেও মানুষ আমাদের মনে রাখে।’&lt;/p&gt;&lt;p&gt;নবনিযুক্ত ডিএমপি কমিশনার বলেন, পুলিশ বাহিনীর মানসিক শক্তি ও ইচ্ছা থাকলে যেকোনো অজেয় জয় করা সম্ভব। এ জন্য বাহিনীর সঙ্গে কখনো সন্তান, কখনো ভাই, কখনো বন্ধুর মতো মিশতে হবে। তাঁদের ইচ্ছাশক্তি কাজে লাগাতে হবে। আবার দায়িত্ব পালনের সময় কমান্ডারের অবস্থানও ধরে রাখতে হবে।&lt;/p&gt;.&lt;p&gt;কনস্টেবল থেকে আইজিপি সবাই পুলিশ, সবাই একটি পরিবার উল্লেখ করে কমিশনার আরও বলেন, শরীরের কোনো অঙ্গে আঘাত পেলে যেমন পুরো শরীরটা কষ্ট পায়, তেমনি কনস্টেবলের গায়ে আঘাত লাগলে সেটা কমিশনারের গায়েও লাগে। পুলিশের সম্মান রক্ষা করতে হবে, ইউনিফর্মের সম্মান রক্ষা করতে হবে।&lt;/p&gt;.&lt;p&gt;গোলাম ফারুক বলেন, বাংলাদেশ পুলিশ চ্যালেঞ্জ মোকাবিলায় কখনোই ব্যর্থ হয় না। মহান স্বাধীনতার সশস্ত্র যুদ্ধের প্রথম প্রতিরোধকারীর গৌরবময় অংশীদার পুলিশ। সেই ৭১ থেকে আজ পর্যন্ত যেকোনো ক্রান্তিলগ্নে পুলিশ বাংলাদেশের স্বাধীনতা ও সার্বভৌমত্ব ক্ষুণ্ন হতে দেয়নি। ২০১৩–১৪ সালের অগ্নিসংযোগ, বোমা হামলা, জঙ্গি বা করোনা মহামারি কোনো কিছুই পুলিশের মনোবলে চিড় ধরাতে পারেনি। সরকার যখন যে দায়িত্ব দিয়েছে, তা পুলিশ বাহিনী অত্যন্ত নিষ্ঠা ও সফলতার সঙ্গে পালন করেছে এবং ভবিষ্যতেও করবে।&lt;/p&gt;.&lt;p&gt;উপপুলিশ কমিশনার (পিওএম-দক্ষিণ) মোহাম্মদ মতিয়ার রহমানের সঞ্চালনায় বিশেষ কল্যাণ সভায় সভাপতিত্ব করেন অতিরিক্ত পুলিশ কমিশনার (প্রশাসন) মীর রেজাউল আলম। অনুষ্ঠানে আরও উপস্থিত ছিলেন ডিএমপির অতিরিক্ত পুলিশ কমিশনার (কাউন্টার টেররিজম অ্যান্ড ট্রান্সন্যাশনাল ক্রাইম) মো. আসাদুজ্জামান, অতিরিক্ত পুলিশ কমিশনার (গোয়েন্দা) মোহাম্মদ হারুন অর রশীদ প্রমুখ।&lt;/p&gt;\n",
            "চাঁদপুরে ভুল সেটের প্রশ্নপত্র দিয়ে এইচএসসি পরীক্ষা নেওয়ার অভিযোগ https://www.prothomalo.com/bangladesh/district/9hsxf08pei\n",
            "&lt;p&gt;চাঁদপুরে কারিগরি বোর্ডের অধীন এইচএসসি পরীক্ষার একটি কেন্দ্রে ভুল সেটের প্রশ্নপত্র সরবরাহের অভিযোগ পাওয়া গেছে। রোববার শাহরাস্তি উপজেলার চিতোষী আরঅ্যান্ডএম উচ্চবিদ্যালয়ে বাংলা দ্বিতীয়পত্র পরীক্ষায় এ ঘটনা ঘটে।&lt;/p&gt;&lt;p&gt;ওই কেন্দ্রে চিতোষী ডিগ্রি কলেজের ৮৮ শিক্ষার্থী পরীক্ষা দিচ্ছে। এ ঘটনায় আজ রাতে উপজেলা মাধ্যমিক শিক্ষা কর্মকর্তা, কেন্দ্রসচিব ও ট্যাগ কর্মকর্তাকে পরীক্ষার দায়িত্ব থেকে সরিয়ে দিয়েছেন অতিরিক্ত জেলা প্রশাসক (শিক্ষা ও আইসিটি) বশির আহমেদ।&lt;/p&gt;.&lt;p&gt;উপজেলা প্রশাসন ও ওই কেন্দ্রের একাধিক সূত্র জানায়, আজ বেলা ১১টায় চিতোষী আরঅ্যান্ডএম উচ্চবিদ্যালয় কেন্দ্রে কারিগরি শিক্ষা বোর্ডের অধীন এইচএসসি (বিএম) বাংলা দ্বিতীয়পত্র পরীক্ষা অনুষ্ঠিত হয়। বোর্ডের নির্দেশনা অনুযায়ী ‘ক’ সেটের প্রশ্নপত্রে পরীক্ষা নেওয়ার কথা ছিল। কিন্তু কেন্দ্রের সচিব কামরুন্নাহার ‘খ’ সেট দিয়ে পরীক্ষা শুরু করেন।&lt;/p&gt;&lt;p&gt;পরীক্ষার শেষ দিকে প্রশ্নের অসংগতি দেখে কেন্দ্রের দায়িত্বপ্রাপ্ত কর্মকর্তারা বিষয়টি উপজেলা নির্বাহী কর্মকর্তা (ইউএনও) মোহাম্মদ হুমায়ুন রশিদকে অবহিত করেন। খবর পেয়ে তিনি ঘটনাস্থলে ছুটে আসেন। ততক্ষণে পরীক্ষা শেষ হয়ে যায়। কেন্দ্রের সচিব ও চিতোষী ডিগ্রি কলেজের ভারপ্রাপ্ত অধ্যক্ষ কামরুন্নাহার বলেন, ভুলবশত এমনটি হয়েছে।&lt;/p&gt;.&lt;p&gt;ইউএনও মোহাম্মদ হুমায়ুন রশিদ বলেন, ‘আমি ১০টা ৩৭ মিনিটে খুদে বার্তায় কেন্দ্রের সচিবকে ‘ক’ সেটে পরীক্ষা নেওয়ার নির্দেশনা পাঠাই। দুপুর ১২টা ৩৯ মিনিটে সমাজসেবা কর্মকর্তার মাধ্যমে জানতে পারি ‘খ’ সেটে পরীক্ষা হচ্ছে। অতিরিক্ত জেলা প্রশাসক (শিক্ষা ও আইসিটি) বশির আহমেদ বিষয়টি তদন্ত করছেন। বোর্ড কর্তৃপক্ষের সঙ্গে এ বিষয়ে কথা হয়েছে। পরীক্ষার্থীদের ফলাফলে কোনো সমস্যা হবে না।’&lt;/p&gt;&lt;p&gt;অতিরিক্ত জেলা প্রশাসক (শিক্ষা ও আইসিটি) বশির আহমেদ বলেন, ‘আমরা কারিগরি শিক্ষা বোর্ডের সঙ্গে কথা বলেছি। পরীক্ষা বাতিল করা হচ্ছে না। তদন্ত চলছে। এখানে যদি কারও গাফলতি থাকে, তাহলে প্রয়োজনীয় ব্যবস্থা নেওয়া হবে।’&lt;/p&gt;\n",
            "বিচারপতি শামসুদ্দিন চৌধুরীর ওপর হামলা, কারাগারে বিএনপির ১১ নেতা–কর্মী https://www.prothomalo.com/bangladesh/xrj0il20xx\n",
            "&lt;p&gt;সুপ্রিম কোর্টের অবসরপ্রাপ্ত বিচারপতি এ এইচ এম শামসুদ্দিন চৌধুরীর ওপর হামলার ঘটনার মামলায় গ্রেপ্তার বিএনপি ও এর অঙ্গসংগঠনের ১১ নেতা-কর্মীকে কারাগারে পাঠানো হয়েছে। ঢাকার চিফ মেট্রোপলিটন ম্যাজিস্ট্রেট (সিএমএম) আদালতের ম্যাজিস্ট্রেট শহীদুল ইসলাম আজ রোববার এ আদেশ দেন।&lt;/p&gt;.&lt;p&gt;এর আগে পল্টন থানার মামলায় গ্রেপ্তার ১১ আসামিকে দুদিন রিমান্ডে নিয়ে জিজ্ঞাসাবাদ শেষে আদালতে হাজির করা হয়। পরে আদালত তাঁদের কারাগারে পাঠানোর আদেশ দেন।&lt;/p&gt;&lt;p&gt;কারাগারে পাঠানো ১১ আসামি হলেন ছাত্রদলের কেন্দ্রীয় কমিটির যুগ্ম সাধারণ সম্পাদক মাকসুদুর রহমান, জগন্নাথ বিশ্ববিদ্যালয় শাখা ছাত্রদলের সাবেক যুগ্ম সাধারণ সম্পাদক মো. শাখাওয়াত হোসেন খান, কলাবাগান শাখা ছাত্রদলের সদস্য মো. রবিন খান ও মো. সাগর, বিএনপির নেতা জসীম উদ্দিন, হারুন অর রশীদ, মতিউর রহমান, শামীম রহমান, জামাল হোসেন, আরিফুল ইসলাম ও আবু তাহের।&lt;/p&gt;.আমাকেও মারধর করা হয়েছে: বিচারপতি শামসুদ্দিন চৌধুরী.&lt;p&gt;গত বুধবার বিকেলে পল্টন এলাকায় বিএনপির সমাবেশ ছিল। এ সমাবেশ থেকে শামসুদ্দিন চৌধুরীর ওপর হামলা করা হয় বলে মামলায় অভিযোগ আনা হয়েছে।&lt;/p&gt;.&lt;p&gt;বিচারপতি শামসুদ্দিন চৌধুরীর নিরাপত্তার দায়িত্বে থাকা পুলিশ কনস্টেবল রফিকুল ইসলাম বলেন, বিএনপির সমাবেশ থেকে এ হামলা করা হয়। হামলার ঘটনায় রফিকুল ইসলাম বাদী হয়ে পল্টন থানায় মামলা করেন। মামলায় অজ্ঞাতনামা ৪০ থেকে ৫০ জনকে আসামি করা হয়েছে।&lt;/p&gt;.বিচারপতি শামসুদ্দিন চৌধুরীর ওপর হামলা: রিমান্ডে বিএনপির ১১ নেতা–কর্মী\n",
            "বিআরটি প্রকল্পের উড়ালপথের একাংশে যান চলাচল শুরু https://www.prothomalo.com/bangladesh/district/xxbj0l6vqm\n",
            "&lt;p&gt;বহুল আলোচিত বাস র‌্যাপিড ট্রানজিট (বিআরটি) প্রকল্পের রাজধানীর উত্তরা থেকে টঙ্গী পর্যন্ত উড়ালপথের একাংশ যানবাহন চলাচলের জন্য খুলে দেওয়া হয়েছে। তবে কাজ অসম্পূর্ণ থাকায় এ পথে ঢাকা থেকে যানবাহন যেতে পারবে না। কেবল টঙ্গী থেকে ঢাকামুখী যানবাহন চলবে।&lt;/p&gt;&lt;p&gt;আজ রোববার সকালে রাজধানীর উত্তরায় উড়ালপথটির উদ্বোধন করেন সড়ক পরিবহন ও সেতুমন্ত্রী ওবায়দুল কাদের। এরপর উড়ালপথটি দিয়ে যান চলাচল শুরু হয়।&lt;/p&gt;.উড়ালপথের পুরো কাজ হয়নি, চালুর তোড়জোড়.&lt;p&gt;২০১২ সালে শুরু হওয়া বিআরটি প্রকল্পের অধীন ২০১৬ সালে বিশেষ বাস চালুর কথা ছিল। প্রকল্পের পরিকল্পনা অনুযায়ী, ঢাকার শাহজালাল আন্তর্জাতিক বিমানবন্দর থেকে গাজীপুরের জয়দেবপুর পর্যন্ত জোড়া লাগানো আধুনিক বাস চলবে। এসব বাসের পথ হবে সড়কের মাঝখান দিয়ে। যানজট, সংকেত কিংবা অন্য কোনো কারণে কোথাও বাসের চলাচল বাধাগ্রস্ত হবে না। ঘণ্টায় ২০ হাজার যাত্রী যাতায়াত করতে পারবে। কিন্তু গত আগস্ট পর্যন্ত প্রকল্পের কাজ এগিয়েছে মাত্র ৮১ দশমিক ৬৫ শতাংশ। এমন অবস্থায় প্রকল্পের গর্ত, খানাখন্দসহ নানা সমস্যায় ১০ বছর ধরেই ভোগান্তি পোহাচ্ছে মানুষ। আর এর মধ্যেই রোববার উড়ালপথের একাংশ চালু করা হয়।&lt;/p&gt;.&lt;p&gt;উড়ালপথটি উত্তরার হাউজবিল্ডিং থেকে শুরু হয়ে শেষে হয়েছে টঙ্গীর কলেজগেট এলাকায়। দৈর্ঘ্য ৪ দশমিক ৫ কিলোমিটার। এর মধ্যে হাউজবিল্ডিং থেকে স্টেশন রোড পর্যন্ত ২ দশমিক ২ কিলোমিটার চালু করা হয়েছে। মোট ৬ লেনের উড়ালপথ এটি। এর মাঝখানের দুই লেন দিয়ে বিশেষ বাস চলার কথা। আর দুই পাশের চার লেন দিয়ে অন্য যানবাহন চলাচল করবে। টঙ্গী থেকে ঢাকায় আসার পথটির কাজ অনেক বাকি আছে। এ পথে ১০ লেনের টঙ্গী সেতুর ৫ লেনের কাজ এখনো শুরুই হয়নি।&lt;/p&gt;.খামখেয়ালির দৃষ্টান্ত বিআরটি প্রকল্প.&lt;p&gt;চালু হওয়া উড়ালপথের টঙ্গীর বাটাগেট এলাকায় একটি বাঁকের মাধ্যমে দুটি লেন এক করা হয়েছে। অর্থাৎ স্টেশন রোড থেকে প্রথমে ঢাকামুখী লেনে গাড়ি উঠবে। এরপর সেতুর এ বাঁকে লেন পরিবর্তন করে গাড়িগুলো প্রবেশ করবে ময়মনসিংহমুখী লেনে। এরপর এ লেন ধরেই গাড়ি এসে নামবে সাইদগ্র্যান্ড সেন্টারের সামনে।&lt;/p&gt;&lt;p&gt;পুরো কাজ শেষ না করে উড়ালপথটি চালুর ব্যাপারে বেশ কিছু আপত্তির কথা জানিয়েছিল ঢাকা ও গাজীপুর মহানগর পুলিশের ট্রাফিক বিভাগ। তারা বলছে, সড়কটি প্রচুর ব্যস্ত। এর মধ্যে অসংখ্য যানবাহনের উড়ালপথে ওঠা বা মাঝপথে লেন পরিবর্তন করতে গিয়ে গতি কমে যানজটের আশঙ্কা রয়েছে। একইভাবে উত্তরার সাইদগ্র্যান্ড সেন্টারের সামনে সড়কের ওপর পথচারী পারাপারে জেব্রা ক্রসিং এবং ঢাকা উত্তর সিটি করপোরেশনের ময়লার ভাগাড়ের কারণে যান চলাচলের স্বাভাবিক গতি ব্যাহত হতে পারে বলে মনে করছেন পুলিশ কর্মকর্তারা। এ ছাড়া উড়ালপথে যথাযথ নিরাপত্তাবেষ্টনী, পর্যাপ্ত লেন না থাকাসহ বেশ কিছু অসংগতির কথা জানান তাঁরা।&lt;/p&gt;&lt;p&gt;গাজীপুর মহানগর পুলিশের উপকমিশনার মো. আলমগীর হোসেন শনিবার প্রথম আলোকে বলেন, তাঁদের আপত্তির অধিকাংশই সমাধান হয়েছে। বিশেষ করে উড়ালপথের পাশাপাশি তুরাগ নদের ওপর (বর্তমান টঙ্গী ব্রিজের পাশে) একটি বেইলি সেতু নির্মাণের উদ্যোগ নেওয়া হয়েছে। ফলে বেইলি সেতু ও উড়ালপথে একসঙ্গে গাড়ি চললে যানজট হবে না। এর বাইরে ডিএনসিসির ময়লার ভাগাড় ও জেব্রা ক্রসিং নিয়েও প্রকল্প কর্তৃপক্ষ কাজ করছে।&lt;/p&gt;.&lt;p&gt;বিআরটির ব্যবস্থাপনা পরিচালক শফিকুল ইসলামও একই কথা জানিয়েছেন। তিনি প্রথম আলোকে বলেন, এখন যান চলাচলে কোনো সমস্যা হবে না।&lt;/p&gt;.&lt;p&gt;উড়ালপথের উদ্বোধনী অনুষ্ঠানে সেতুমন্ত্রী ও আওয়ামী লীগের সাধারণ সম্পাদক ওবায়দুল কাদের বলেন, বিএনপি কখনোই দেশের মানুষের উন্নয়নে দৃশ্যমান কোনো কাজ দেখাতে পারেনি। গাজীপুরের মানুষের দুর্ভোগ কমানোর জন্য ঢাকামুখী লেন খুলে দেওয়া হয়েছে। এ প্রকল্প নিয়ে সমালোচনা কম হয়নি। কিন্তু সরকার কাজের মাধ্যমে সেই সমালোচনার জবাব দিয়েছে।&lt;/p&gt;&lt;p&gt;নির্বাচন ছাড়া আর কোনো পথে সরকার পরিবর্তন হবে না উল্লেখ করে বিএনপির উদ্দেশে ওবায়দুল কাদের আরও বলেন, ‘আগামী নির্বাচনে অংশগ্রহণ করুন। জনগণই সিদ্ধান্ত নেবে, রায় দেবে কারা কারা ‘সেইফ এক্সিট’ (নিরাপদ প্রস্থান) নেবে, কারা ক্ষমতায় আসবে। সেইফ এক্সিট রাজপথে মোকাবিলা হবে। আমরা আন্দোলন রাজপথে রাজনৈতিকভাবে মোকাবিলা করব।’&lt;/p&gt;.&lt;p&gt;বিএনপির চলমান কোনো সভা-সমাবেশে আওয়ামী লীগ বাধা দিচ্ছে না দাবি করে ওবায়দুল কাদের বলেন, ‘হাসিনা সরকার কতটা উদার! তাদের (বিএনপি) আজ সভা-সমাবেশ করতে দিচ্ছে। তারা লন্ডনের ফরমাশে সারা দেশে সভা-সমাবেশ করছে। কিন্তু আওয়ামী লীগ তাদের কোনো বাধা দিচ্ছে না। আওয়ামী লীগ, আওয়ামী লীগের রুটিন ওয়ার্ক জাতীয় নির্বাচন ও জাতীয় সম্মেলনকে সামনে রেখে কাজ করে যাচ্ছে। আমরা তাদের কোনো বাধা দেই নাই।’&lt;/p&gt;&lt;p&gt;এ সময় উপস্থিত ছিলেন মুক্তিযুদ্ধবিষয়ক মন্ত্রী আ ক ম মোজাম্মেল হক, যুব ও ক্রীড়া প্রতিমন্ত্রী জাহিদ আহসান রাসেল, ঢাকা উত্তর সিটি করপোরেশনের মেয়র আতিকুল ইসলাম, গাজীপুর সিটি করপোরেশনের ভারপ্রাপ্ত মেয়র আসাদুর রহমান, গাজীপুর মহানগর আওয়ামী লীগের সভাপতি আজমত উল্লাহ খান প্রমুখ।&lt;/p&gt;\n",
            "গাজীপুরে কারখানায় তিন শ্রমিককে মারধর, বিক্ষোভ https://www.prothomalo.com/bangladesh/district/prdh2qz082\n",
            "&lt;p&gt;গাজীপুরের কালিয়াকৈর উপজেলার তৈরি পোশাকের একটি কারখানায় তিনজন শ্রমিককে মারধরের জের ধরে ওই কারখানার শ্রমিকেরা বিক্ষোভ করেছেন। রোববার সকাল থেকে বিকেল পর্যন্ত কারখানার মূল ফটক বন্ধ করে শ্রমিকেরা এ কর্মসূচি পালন করেন। তাঁরা কারখানার অভিযুক্ত কর্মকর্তাদের অপসারণের দাবি জানান। পরিস্থিতি শান্ত করতে কারখানাটিতে এক দিনের ছুটি ঘোষণা করা হয়েছে।&lt;/p&gt;&lt;p&gt;উপজেলার নিশ্চিন্তপুর এলাকায় পোশাক কারখানাটির নাম লিংকটেক্স স্পোর্ট ওয়্যার লিমিটেড। পুলিশ ও আন্দোলনরত শ্রমিকদের সঙ্গে কথা বলে জানা যায়, গত বৃহস্পতিবার সন্ধ্যায় কাজ ভুল হওয়ার অভিযোগ তুলে কারখানার আয়রন সুপারভাইজার সোহাগ মিয়া, আয়রন সহকারী ইমরান হোসেন ও আয়রন হেলপার ইনামুল হোসেনকে কারখানার নিরাপত্তাকর্মীদের কক্ষে নিয়ে লোহার পাইপ দিয়ে বেধড়ক মারধর করেন কারখানার কোয়ালিটি ব্যবস্থাপক মহসিন উজ্জামান। এতে তাঁরা আহত হন। মারধরের পর আহত তিনজন কারখানা থেকে বের হয়ে বাসায় চলে যান।&lt;/p&gt;.&lt;p&gt;ঘটনার পর শুক্রবার ছিল সাপ্তাহিক বন্ধ। শনিবারও কারখানাটির অনেক কর্মীর ছুটি ছিল। ছুটি শেষে রোববার শ্রমিকেরা প্রতিদিনের মতো কাজ করতে কারখানায় যান। এ সময় তিন শ্রমিককে মারধরের খবর শ্রমিকদের মধ্যে ছড়িয়ে পড়ে। এ খবর শোনার পর শ্রমিকেরা উত্তেজিত হয়ে কাজ বন্ধ রেখে কারখানার ভেতর অবস্থান নিয়ে বিক্ষোভ শুরু করেন। একপর্যায়ে তাঁরা কোয়ালিটি ম্যানেজার মহসিন উজ্জামানের অপসারণ দাবি করেন। খবর পেয়ে গাজীপুর শিল্প পুলিশ ঘটনাস্থলে গিয়ে শ্রমিকদের বুঝিয়ে শান্ত করার চেষ্টা করে ব্যর্থ হয়। শ্রমিকেরা মারধরের প্রতিবাদ এবং অভিযুক্তদের অপসারণের দাবিতে বিক্ষোভ করতে থাকেন।&lt;/p&gt;&lt;p&gt;শ্রমিকদের দাবির পরিপ্রেক্ষিতে বিকেলে কারখানা কর্তৃপক্ষ কোয়ালিটি ম্যানেজার মহসিনকে চাকরি থেকে অব্যাহতি দেয়। এতেও শ্রমিকেরা শান্ত না হয়ে কারখানার ব্যবস্থাপক (প্রশাসন) মোক্তার হোসেন এবং মানব সম্পদ বিভাগের কর্মকর্তা (প্রশাসন) কামরুজ্জামানেরও অপসারণ দাবি করেন। পরে কারখানা কর্তৃপক্ষ কারখানা এক দিনের ছুটি ঘোষণা করে। এরপরও শ্রমিকেরা কর্মসূচি কিছুক্ষণ অব্যাহত রেখে বাসায় চলে যান।&lt;/p&gt;.&lt;p&gt;কারখানার একাধিক শ্রমিক জানান, বিনা কারণে তিন শ্রমিককে মারধর করা হয়েছে। মাঝেমধ্যে সামান্য ভুল হলে শ্রমিকদের সঙ্গে খারাপ আচরণ করা হয়। এর আগে বিনা কারণে কারখানার ৭০ জন শ্রমিককে ছাঁটাই করা হয়েছে। কারখানার তিন শ্রমিককে মারধর এবং অভিযুক্ত কর্মকর্তার অপসারণের দাবিতে তাঁরা কারখানায় কর্মবিরতি পালন করছেন। এই কর্মবিরতি অব্যাহত থাকবে কি না, এ বিষয়ে শ্রমিকদের তরফ থেকে কিছু বলা হয়নি।&lt;/p&gt;.&lt;p&gt;কারখানা ব্যবস্থাপক (প্রশাসন) মোক্তার হোসেন বলেন, হালকা মারধরের ঘটনাকে শ্রমিকেরা বড় করে দেখছেন। তারপরও শ্রমিকদের দাবি মেনে নেওয়া হয়। কিন্তু তাঁরা বিক্ষোভ করতে থাকেন। এমন অবস্থায় পরিস্থিতি শান্ত রাখতে কারখানায় এক দিনের ছুটি ঘোষণা করা হয়েছে।&lt;/p&gt;&lt;p&gt;কারখানায় ছুটি ঘোষণার পর পরিস্থিতি শান্ত হয় জানিয়ে গাজীপুর শিল্প পুলিশের ওসি নিতাই চন্দ্র সরকার বলেন, কারখানা এলাকায় অতিরিক্ত পুলিশ মোতায়েন করা হয়েছে।&lt;/p&gt;\n",
            "রায়পুরায় গৃহবধূকে ছুরিকাঘাত করে হত্যার অভিযোগ স্বামীর বিরুদ্ধে https://www.prothomalo.com/bangladesh/district/xq0xw7qs1j\n",
            "&lt;p&gt;নরসিংদীর রায়পুরা উপজেলায় পারিবারিক কলহের জেরে এক গৃহবধূকে ছুরিকাঘাত করে হত্যার অভিযোগ উঠেছে তাঁর স্বামীর বিরুদ্ধে। আজ রোববার ভোরে উপজেলার মাহমুদপুর গ্রামে এ হত্যাকাণ্ড ঘটে। নিহত লাভলী আক্তার (৩০) ওই গ্রামের সুজন মিয়ার (৩৫) স্ত্রী ছিলেন। ঘটনার পর থেকে সুজনসহ তাঁর পরিবারের সদস্যরা পলাতক।&lt;/p&gt;.&lt;p&gt;পুলিশ ও স্থানীয় লোকজনের সঙ্গে কথা বলে জানা গেছে, পারিবারিক বিভিন্ন বিষয় নিয়ে লাভলী আক্তারের সঙ্গে প্রায়ই ঝগড়া হতো শ্বশুরবাড়ির সদস্যদের। গতকাল শনিবার দিবাগত রাত একটার দিকে তাঁদের মধ্যে কয়েক দফা ঝগড়ার শব্দ শুনতে পাওয়া যায়। আজ রোববার ভোরে আবারও তাঁদের মধ্যে ঝগড়ার শব্দ শুনতে পান প্রতিবেশীরা। সকালে লাভলী আক্তারের শয়নকক্ষে তাঁকে রক্তাক্ত অবস্থায় দেখতে পান স্থানীয় লোকজন। পরে তাঁদের কাছ থেকে খবর পেয়ে পুলিশ ঘটনাস্থলে গিয়ে লাশ উদ্ধার করে। হত্যাকাণ্ডের পর থেকে লাভলী আক্তারের স্বামী সুজন মিয়াসহ শ্বশুরবাড়ির সবাই পলাতক।&lt;/p&gt;.&lt;p&gt;রায়পুরা থানার উপপরিদর্শক আমিনুল ইসলাম জানান, পারিবারিক কলহের জেরে ধরেই এই হত্যাকাণ্ডের ঘটনা ঘটেছে বলে প্রাথমিকভাবে জানতে পেরেছেন তাঁরা। নিহতের স্বামীসহ বাড়িটির পলাতক সদস্যদের গ্রেপ্তারের চেষ্টা চলছে। আজ রাতেই নিহতের স্বজনেরা মামলা করতে আসবেন বলে জানান তিনি। নিহতের লাশ ময়নাতদন্তের জন্য নরসিংদী সদর হাসপাতালের মর্গে পাঠানো হয়েছে।&lt;/p&gt;\n",
            "বোয়ালমারীতে এক ইউপি সদস্যের করা মামলায় অপর চারজন কারাগারে https://www.prothomalo.com/bangladesh/district/2efb5zfxer\n",
            "&lt;p&gt;ফরিদপুরের বোয়ালমারী উপজেলার রুপাপাত ইউনিয়ন পরিষদের (ইউপি) এক সদস্যের করা প্রতারণা মামলায় অপর চার ইউপি সদস্যকে কারাগারে পাঠিয়েছেন আদালত।&lt;/p&gt;&lt;p&gt;আজ রোববার দুপুরে ফরিদপুরের অতিরিক্ত চিফ জুডিশিয়াল ম্যাজিস্ট্রেট ১ নম্বর আমলি আদালতের বিচারক তরুণ বাছার এ আদেশ দেন।&lt;/p&gt;.&lt;p&gt;ওই চার ইউপি সদস্য হলেন রুপাপাত ইউনিয়নের এক নম্বর ওয়ার্ডের সদস্য খন্দকার আইয়ুব আলী (৪৮), দুই নম্বর ওয়ার্ড সদস্য মো. মুনজুরুল ইসলাম (৪০), তিন নম্বর ওয়ার্ড সদস্য রকিবুল বারি (৩৬) ও চার নম্বর ওয়ার্ডের খুরসিদুল বারি (৫২)।&lt;/p&gt;&lt;p&gt;আদালত সূত্রে জানা গেছে, মাসখানেক আগে একই ইউনিয়নের ৬ নম্বর ওয়ার্ডের সদস্য আওয়াল মোল্লা (৬০) ওই চার ইউপি সদস্যের নামে প্রতারণার অভিযোগে মামলাটি করেন। আজ বেলা ১১টার দিকে চার আসামি হাজির হয়ে জামিনের আবেদন করেন।&lt;/p&gt;.&lt;p&gt;মামলায় অভিযোগ আনা হয়, ওই ইউপি সদস্য খুব একটা পড়ালেখা জানেন না। সরকারি সহায়তার কথা বলে তাঁর কাছ থেকে একটি কাগজে সই নেওয়া হয়। পরে জানা যায়, আসলে ইউপি চেয়ারম্যানের বিরুদ্ধে অনাস্থা প্রস্তাব আনতে ওই সই নেওয়া হয়েছে।&lt;/p&gt;&lt;p&gt;রুপাপাত ইউনিয়ন পরিষদের (ইউপি) চেয়ারম্যান মো. মিজানুর রহমান প্রথম আলোকে বলেন, ওই চার ইউপি সদস্য আদালতে হাজির হয়ে জামিন আবদেন করলে বিচারক তা নামঞ্জুর করেন এবং তাঁদের কারাগারে পাঠানোর আদেশ দেন।&lt;/p&gt;\n",
            "‘বিএনপির আন্দোলনে জনসম্পৃক্ততা দেখে সরকার দিশাহারা’ https://www.prothomalo.com/bangladesh/district/dv25b2tksy\n",
            "&lt;p&gt;বিএনপির চলমান গণতান্ত্রিক আন্দোলনে জনগণের সম্পৃক্ততা দেখে সরকার দিশাহারা হয়ে গেছে। তারা জনগণের প্রতিবাদ থামিয়ে দিতে চায়। কিন্তু সরকার বুঝতে পারছে না, জনগণের পিঠ দেয়ালে ঠেকে গেছে। এখন দেশের মানুষ ঘুরে দাঁড়াতে শুরু করেছে। ১৯ নভেম্বর সিলেট শহরে বিএনপির গণসমাবেশে মানুষের ঢল নামবে। সিলেটের মানুষ প্রমাণ করবে, তারা আর আওয়ামী লীগকে চায় না।&lt;/p&gt;&lt;p&gt;আজ রোববার বিকেলে সিলেটের দক্ষিণ সুরমা উপজেলার কামালবাজার ইউনিয়ন বিএনপির উদ্যোগে ওই ইউনিয়নের বিভিন্ন এলাকায় গণসংযোগকালে জেলা বিএনপির সভাপতি আবদুল কাইয়ুম চৌধুরী এসব কথা বলেন।&lt;/p&gt;.&lt;p&gt;প্রধান অতিথি বক্তৃতায় আবদুল কাইয়ুম চৌধুরী আরও বলেন, সিলেটের গণসমাবেশের পর বিজয়ের মাসে ঢাকায় সমাবেশ হবে। সেই সমাবেশ থেকে সরকার পতনের চূড়ান্ত কর্মসূচি ঘোষণা করা হবে। ডিসেম্বর মাস হবে সরকারের বিদায় ও গণতান্ত্রিক আন্দোলনের বিজয়ের মাস। বিজয়ের মাসে জনগণের বিজয় হবে।&lt;/p&gt;&lt;p&gt;আবদুল কাইয়ুম চৌধুরী বলেন, সরকারের বিরুদ্ধে দেশব্যাপী গণজাগরণ সৃষ্টি হয়েছে। শাসক দলীয় ক্যাডারদের হামলা, পরিকল্পিতভাবে যান চলাচল বন্ধ করা, পুলিশি গ্রেপ্তার ও হয়রানির ঘটনা যত বাড়ছে, বিএনপির কর্মসূচিতে ততই জনস্রোত দেখা যাচ্ছে। সিলেটের গণসমাবেশেও জনজোয়ারের সৃষ্টি হবে।&lt;/p&gt;.&lt;p&gt;গণসংযোগকালে বিএনপির নেতারা প্রচারপত্র বিতরণ করেন। কামালবাজার ইউনিয়ন বিএনপির সভাপতি গোলজার আহমদের সভাপতিত্বে ও সাধারণ সম্পাদক দিলওয়ার হোসেনের সঞ্চালনায় পথসভা অনুষ্ঠিত হয়। পথসভায় প্রধান বক্তার বক্তব্য দেন জেলা বিএনপির সাধারণ সম্পাদক এমরান আহমদ চৌধুরী।&lt;/p&gt;&lt;p&gt;এমরান আহমদ চৌধুরী বলেন, আওয়ামী লীগ সরকার লাগামহীন লুটপাট করে দেশে দুর্ভিক্ষ নিয়ে এসেছে। মানুষ এখন দুবেলা পেট ভরে খেতে পারছে না। দেশে খাদ্যসংকট, রিজার্ভসংকট দেখা দিয়েছে। জনগণ এ দশা থেকে মুক্তি চায়। তাই জনগণের ন্যায্য দাবি নিয়ে আন্দোলন করছে বিএনপি।&lt;/p&gt;.&lt;p&gt;পথসভায় অন্যান্যের মধ্যে জেলা বিএনপির নেতা হাসান আহমদ পাটোয়ারী, দক্ষিণ সুরমা উপজেলা বিএনপির সভাপতি মো. শাহার উদ্দিন, সাধারণ সম্পাদক কোহিনুর আহমদ, জেলা বিএনপির ফালাকুজ্জামান চৌধুরী, জেলা কৃষক দলের সদস্যসচিব তাজরুল ইসলাম, জেলা বিএনপির নেতা আবু তাহের, আক্তার হোসেন, আবদুল লতিফ খান, আজিজুল হোসেন, বজলুর রহমান, মাহবুব আলম, মনিরুল ইসলাম, মুহিবুর রহমান, এনামুল হক প্রমুখ বক্তব্য দেন।&lt;/p&gt;&lt;p&gt;এদিকে সিলেট সদর উপজেলা বিএনপি, যুবদল, স্বেচ্ছাসেবক দল, ছাত্রদল ও শ্রমিক দলের যৌথ উদ্যোগে আজ বিকেলে উপজেলার টুকেরবাজার তেমুখী এলাকায় প্রচার মিছিল ও সমাবেশ হয়েছে। এ সময় উপজেলা বিএনপির সভাপতি আবুল কাশেম, উপজেলা যুবদলের আহ্বায়ক আবুল হাসনাত, জেলা স্বেচ্ছাসেবক দলের আহ্বায়ক কমিটির সদস্য আমজাদ হোসেন, উপজেলা যুবদলের যুগ্ম আহ্বায়ক নুরুল আলম, আবদুস সালাম ও এনাম হোসেন, কান্দিগাঁও ইউনিয়ন বিএনপির সাংগঠনিক সম্পাদক নুরুল ইসলাম প্রমুখ উপস্থিত ছিলেন।&lt;/p&gt;\n",
            "একসঙ্গে এইচএসসি পরীক্ষা দিচ্ছেন মা–মেয়ে https://www.prothomalo.com/bangladesh/district/fzl8mo5fa5\n",
            "&lt;p&gt;দশম শ্রেণিতে পড়ার সময় বিয়ে হয়ে যায় তাঁর। কিন্তু লেখাপড়ার প্রতি প্রবল আগ্রহ ছিল তাঁর। এরপর কেটে যায় ১৭টি বছর। একে একে চার সন্তানের মা হন। সন্তানেরা বড় হওয়ার পর আবার লেখাপড়া শুরু করেন। ইচ্ছা থাকলে যে উপায় হয়, তার উজ্জ্বল দৃষ্টান্ত তিনি। সেই ইচ্ছার জোরেই ২০২০ সালে দাখিল পরীক্ষা দেন, পাসও করেন। এবার মেয়ের সঙ্গে এইচএসসি পরীক্ষা দিচ্ছেন তিনি।&lt;/p&gt;.&lt;p&gt; এই অধ্যবসায়ী গৃহবধূর নাম মারুফা আক্তার। ৩৫ বছর বয়সে কারিগরি শিক্ষা বোর্ডের অধীন এইচএসসি (ভোকেশনাল) পরীক্ষায় অংশ নিয়েছেন। তিনি নীলফামারীর ডিমলা উপজেলার শেখ ফজিলাতুন্নেছা মুজিব সরকারি কলেজের বিএম শাখার ছাত্রী। তাঁর মেয়ের নাম শাহী সিদ্দিকা। তিনি শেখ ফজিলাতুন্নেছা মুজিব সরকারি কলেজের বিজ্ঞান বিভাগ থেকে পরীক্ষায় অংশ নিয়েছেন। এর আগে দাখিল পরীক্ষায় মা মারুফা আক্তার জিপিএ ৪ দশমিক ৬০ পেয়ে পাস করেছিলেন। আর মেয়ে শাহী সিদ্দিকা এসএসসি পরীক্ষায় পেয়েছিলেন জিপিএ ৩।&lt;/p&gt;&lt;p&gt;মারুফা আক্তার নীলফামারীর ডিমলা উপজেলার খালিশা চাপানি ইউনিয়নের পুন্যারঝার গ্রামের সাইদুল ইসলামের স্ত্রী। সাইদুল পেশায় একজন মাছ ব্যবসায়ী। তাঁদের দুই ছেলে দুই মেয়ের মধ্যে মেয়ে শাহী সিদ্দিকা সবার বড়। দ্বিতীয় সন্তান এবার দশম শ্রেণির ছাত্র। তৃতীয় সন্তান অষ্টম শ্রেণির ছাত্রী এবং সবার ছোট ছেলে পড়ছে পঞ্চম শ্রেণিতে পড়ে।&lt;/p&gt;.&lt;p&gt; এ বিষয়ে জানতে চাইলে মারুফা আক্তার বলেন, ‘২০০৩ সালে এসএসসি পরীক্ষার্থী ছিলাম। পড়াশোনার প্রতি আমার আগ্রহ থাকলেও পরীক্ষার আগে বিয়ে হয়। বিয়ের পর চার ছেলেমেয়েকে মানুষ করতে গিয়ে নিজের পড়ার কথা আর ভাবার সময় হয়নি। পরে নিজের ইচ্ছা এবং স্বামী ও সন্তানদের অনুপ্রেরণায় ছোটখাতা ফাজিল মাদ্রাসায় নবম শ্রেণিতে ভর্তি হই। সেবার মেয়েও নবম শ্রেণির শিক্ষার্থী। এরপর ২০২০ সালে মা-মেয়ে একই সঙ্গে এসএসসি পরীক্ষায় অংশ নিয়ে উত্তীর্ণ হই। এবারও ভালো ফলাফলে আশাবাদী আমরা।’&lt;/p&gt;&lt;p&gt;পড়ালেখা করে অনেক দূরে এগিয়ে যাওয়ার ইচ্ছা প্রকাশ করে মারুফা আক্তার আরও বলেন,‘এইচএসসি পাস করে &nbsp;লেখাপড়া চালিয়ে যাওয়ার ইচ্ছা আছে আমার, যাতে সমাজে আর দশজনের মতো করে নিজেকে একজন শিক্ষিত মানুষ হিসেবে পরিচয় দিতে পারি। সেভাবে সন্তানদেরকেও এগিয়ে নিচ্ছি। এজন্যই কষ্ট করে হলেও লেখাপড়াটা আবারও শুরু করেছি।’&lt;/p&gt;.&lt;p&gt; মায়ের পড়ালেখার প্রতি এমন আগ্রহের বিষয়ে মেয়ে শাহী সিদ্দিকা বলেন, ‘ভাবতে খুব ভালো লাগছে, আমরা মা-মেয়ে একই সঙ্গে এসএসসি পরীক্ষায় পাস করে এবার এইচএসসি পরীক্ষা দিচ্ছি। এমন সুযোগ আর কয়জনার ভাগ্যে আসে।’&lt;/p&gt;&lt;p&gt;মারুফা আক্তারের স্বামী সাইদুল ইসলাম (৪০) বলেন, ‘আমি আমার স্ত্রীর ইচ্ছার মর্যাদা দিয়েছি। সে যত দূর পড়তে চায়, আমি সহযোগিতা করব।’&lt;/p&gt;&lt;p&gt; ডিমলা উপজেলার শেখ ফজিলাতুন্নেছা মুজিব সরকারি কলেজের অধ্যক্ষ হাফিজুর রহমান বলেন,‘ইচ্ছাশক্তি থাকলে লেখাপড়ায় বয়স কোনো বাধা নয়। মারুফা আক্তারের এমন উদ্যোগ অনেককে অনুপ্রাণিত করবে। দৃষ্টান্ত হয়ে থাকবে সমাজে। আমরা ওই মা-মেয়ের সাফল্য কামনা করি।’ &lt;/p&gt;\n"
          ]
        }
      ]
    },
    {
      "cell_type": "code",
      "source": [
        "url='https://bangla.bdnews24.com/samagrabangladesh'\n",
        "\n",
        "xx=pagesource(url)\n",
        "\n",
        "\n",
        "xx"
      ],
      "metadata": {
        "id": "6bHOhQlP11lh"
      },
      "execution_count": null,
      "outputs": []
    },
    {
      "cell_type": "code",
      "source": [
        "xx\n",
        "ar=[1,2,3,4,5,6,7,8,9,10]\n",
        "\n",
        "for x in range(0,len(ar),2):\n",
        "  print(ar[x],ar[x+1])\n",
        "\n",
        "\n"
      ],
      "metadata": {
        "colab": {
          "base_uri": "https://localhost:8080/"
        },
        "id": "8opUZHS0BJJ3",
        "outputId": "df665f9c-fe1b-44fe-8b41-07a708bcb28a"
      },
      "execution_count": null,
      "outputs": [
        {
          "output_type": "stream",
          "name": "stdout",
          "text": [
            "1 2\n",
            "3 4\n",
            "5 6\n",
            "7 8\n",
            "9 10\n"
          ]
        }
      ]
    },
    {
      "cell_type": "code",
      "source": [
        "# NFUuA\n",
        "# hOSPD a\n",
        "from collections import defaultdict\n",
        "\n",
        "lists=xx.select('.arr--story-card a')\n",
        "# print(lists)\n",
        "print(len(lists))\n",
        "for ls in lists[:4]:\n",
        "  print(ls)\n",
        "  # print( ls.select('img')[0]['data-src'])\n",
        "# lists\n",
        "\n",
        "newsdict=defaultdict(list)\n",
        "\n",
        "print('>>>>>>>>>>>>>>>>>>>>>>>>>>>>>>>>>>>>>>>')\n",
        "for l in range(0,len(lists),2):\n",
        "  l1=lists[l]\n",
        "  l2=lists[l+1]\n",
        "  link=l1['href']\n",
        "  # print(l)\n",
        "  try:\n",
        "    imaglink=l1.select('img')[0]['data-src']\n",
        "  except:\n",
        "    imaglink='null'\n",
        "  # print(imaglink,'\\n',l2.text)\n",
        "  newsdict[l2.text].append(link)\n",
        "  newsdict[l2.text].append(imaglink)\n",
        "  \n",
        "\n",
        "\n",
        "\n",
        "print(len(newsdict))\n",
        "newsdict\n",
        "\n",
        "\n"
      ],
      "metadata": {
        "id": "tbxItFrQ46cA",
        "colab": {
          "base_uri": "https://localhost:8080/"
        },
        "outputId": "46571ce6-39c5-4873-b9e8-10989b10292e"
      },
      "execution_count": null,
      "outputs": [
        {
          "output_type": "stream",
          "name": "stdout",
          "text": [
            "56\n",
            "<a aria-label=\"fallback-hero-image\" class=\"arr--hero-image hero-image-m_hero-image__3lraV\" data-test-id=\"arr--hero-image\" href=\"https://bangla.bdnews24.com/samagrabangladesh/mprgktj8qd\"><figure class=\"arr--responsive-hero-image hero-image-m_image__1mz0U\" style=\"padding-top: 56.25%;\"><img alt=\"ঝিনাইগাতী সীমান্তে বন্যহাতির আক্রমণে কৃষকের মৃত্যু\" class=\"qt-image\" data-src=\"https://gumlet.assettype.com/bdnews24%2F2022-11%2F062e05b5-85ef-4790-9285-19d02d387aab%2Fsherpur_hati_061122_01.jpg?auto=format%2Ccompress&amp;fit=max\" src=\"data:image/gif;base64,R0lGODlhAQABAAD/ACwAAAAAAQABAAACADs=\"/><noscript></noscript></figure></a>\n",
            "<a aria-label=\"headline\" href=\"https://bangla.bdnews24.com/samagrabangladesh/mprgktj8qd\"><h2 class=\"headline-m_headline__3_NhV headline-m_dark__en3hW\">ঝিনাইগাতী সীমান্তে বন্যহাতির আক্রমণে কৃষকের মৃত্যু</h2></a>\n",
            "<a aria-label=\"fallback-hero-image\" class=\"arr--hero-image hero-image-m_left-padding__pYRAj\" data-test-id=\"arr--hero-image\" href=\"https://bangla.bdnews24.com/samagrabangladesh/d9e90hffsc\"><figure class=\"arr--responsive-hero-image hero-image-m_image__1mz0U\" style=\"padding-top: 56.25%;\"><img alt=\"কানে হেডফোন, রেলপথ পার হতে গিয়ে ট্রেনের ধাক্কায় মৃত্যু\" class=\"qt-image\" data-src=\"https://gumlet.assettype.com/bdnews24%2F2022-11%2F5abf01a8-1457-43f6-a9ee-1e02a151d309%2Fmymensingh_accident_061122_01.jpg?auto=format%2Ccompress&amp;fit=max\" src=\"data:image/gif;base64,R0lGODlhAQABAAD/ACwAAAAAAQABAAACADs=\"/><noscript></noscript></figure></a>\n",
            "<a aria-label=\"headline\" href=\"https://bangla.bdnews24.com/samagrabangladesh/d9e90hffsc\"><h6 class=\"headline-m_headline__3_NhV headline-m_dark__en3hW\">কানে হেডফোন, রেলপথ পার হতে গিয়ে ট্রেনের ধাক্কায় মৃত্যু</h6></a>\n",
            ">>>>>>>>>>>>>>>>>>>>>>>>>>>>>>>>>>>>>>>\n",
            "21\n"
          ]
        },
        {
          "output_type": "execute_result",
          "data": {
            "text/plain": [
              "defaultdict(list,\n",
              "            {'ঝিনাইগাতী সীমান্তে বন্যহাতির আক্রমণে কৃষকের মৃত্যু': ['https://bangla.bdnews24.com/samagrabangladesh/mprgktj8qd',\n",
              "              'https://gumlet.assettype.com/bdnews24%2F2022-11%2F062e05b5-85ef-4790-9285-19d02d387aab%2Fsherpur_hati_061122_01.jpg?auto=format%2Ccompress&fit=max'],\n",
              "             'কানে হেডফোন, রেলপথ পার হতে গিয়ে ট্রেনের ধাক্কায় মৃত্যু': ['https://bangla.bdnews24.com/samagrabangladesh/d9e90hffsc',\n",
              "              'https://gumlet.assettype.com/bdnews24%2F2022-11%2F5abf01a8-1457-43f6-a9ee-1e02a151d309%2Fmymensingh_accident_061122_01.jpg?auto=format%2Ccompress&fit=max'],\n",
              "             'গোবিন্দগঞ্জে সাঁওতাল হত্যা: ৬ বছরেও বিচার শুরু হয়নি': ['https://bangla.bdnews24.com/samagrabangladesh/djzjvbb3l8',\n",
              "              'https://gumlet.assettype.com/bdnews24%2F2022-11%2F5dde3ec5-9cb2-4647-b420-13b226d4f467%2Fgaibandha_rally_051122_01.jpg?auto=format%2Ccompress&fit=max'],\n",
              "             'কুমিল্লায় চলন্ত ট্রেনে তরুণীর সন্তান প্রসব': ['https://bangla.bdnews24.com/samagrabangladesh/sv97hma2ic',\n",
              "              'https://gumlet.assettype.com/bdnews24%2F2022-11%2F65a51cef-30b9-409f-af65-d443b0ee5f68%2Fcumilla_delivery_051122_01.jpg?auto=format%2Ccompress&fit=max'],\n",
              "             'নাটোরে খেজুরের রস সংগ্রহের প্রস্তুতি গাছিদের': ['https://bangla.bdnews24.com/samagrabangladesh/gqrf72ig9e',\n",
              "              'https://gumlet.assettype.com/bdnews24%2F2022-11%2Fc5e88d77-b96c-45e4-8de8-1bf2b5ef58b0%2Fnatore_datepalm_051122_01.jpg?auto=format%2Ccompress&fit=max',\n",
              "              'https://bangla.bdnews24.com/samagrabangladesh/gqrf72ig9e',\n",
              "              'https://gumlet.assettype.com/bdnews24%2F2022-11%2Fc5e88d77-b96c-45e4-8de8-1bf2b5ef58b0%2Fnatore_datepalm_051122_01.jpg?auto=format%2Ccompress&fit=max'],\n",
              "             'ইশরাকসহ বিএনপির শতাধিক নেতাকর্মীর নামে মামলা': ['https://bangla.bdnews24.com/samagrabangladesh/36h9ojizos',\n",
              "              'https://gumlet.assettype.com/bdnews24%2F2022-11%2Fe39c4d40-aad1-4e47-accc-bcddc640c404%2Fbarishal_attack_051122_01.jpg?auto=format%2Ccompress&fit=max'],\n",
              "             'সমগ্র বাংলাদেশ': ['https://bangla.bdnews24.com/samagrabangladesh/vqcvfxlpdn',\n",
              "              'https://gumlet.assettype.com/bdnews24%2F2022-11%2F29ccd27a-d6ea-4399-9a12-671fbcd2a3cd%2Fbarishal_kaunch_051122_01.jpg?auto=format%2Ccompress&fit=max',\n",
              "              'https://bangla.bdnews24.com/samagrabangladesh/3m619qz8hh',\n",
              "              'https://gumlet.assettype.com/bdnews24%2F2022-11%2Fab0edae9-f596-45a9-81c8-1b5a789d11d1%2Fcumilla_city_al_bahar_rifat_051122_01.jpg?auto=format%2Ccompress&fit=max',\n",
              "              'https://bangla.bdnews24.com/samagrabangladesh/mzwvpxpke9',\n",
              "              'https://gumlet.assettype.com/bdnews24%2F2022-11%2Ffe770d9c-29cb-4f95-901c-fd464ef021a6%2Fbarishalbnp_meetting_051122_01.jpg?auto=format%2Ccompress&fit=max',\n",
              "              'https://bangla.bdnews24.com/samagrabangladesh/yx15mzmsgy',\n",
              "              'https://gumlet.assettype.com/bdnews24%2F2022-11%2F44b6831c-494f-4cd0-b0b1-b2a85b30fcab%2Fgazipur_minister_051122_01.jpg?auto=format%2Ccompress&fit=max'],\n",
              "             '': ['https://bangla.bdnews24.com/samagrabangladesh/vqcvfxlpdn',\n",
              "              'null',\n",
              "              'https://bangla.bdnews24.com/samagrabangladesh/3m619qz8hh',\n",
              "              'null',\n",
              "              'https://bangla.bdnews24.com/samagrabangladesh/mzwvpxpke9',\n",
              "              'null',\n",
              "              'https://bangla.bdnews24.com/samagrabangladesh/yx15mzmsgy',\n",
              "              'null'],\n",
              "             'সিআরবিতে হাসপাতাল: আন্দোলনের ইতি, বঙ্গমাতার নামে উদ্যান দাবি': ['https://bangla.bdnews24.com/ctg',\n",
              "              'null'],\n",
              "             'ফরিদপুর ২ উপ নির্বাচনে সাজেদাপুত্র শাহদাব জয়ী': ['https://bangla.bdnews24.com/samagrabangladesh',\n",
              "              'null'],\n",
              "             'চট্টগ্রামে ছাদের পানির ট্যাঙ্কে নারীর লাশ, স্বামী লাপাত্তা': ['https://bangla.bdnews24.com/ctg',\n",
              "              'null'],\n",
              "             'মাদারীপুরে চার মাসেই ধস ৪১ কোটি টাকায় নির্মিত সড়কে': ['https://bangla.bdnews24.com/samagrabangladesh',\n",
              "              'null'],\n",
              "             'সিরাজগঞ্জে ঘোড়দৌড় প্রতিযোগিতা অনুষ্ঠিত': ['https://bangla.bdnews24.com/samagrabangladesh/1toqchltdb',\n",
              "              'https://gumlet.assettype.com/bdnews24%2F2022-10%2F2c6ead11-e9af-49ff-ad68-be1fdac994fe%2Fsirajganj_horse_race_311022_01.jpg?auto=format%2Ccompress&fit=max'],\n",
              "             'নেত্রকোণায় সূর্যপূজায় মানবজাতির মঙ্গল কামনা': ['https://bangla.bdnews24.com/samagrabangladesh/l8afqbtl80',\n",
              "              'https://gumlet.assettype.com/bdnews24%2F2022-10%2F905590f6-26ee-4ac0-9d9b-ca84a2cdb548%2Fnetrakona_surjo_puja_301022_01.jpg?auto=format%2Ccompress&fit=max'],\n",
              "             'আমার এ ঘর নিও না পদ্মা': ['https://bangla.bdnews24.com/samagrabangladesh/vmxi38cv2c',\n",
              "              'https://gumlet.assettype.com/bdnews24%2F2022-09%2Fd41faf2b-698d-4d65-834f-0225cd2a3c94%2Friver_bank_erosion_160922_33.jpg?auto=format%2Ccompress&fit=max'],\n",
              "             'স্বপ্নের পদ্মা সেতুতে বাধাহীন উচ্ছ্বাস': ['https://bangla.bdnews24.com/samagrabangladesh/article2081578.bdnews',\n",
              "              'https://gumlet.assettype.com/bdnews24-english%2Fimport%2Fmedia%2F2022%2F06%2F25%2Fpadma-bridge-people-visiting-250622-04.jpg?auto=format%2Ccompress&fit=max'],\n",
              "             'পদ্মা সেতু দর্শনে পর্যটকের ভিড় মাওয়া প্রান্তে': ['https://bangla.bdnews24.com/samagrabangladesh/article2070707.bdnews',\n",
              "              'https://gumlet.assettype.com/bdnews24-english%2Fimport%2Fmedia%2F2022%2F06%2F03%2Fmunsiganj-padma-bridge-030622-01.jpg?auto=format%2Ccompress&fit=max'],\n",
              "             'শেরপুরে ‘গজনী কালচারাল সেন্টার’ উদ্বোধন': ['https://bangla.bdnews24.com/samagrabangladesh/article2057139.bdnews',\n",
              "              'https://gumlet.assettype.com/bdnews24-english%2Fimport%2Fmedia%2F2022%2F05%2F06%2Fsherpur_cultural_center-060522-01.jpg?auto=format%2Ccompress&fit=max'],\n",
              "             'শ্রীমঙ্গলে চা বাগানের উপর দিয়ে রাস্তা, শ্রমিকদের প্রতিবাদ': ['https://bangla.bdnews24.com/samagrabangladesh/article2048634.bdnews',\n",
              "              'https://gumlet.assettype.com/bdnews24-english%2Fimport%2Fmedia%2F2022%2F04%2F19%2Fmoulvibazar-tea-garden-180422-01.jpg?auto=format%2Ccompress&fit=max'],\n",
              "             'পাহাড়ে ফুল ভাসিয়ে শুরু চাকমাদের নববর্ষের উৎসব বিজু': ['https://bangla.bdnews24.com/samagrabangladesh/article2045706.bdnews',\n",
              "              'https://gumlet.assettype.com/bdnews24-english%2Fimport%2Fmedia%2F2022%2F04%2F13%2Fkhagrachari-biju-120422-01.jpg?auto=format%2Ccompress&fit=max'],\n",
              "             'উপচে পড়া পুণ্যার্থীর অংশগ্রহণে ওড়াকান্দির স্নানোৎসব': ['https://bangla.bdnews24.com/samagrabangladesh/article2038985.bdnews',\n",
              "              'https://gumlet.assettype.com/bdnews24-english%2Fimport%2Fmedia%2F2022%2F03%2F31%2Fgopalganj-snan-300322-01.jpg?auto=format%2Ccompress&fit=max']})"
            ]
          },
          "metadata": {},
          "execution_count": 42
        }
      ]
    },
    {
      "cell_type": "code",
      "source": [
        "print(len(lists))\n",
        "newsls=[]\n",
        "for ls in lists[:2]:\n",
        "  print(ls['aria-label'],'>>>',ls['href'])\n",
        "  news=gettextnews(ls['href'])\n",
        "  newsls.append(news)\n",
        "\n",
        "newsls\n",
        "driver.close()"
      ],
      "metadata": {
        "colab": {
          "base_uri": "https://localhost:8080/"
        },
        "id": "huGQeOPY5Y5j",
        "outputId": "a978fe40-d15e-4272-cddb-aca0623af303"
      },
      "execution_count": null,
      "outputs": [
        {
          "output_type": "stream",
          "name": "stdout",
          "text": [
            "56\n",
            "fallback-hero-image >>> https://bangla.bdnews24.com/samagrabangladesh/mprgktj8qd\n",
            "headline >>> https://bangla.bdnews24.com/samagrabangladesh/mprgktj8qd\n"
          ]
        }
      ]
    },
    {
      "cell_type": "code",
      "source": [
        "# story-grid\n",
        "url1='https://www.prothomalo.com/world/pakistan/mdmgit24p2'\n",
        "# driver2=driversetup()\n",
        "\n",
        "xx=pagesource(url1)\n",
        "\n",
        "\n"
      ],
      "metadata": {
        "id": "a006Aotx8HD9",
        "colab": {
          "base_uri": "https://localhost:8080/",
          "height": 660
        },
        "outputId": "ff23730f-a78e-46dd-f7de-9d51321a1f88"
      },
      "execution_count": null,
      "outputs": [
        {
          "output_type": "error",
          "ename": "InvalidSessionIdException",
          "evalue": "ignored",
          "traceback": [
            "\u001b[0;31m---------------------------------------------------------------------------\u001b[0m",
            "\u001b[0;31mInvalidSessionIdException\u001b[0m                 Traceback (most recent call last)",
            "\u001b[0;32m<ipython-input-19-a52edb3e6009>\u001b[0m in \u001b[0;36m<module>\u001b[0;34m\u001b[0m\n\u001b[1;32m      3\u001b[0m \u001b[0;31m# driver2=driversetup()\u001b[0m\u001b[0;34m\u001b[0m\u001b[0;34m\u001b[0m\u001b[0;34m\u001b[0m\u001b[0m\n\u001b[1;32m      4\u001b[0m \u001b[0;34m\u001b[0m\u001b[0m\n\u001b[0;32m----> 5\u001b[0;31m \u001b[0mxx\u001b[0m\u001b[0;34m=\u001b[0m\u001b[0mpagesource\u001b[0m\u001b[0;34m(\u001b[0m\u001b[0murl1\u001b[0m\u001b[0;34m)\u001b[0m\u001b[0;34m\u001b[0m\u001b[0;34m\u001b[0m\u001b[0m\n\u001b[0m\u001b[1;32m      6\u001b[0m \u001b[0;34m\u001b[0m\u001b[0m\n\u001b[1;32m      7\u001b[0m \u001b[0;34m\u001b[0m\u001b[0m\n",
            "\u001b[0;32m<ipython-input-14-702d42d3f83f>\u001b[0m in \u001b[0;36mpagesource\u001b[0;34m(url)\u001b[0m\n\u001b[1;32m      3\u001b[0m \u001b[0;34m\u001b[0m\u001b[0m\n\u001b[1;32m      4\u001b[0m \u001b[0;32mdef\u001b[0m \u001b[0mpagesource\u001b[0m\u001b[0;34m(\u001b[0m\u001b[0murl\u001b[0m\u001b[0;34m)\u001b[0m\u001b[0;34m:\u001b[0m\u001b[0;34m\u001b[0m\u001b[0;34m\u001b[0m\u001b[0m\n\u001b[0;32m----> 5\u001b[0;31m     \u001b[0mdriver\u001b[0m\u001b[0;34m.\u001b[0m\u001b[0mget\u001b[0m\u001b[0;34m(\u001b[0m\u001b[0murl\u001b[0m\u001b[0;34m)\u001b[0m\u001b[0;34m\u001b[0m\u001b[0;34m\u001b[0m\u001b[0m\n\u001b[0m\u001b[1;32m      6\u001b[0m     \u001b[0msoup\u001b[0m \u001b[0;34m=\u001b[0m \u001b[0mbs\u001b[0m\u001b[0;34m(\u001b[0m\u001b[0mdriver\u001b[0m\u001b[0;34m.\u001b[0m\u001b[0mpage_source\u001b[0m\u001b[0;34m)\u001b[0m\u001b[0;34m\u001b[0m\u001b[0;34m\u001b[0m\u001b[0m\n\u001b[1;32m      7\u001b[0m     \u001b[0;31m# driver.close()\u001b[0m\u001b[0;34m\u001b[0m\u001b[0;34m\u001b[0m\u001b[0;34m\u001b[0m\u001b[0m\n",
            "\u001b[0;32m/usr/local/lib/python3.7/dist-packages/selenium/webdriver/remote/webdriver.py\u001b[0m in \u001b[0;36mget\u001b[0;34m(self, url)\u001b[0m\n\u001b[1;32m    453\u001b[0m         \u001b[0mLoads\u001b[0m \u001b[0ma\u001b[0m \u001b[0mweb\u001b[0m \u001b[0mpage\u001b[0m \u001b[0;32min\u001b[0m \u001b[0mthe\u001b[0m \u001b[0mcurrent\u001b[0m \u001b[0mbrowser\u001b[0m \u001b[0msession\u001b[0m\u001b[0;34m.\u001b[0m\u001b[0;34m\u001b[0m\u001b[0;34m\u001b[0m\u001b[0m\n\u001b[1;32m    454\u001b[0m         \"\"\"\n\u001b[0;32m--> 455\u001b[0;31m         \u001b[0mself\u001b[0m\u001b[0;34m.\u001b[0m\u001b[0mexecute\u001b[0m\u001b[0;34m(\u001b[0m\u001b[0mCommand\u001b[0m\u001b[0;34m.\u001b[0m\u001b[0mGET\u001b[0m\u001b[0;34m,\u001b[0m \u001b[0;34m{\u001b[0m\u001b[0;34m\"url\"\u001b[0m\u001b[0;34m:\u001b[0m \u001b[0murl\u001b[0m\u001b[0;34m}\u001b[0m\u001b[0;34m)\u001b[0m\u001b[0;34m\u001b[0m\u001b[0;34m\u001b[0m\u001b[0m\n\u001b[0m\u001b[1;32m    456\u001b[0m \u001b[0;34m\u001b[0m\u001b[0m\n\u001b[1;32m    457\u001b[0m     \u001b[0;34m@\u001b[0m\u001b[0mproperty\u001b[0m\u001b[0;34m\u001b[0m\u001b[0;34m\u001b[0m\u001b[0m\n",
            "\u001b[0;32m/usr/local/lib/python3.7/dist-packages/selenium/webdriver/remote/webdriver.py\u001b[0m in \u001b[0;36mexecute\u001b[0;34m(self, driver_command, params)\u001b[0m\n\u001b[1;32m    442\u001b[0m         \u001b[0mresponse\u001b[0m \u001b[0;34m=\u001b[0m \u001b[0mself\u001b[0m\u001b[0;34m.\u001b[0m\u001b[0mcommand_executor\u001b[0m\u001b[0;34m.\u001b[0m\u001b[0mexecute\u001b[0m\u001b[0;34m(\u001b[0m\u001b[0mdriver_command\u001b[0m\u001b[0;34m,\u001b[0m \u001b[0mparams\u001b[0m\u001b[0;34m)\u001b[0m\u001b[0;34m\u001b[0m\u001b[0;34m\u001b[0m\u001b[0m\n\u001b[1;32m    443\u001b[0m         \u001b[0;32mif\u001b[0m \u001b[0mresponse\u001b[0m\u001b[0;34m:\u001b[0m\u001b[0;34m\u001b[0m\u001b[0;34m\u001b[0m\u001b[0m\n\u001b[0;32m--> 444\u001b[0;31m             \u001b[0mself\u001b[0m\u001b[0;34m.\u001b[0m\u001b[0merror_handler\u001b[0m\u001b[0;34m.\u001b[0m\u001b[0mcheck_response\u001b[0m\u001b[0;34m(\u001b[0m\u001b[0mresponse\u001b[0m\u001b[0;34m)\u001b[0m\u001b[0;34m\u001b[0m\u001b[0;34m\u001b[0m\u001b[0m\n\u001b[0m\u001b[1;32m    445\u001b[0m             \u001b[0mresponse\u001b[0m\u001b[0;34m[\u001b[0m\u001b[0;34m\"value\"\u001b[0m\u001b[0;34m]\u001b[0m \u001b[0;34m=\u001b[0m \u001b[0mself\u001b[0m\u001b[0;34m.\u001b[0m\u001b[0m_unwrap_value\u001b[0m\u001b[0;34m(\u001b[0m\u001b[0mresponse\u001b[0m\u001b[0;34m.\u001b[0m\u001b[0mget\u001b[0m\u001b[0;34m(\u001b[0m\u001b[0;34m\"value\"\u001b[0m\u001b[0;34m,\u001b[0m \u001b[0;32mNone\u001b[0m\u001b[0;34m)\u001b[0m\u001b[0;34m)\u001b[0m\u001b[0;34m\u001b[0m\u001b[0;34m\u001b[0m\u001b[0m\n\u001b[1;32m    446\u001b[0m             \u001b[0;32mreturn\u001b[0m \u001b[0mresponse\u001b[0m\u001b[0;34m\u001b[0m\u001b[0;34m\u001b[0m\u001b[0m\n",
            "\u001b[0;32m/usr/local/lib/python3.7/dist-packages/selenium/webdriver/remote/errorhandler.py\u001b[0m in \u001b[0;36mcheck_response\u001b[0;34m(self, response)\u001b[0m\n\u001b[1;32m    247\u001b[0m                 \u001b[0malert_text\u001b[0m \u001b[0;34m=\u001b[0m \u001b[0mvalue\u001b[0m\u001b[0;34m[\u001b[0m\u001b[0;34m\"alert\"\u001b[0m\u001b[0;34m]\u001b[0m\u001b[0;34m.\u001b[0m\u001b[0mget\u001b[0m\u001b[0;34m(\u001b[0m\u001b[0;34m\"text\"\u001b[0m\u001b[0;34m)\u001b[0m\u001b[0;34m\u001b[0m\u001b[0;34m\u001b[0m\u001b[0m\n\u001b[1;32m    248\u001b[0m             \u001b[0;32mraise\u001b[0m \u001b[0mexception_class\u001b[0m\u001b[0;34m(\u001b[0m\u001b[0mmessage\u001b[0m\u001b[0;34m,\u001b[0m \u001b[0mscreen\u001b[0m\u001b[0;34m,\u001b[0m \u001b[0mstacktrace\u001b[0m\u001b[0;34m,\u001b[0m \u001b[0malert_text\u001b[0m\u001b[0;34m)\u001b[0m  \u001b[0;31m# type: ignore[call-arg]  # mypy is not smart enough here\u001b[0m\u001b[0;34m\u001b[0m\u001b[0;34m\u001b[0m\u001b[0m\n\u001b[0;32m--> 249\u001b[0;31m         \u001b[0;32mraise\u001b[0m \u001b[0mexception_class\u001b[0m\u001b[0;34m(\u001b[0m\u001b[0mmessage\u001b[0m\u001b[0;34m,\u001b[0m \u001b[0mscreen\u001b[0m\u001b[0;34m,\u001b[0m \u001b[0mstacktrace\u001b[0m\u001b[0;34m)\u001b[0m\u001b[0;34m\u001b[0m\u001b[0;34m\u001b[0m\u001b[0m\n\u001b[0m",
            "\u001b[0;31mInvalidSessionIdException\u001b[0m: Message: invalid session id\nStacktrace:\n#0 0x55714b30b1a3 <unknown>\n#1 0x55714b0d79a4 <unknown>\n#2 0x55714b102dc5 <unknown>\n#3 0x55714b12cf2c <unknown>\n#4 0x55714b12abc2 <unknown>\n#5 0x55714b12a329 <unknown>\n#6 0x55714b0b2d77 <unknown>\n#7 0x55714b0b3df9 <unknown>\n#8 0x55714b3872a0 <unknown>\n#9 0x55714b34281a <unknown>\n#10 0x55714b34234a <unknown>\n#11 0x55714b342e75 <unknown>\n#12 0x55714b38314b <unknown>\n#13 0x55714b3431de <unknown>\n#14 0x55714b324c23 <unknown>\n#15 0x55714b0b294e <unknown>\n#16 0x7f54dce23c87 <unknown>\n"
          ]
        }
      ]
    },
    {
      "cell_type": "code",
      "source": [
        "xy=xx.select('.story-element-text')\n",
        "news=''\n",
        "for x in xy:\n",
        "  news+=x.text\n",
        "news\n"
      ],
      "metadata": {
        "id": "V9ACbggi_UqD"
      },
      "execution_count": null,
      "outputs": []
    },
    {
      "cell_type": "code",
      "source": [
        "!pip install pipreqs"
      ],
      "metadata": {
        "id": "o0Iislx11oP_"
      },
      "execution_count": null,
      "outputs": []
    },
    {
      "cell_type": "code",
      "source": [
        "!pipreqs '/content/'"
      ],
      "metadata": {
        "id": "vyuLCWjO15E5"
      },
      "execution_count": null,
      "outputs": []
    }
  ],
  "metadata": {
    "colab": {
      "provenance": [],
      "collapsed_sections": [
        "D6heQpQrAhU4"
      ],
      "toc_visible": true,
      "authorship_tag": "ABX9TyODDx5e/eaB+yc0siKG17hg",
      "include_colab_link": true
    },
    "kernelspec": {
      "display_name": "Python 3",
      "name": "python3"
    },
    "language_info": {
      "name": "python"
    }
  },
  "nbformat": 4,
  "nbformat_minor": 0
}