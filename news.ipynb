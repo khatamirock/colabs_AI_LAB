{
  "cells": [
    {
      "cell_type": "markdown",
      "metadata": {
        "id": "view-in-github",
        "colab_type": "text"
      },
      "source": [
        "<a href=\"https://colab.research.google.com/github/khatamirock/colabs_AI_LAB/blob/main/news.ipynb\" target=\"_parent\"><img src=\"https://colab.research.google.com/assets/colab-badge.svg\" alt=\"Open In Colab\"/></a>"
      ]
    },
    {
      "cell_type": "markdown",
      "source": [
        "# SCRAPY SECn"
      ],
      "metadata": {
        "id": "35hrMg9nxspG"
      }
    },
    {
      "cell_type": "code",
      "execution_count": 1,
      "metadata": {
        "id": "wFM9Rw41etWH"
      },
      "outputs": [],
      "source": [
        "\n",
        "import requests\n",
        "url='https://www.prothomalo.com/bangladesh/rha1q55dri'\n",
        "x = requests.get(url)\n",
        "\n",
        "# print(x.text)"
      ]
    },
    {
      "cell_type": "code",
      "execution_count": 2,
      "metadata": {
        "id": "S65AK6KZixyL"
      },
      "outputs": [],
      "source": [
        "from bs4 import BeautifulSoup as bs"
      ]
    },
    {
      "cell_type": "code",
      "source": [
        "def newspage(url):\n",
        "  x = requests.get(url)\n",
        "  soup = bs( x.text  , 'html.parser')\n",
        "  # print(soup)\n",
        "  # print(soup)\n",
        "  # news=soup.select('.news-content p')\n",
        "  \n",
        "  \n",
        "  return soup"
      ],
      "metadata": {
        "id": "hVX5GiWfXG53"
      },
      "execution_count": 3,
      "outputs": []
    },
    {
      "cell_type": "code",
      "execution_count": 4,
      "metadata": {
        "id": "QhEqDM4vjX8g"
      },
      "outputs": [],
      "source": [
        "base='https://www.prothomalo.com/bangladesh/rha1q55dri'\n",
        "soup = bs( x.text  , 'html.parser')\n",
        "# print(soup)\n",
        "# lists=soup.select('.latest-news-top a')\n",
        "# lists\n",
        "# for lst in lists[:2]:\n",
        "#   url=lst['href']\n",
        "#   print(url,'>>>> ',lst.strong.text)\n",
        "#   print(newspage(base+url))\n",
        "\n",
        "# soup\n",
        "# lists=soup.select('tags')\n",
        "# lists\n",
        "# "
      ]
    },
    {
      "cell_type": "code",
      "source": [
        "import json\n",
        "res = soup.select('script[type=\"application/ld+json\"]')\n",
        "xx=res[1].text\n",
        "# print(xx)\n",
        "jsono = json.loads(xx)\n",
        "jsono['articleBody']"
      ],
      "metadata": {
        "id": "hQ__UrWlXTNW",
        "outputId": "bb58e6ea-49fe-40df-9b93-da68c8c76fb9",
        "colab": {
          "base_uri": "https://localhost:8080/",
          "height": 157
        }
      },
      "execution_count": 5,
      "outputs": [
        {
          "output_type": "execute_result",
          "data": {
            "text/plain": [
              "'&lt;p&gt;বাংলাদেশে অবাধ ও সুষ্ঠু নির্বাচন চায় যুক্তরাষ্ট্র। এই লক্ষ্যে বাংলাদেশের নাগরিক সমাজের সঙ্গে যুক্তরাষ্ট্র কাজ করছে বলে জানিয়েছেন দেশটির মধ্য ও দক্ষিণ এশিয়াবিষয়ক উপসহকারী পররাষ্ট্রমন্ত্রী আফরিন আক্তার। তিনি আজ রোববার সাংবাদিকদের প্রশ্নের জবাবে এ কথা বলেন।&lt;/p&gt;.&lt;p&gt;আফরিন আক্তার এক সংক্ষিপ্ত সফরে গতকাল শনিবার ঢাকায় আসেন। তিনি আজ বাংলাদেশের ভারপ্রাপ্ত পররাষ্ট্রসচিব রিয়ার অ্যাডমিরাল (অব.) মো. খুরশেদ আলমের সঙ্গে বৈঠক করেন।&lt;/p&gt;.&lt;p&gt;বৈঠক শেষে মার্কিন উপসহকারী পররাষ্ট্রমন্ত্রী আফরিন আক্তার সাংবাদিকদের বলেন, ‘আমি প্রথমবারের মতো বাংলাদেশে এসেছি। বাংলাদেশের সরকারি কর্মকর্তা, নাগরিক সমাজ ও সংশ্লিষ্টদের সঙ্গে কীভাবে আমরা একসঙ্গে কাজ করতে পারি, তা নিয়ে আলোচনা করার জন্য এসেছি।’ তিনি বলেন, দ্বিপক্ষীয় নানা বিষয়ের পাশাপাশি বাংলাদেশে অবাধ ও সুষ্ঠু নির্বাচনের বিষয়ে যুক্তরাষ্ট্রের সমর্থনের বিষয়ে ভারপ্রাপ্ত পররাষ্ট্রসচিবের সঙ্গে তাঁর আলোচনা হয়েছে।&lt;/p&gt;.&lt;p&gt;বাংলাদেশে অবাধ ও সুষ্ঠু নির্বাচনে যুক্তরাষ্ট্রের সমর্থনের বিষয়ে সাংবাদিকদের এক প্রশ্নের জবাবে আফরিন আক্তার বলেন, যুক্তরাষ্ট্রের ঢাকা মিশন এবং আন্তর্জাতিক সহযোগিতা সংস্থা–ইউএসএইডের বাংলাদেশ কার্যালয় আসন্ন নির্বাচন অবাধ, সুষ্ঠু ও নিরপেক্ষ করতে এ দেশের নাগরিক সমাজের সঙ্গে নিবিড়ভাবে কাজ করে যাচ্ছে।&lt;/p&gt;&lt;p&gt;রোহিঙ্গা সমস্যা সমাধানে যুক্তরাষ্ট্রের সহযোগিতা প্রসঙ্গে আফরিন আক্তার বলেন, রোহিঙ্গাদের ব্যাপারে বাংলাদেশের সঙ্গে কাজ করছে যুক্তরাষ্ট্র। রোহিঙ্গাদের সহায়তায় মার্কিন পররাষ্ট্রমন্ত্রী যে ১৭ কোটি ডলারের ঘোষণা দিয়েছেন, তা বাস্তবায়নে কীভাবে কাজ করা যায়, সে বিষয়ে ভারপ্রাপ্ত পররাষ্ট্রসচিবের সঙ্গে তাঁর আলোচনা হয়েছে। এ ছাড়া সামুদ্রিক নিরাপত্তা নিয়ে কথা হয়েছে। বঙ্গোপসাগরে কীভাবে মৎস্য ও খনিজ সম্পদের সর্বোচ্চ সুষ্ঠু ব্যবহার নিশ্চিত করা যায়, সেটাও আলোচনায় এসেছে।&lt;/p&gt;'"
            ],
            "application/vnd.google.colaboratory.intrinsic+json": {
              "type": "string"
            }
          },
          "metadata": {},
          "execution_count": 5
        }
      ]
    },
    {
      "cell_type": "code",
      "source": [
        "ls=newspage('https://www.bd-pratidin.com/country/2022/11/04/825792')\n",
        "def printer(st):\n",
        "  print(st)\n",
        "map(printer,ls.select('#bpsepnil p'))"
      ],
      "metadata": {
        "colab": {
          "base_uri": "https://localhost:8080/"
        },
        "id": "YWZfrpaHxIgQ",
        "outputId": "71e48d95-e00c-44f4-83fd-3d9ed73716f8"
      },
      "execution_count": 6,
      "outputs": [
        {
          "output_type": "execute_result",
          "data": {
            "text/plain": [
              "<map at 0x7fe5b008f130>"
            ]
          },
          "metadata": {},
          "execution_count": 6
        }
      ]
    },
    {
      "cell_type": "markdown",
      "source": [
        "# SELNM\n"
      ],
      "metadata": {
        "id": "SaYAlUcoxwuL"
      }
    },
    {
      "cell_type": "markdown",
      "source": [
        "# install\n"
      ],
      "metadata": {
        "id": "D6heQpQrAhU4"
      }
    },
    {
      "cell_type": "code",
      "source": [
        "!apt update\n",
        "!pip install xlsxwriter \n",
        "!apt install chromium-chromedriver\n",
        "!pip install selenium"
      ],
      "metadata": {
        "id": "jZ4HdiCQxzMz",
        "colab": {
          "base_uri": "https://localhost:8080/",
          "height": 1000
        },
        "outputId": "f4c7629a-8cd0-43a0-d2e5-1b7ebcac220a"
      },
      "execution_count": 7,
      "outputs": [
        {
          "output_type": "stream",
          "name": "stdout",
          "text": [
            "Hit:1 http://archive.ubuntu.com/ubuntu focal InRelease\n",
            "Get:2 http://archive.ubuntu.com/ubuntu focal-updates InRelease [114 kB]\n",
            "Get:3 http://security.ubuntu.com/ubuntu focal-security InRelease [114 kB]\n",
            "Get:4 https://cloud.r-project.org/bin/linux/ubuntu focal-cran40/ InRelease [3,622 B]\n",
            "Get:5 http://ppa.launchpad.net/c2d4u.team/c2d4u4.0+/ubuntu focal InRelease [18.1 kB]\n",
            "Get:6 http://archive.ubuntu.com/ubuntu focal-backports InRelease [108 kB]\n",
            "Ign:7 https://developer.download.nvidia.com/compute/machine-learning/repos/ubuntu2004/x86_64  InRelease\n",
            "Hit:8 https://developer.download.nvidia.com/compute/cuda/repos/ubuntu2004/x86_64  InRelease\n",
            "Hit:9 https://developer.download.nvidia.com/compute/machine-learning/repos/ubuntu2004/x86_64  Release\n",
            "Hit:10 http://ppa.launchpad.net/cran/libgit2/ubuntu focal InRelease\n",
            "Get:11 http://ppa.launchpad.net/deadsnakes/ppa/ubuntu focal InRelease [18.1 kB]\n",
            "Get:12 http://archive.ubuntu.com/ubuntu focal-updates/restricted amd64 Packages [2,062 kB]\n",
            "Hit:13 http://ppa.launchpad.net/graphics-drivers/ppa/ubuntu focal InRelease\n",
            "Get:14 http://archive.ubuntu.com/ubuntu focal-updates/universe amd64 Packages [1,295 kB]\n",
            "Hit:15 http://ppa.launchpad.net/ubuntugis/ppa/ubuntu focal InRelease\n",
            "Get:16 http://archive.ubuntu.com/ubuntu focal-updates/main amd64 Packages [2,965 kB]\n",
            "Get:17 http://ppa.launchpad.net/c2d4u.team/c2d4u4.0+/ubuntu focal/main Sources [2,386 kB]\n",
            "Get:18 http://ppa.launchpad.net/c2d4u.team/c2d4u4.0+/ubuntu focal/main amd64 Packages [1,131 kB]\n",
            "Get:20 http://security.ubuntu.com/ubuntu focal-security/main amd64 Packages [2,479 kB]\n",
            "Get:21 http://ppa.launchpad.net/deadsnakes/ppa/ubuntu focal/main amd64 Packages [29.5 kB]\n",
            "Get:22 http://security.ubuntu.com/ubuntu focal-security/universe amd64 Packages [994 kB]\n",
            "Fetched 13.7 MB in 4s (3,223 kB/s)\n",
            "Reading package lists... Done\n",
            "Building dependency tree       \n",
            "Reading state information... Done\n",
            "28 packages can be upgraded. Run 'apt list --upgradable' to see them.\n",
            "Looking in indexes: https://pypi.org/simple, https://us-python.pkg.dev/colab-wheels/public/simple/\n",
            "Collecting xlsxwriter\n",
            "  Downloading XlsxWriter-3.0.8-py3-none-any.whl (152 kB)\n",
            "\u001b[2K     \u001b[90m━━━━━━━━━━━━━━━━━━━━━━━━━━━━━━━━━━━━━━━\u001b[0m \u001b[32m152.8/152.8 KB\u001b[0m \u001b[31m3.2 MB/s\u001b[0m eta \u001b[36m0:00:00\u001b[0m\n",
            "\u001b[?25hInstalling collected packages: xlsxwriter\n",
            "Successfully installed xlsxwriter-3.0.8\n",
            "Reading package lists... Done\n",
            "Building dependency tree       \n",
            "Reading state information... Done\n",
            "The following package was automatically installed and is no longer required:\n",
            "  libnvidia-common-510\n",
            "Use 'apt autoremove' to remove it.\n",
            "The following additional packages will be installed:\n",
            "  apparmor chromium-browser liblzo2-2 snapd squashfs-tools\n",
            "Suggested packages:\n",
            "  apparmor-profiles-extra apparmor-utils\n",
            "The following NEW packages will be installed:\n",
            "  apparmor chromium-browser chromium-chromedriver liblzo2-2 snapd\n",
            "  squashfs-tools\n",
            "0 upgraded, 6 newly installed, 0 to remove and 28 not upgraded.\n",
            "Need to get 38.6 MB of archives.\n",
            "After this operation, 174 MB of additional disk space will be used.\n",
            "Get:1 http://archive.ubuntu.com/ubuntu focal-updates/main amd64 apparmor amd64 2.13.3-7ubuntu5.1 [494 kB]\n",
            "Get:2 http://archive.ubuntu.com/ubuntu focal/main amd64 liblzo2-2 amd64 2.10-2 [50.8 kB]\n",
            "Get:3 http://archive.ubuntu.com/ubuntu focal-updates/main amd64 squashfs-tools amd64 1:4.4-1ubuntu0.3 [117 kB]\n",
            "Get:4 http://archive.ubuntu.com/ubuntu focal-updates/main amd64 snapd amd64 2.58+20.04 [37.9 MB]\n",
            "Get:5 http://archive.ubuntu.com/ubuntu focal-updates/universe amd64 chromium-browser amd64 1:85.0.4183.83-0ubuntu0.20.04.2 [48.3 kB]\n",
            "Get:6 http://archive.ubuntu.com/ubuntu focal-updates/universe amd64 chromium-chromedriver amd64 1:85.0.4183.83-0ubuntu0.20.04.2 [2,496 B]\n",
            "Fetched 38.6 MB in 1s (38.1 MB/s)\n",
            "Preconfiguring packages ...\n",
            "Selecting previously unselected package apparmor.\n",
            "(Reading database ... 128097 files and directories currently installed.)\n",
            "Preparing to unpack .../apparmor_2.13.3-7ubuntu5.1_amd64.deb ...\n",
            "Unpacking apparmor (2.13.3-7ubuntu5.1) ...\n",
            "Selecting previously unselected package liblzo2-2:amd64.\n",
            "Preparing to unpack .../liblzo2-2_2.10-2_amd64.deb ...\n",
            "Unpacking liblzo2-2:amd64 (2.10-2) ...\n",
            "Selecting previously unselected package squashfs-tools.\n",
            "Preparing to unpack .../squashfs-tools_1%3a4.4-1ubuntu0.3_amd64.deb ...\n",
            "Unpacking squashfs-tools (1:4.4-1ubuntu0.3) ...\n",
            "Selecting previously unselected package snapd.\n",
            "Preparing to unpack .../snapd_2.58+20.04_amd64.deb ...\n",
            "Unpacking snapd (2.58+20.04) ...\n",
            "Setting up apparmor (2.13.3-7ubuntu5.1) ...\n",
            "Created symlink /etc/systemd/system/sysinit.target.wants/apparmor.service → /lib/systemd/system/apparmor.service.\n",
            "Setting up liblzo2-2:amd64 (2.10-2) ...\n",
            "Setting up squashfs-tools (1:4.4-1ubuntu0.3) ...\n",
            "Setting up snapd (2.58+20.04) ...\n",
            "Created symlink /etc/systemd/system/multi-user.target.wants/snapd.aa-prompt-listener.service → /lib/systemd/system/snapd.aa-prompt-listener.service.\n",
            "Created symlink /etc/systemd/system/multi-user.target.wants/snapd.apparmor.service → /lib/systemd/system/snapd.apparmor.service.\n",
            "Created symlink /etc/systemd/system/multi-user.target.wants/snapd.autoimport.service → /lib/systemd/system/snapd.autoimport.service.\n",
            "Created symlink /etc/systemd/system/multi-user.target.wants/snapd.core-fixup.service → /lib/systemd/system/snapd.core-fixup.service.\n",
            "Created symlink /etc/systemd/system/multi-user.target.wants/snapd.recovery-chooser-trigger.service → /lib/systemd/system/snapd.recovery-chooser-trigger.service.\n",
            "Created symlink /etc/systemd/system/multi-user.target.wants/snapd.seeded.service → /lib/systemd/system/snapd.seeded.service.\n",
            "Created symlink /etc/systemd/system/cloud-final.service.wants/snapd.seeded.service → /lib/systemd/system/snapd.seeded.service.\n",
            "Created symlink /etc/systemd/system/multi-user.target.wants/snapd.service → /lib/systemd/system/snapd.service.\n",
            "Created symlink /etc/systemd/system/timers.target.wants/snapd.snap-repair.timer → /lib/systemd/system/snapd.snap-repair.timer.\n",
            "Created symlink /etc/systemd/system/sockets.target.wants/snapd.socket → /lib/systemd/system/snapd.socket.\n",
            "Created symlink /etc/systemd/system/final.target.wants/snapd.system-shutdown.service → /lib/systemd/system/snapd.system-shutdown.service.\n",
            "Selecting previously unselected package chromium-browser.\n",
            "(Reading database ... 128390 files and directories currently installed.)\n",
            "Preparing to unpack .../chromium-browser_1%3a85.0.4183.83-0ubuntu0.20.04.2_amd64.deb ...\n",
            "=> Installing the chromium snap\n",
            "==> Checking connectivity with the snap store\n",
            "===> System doesn't have a working snapd, skipping\n",
            "Unpacking chromium-browser (1:85.0.4183.83-0ubuntu0.20.04.2) ...\n",
            "Selecting previously unselected package chromium-chromedriver.\n",
            "Preparing to unpack .../chromium-chromedriver_1%3a85.0.4183.83-0ubuntu0.20.04.2_amd64.deb ...\n",
            "Unpacking chromium-chromedriver (1:85.0.4183.83-0ubuntu0.20.04.2) ...\n",
            "Setting up chromium-browser (1:85.0.4183.83-0ubuntu0.20.04.2) ...\n",
            "update-alternatives: using /usr/bin/chromium-browser to provide /usr/bin/x-www-browser (x-www-browser) in auto mode\n",
            "update-alternatives: using /usr/bin/chromium-browser to provide /usr/bin/gnome-www-browser (gnome-www-browser) in auto mode\n",
            "Setting up chromium-chromedriver (1:85.0.4183.83-0ubuntu0.20.04.2) ...\n",
            "Processing triggers for mime-support (3.64ubuntu1) ...\n",
            "Processing triggers for hicolor-icon-theme (0.17-2) ...\n",
            "Processing triggers for libc-bin (2.31-0ubuntu9.9) ...\n",
            "Processing triggers for systemd (245.4-4ubuntu3.19) ...\n",
            "Processing triggers for man-db (2.9.1-1) ...\n",
            "Processing triggers for dbus (1.12.16-2ubuntu2.3) ...\n",
            "Looking in indexes: https://pypi.org/simple, https://us-python.pkg.dev/colab-wheels/public/simple/\n",
            "Collecting selenium\n",
            "  Downloading selenium-4.8.0-py3-none-any.whl (6.3 MB)\n",
            "\u001b[2K     \u001b[90m━━━━━━━━━━━━━━━━━━━━━━━━━━━━━━━━━━━━━━━━\u001b[0m \u001b[32m6.3/6.3 MB\u001b[0m \u001b[31m40.8 MB/s\u001b[0m eta \u001b[36m0:00:00\u001b[0m\n",
            "\u001b[?25hCollecting trio~=0.17\n",
            "  Downloading trio-0.22.0-py3-none-any.whl (384 kB)\n",
            "\u001b[2K     \u001b[90m━━━━━━━━━━━━━━━━━━━━━━━━━━━━━━━━━━━━━━\u001b[0m \u001b[32m384.9/384.9 KB\u001b[0m \u001b[31m25.3 MB/s\u001b[0m eta \u001b[36m0:00:00\u001b[0m\n",
            "\u001b[?25hCollecting trio-websocket~=0.9\n",
            "  Downloading trio_websocket-0.9.2-py3-none-any.whl (16 kB)\n",
            "Requirement already satisfied: certifi>=2021.10.8 in /usr/local/lib/python3.8/dist-packages (from selenium) (2022.12.7)\n",
            "Collecting urllib3[socks]~=1.26\n",
            "  Downloading urllib3-1.26.14-py2.py3-none-any.whl (140 kB)\n",
            "\u001b[2K     \u001b[90m━━━━━━━━━━━━━━━━━━━━━━━━━━━━━━━━━━━━━━\u001b[0m \u001b[32m140.6/140.6 KB\u001b[0m \u001b[31m14.5 MB/s\u001b[0m eta \u001b[36m0:00:00\u001b[0m\n",
            "\u001b[?25hCollecting async-generator>=1.9\n",
            "  Downloading async_generator-1.10-py3-none-any.whl (18 kB)\n",
            "Requirement already satisfied: sortedcontainers in /usr/local/lib/python3.8/dist-packages (from trio~=0.17->selenium) (2.4.0)\n",
            "Requirement already satisfied: attrs>=19.2.0 in /usr/local/lib/python3.8/dist-packages (from trio~=0.17->selenium) (22.2.0)\n",
            "Collecting outcome\n",
            "  Downloading outcome-1.2.0-py2.py3-none-any.whl (9.7 kB)\n",
            "Collecting sniffio\n",
            "  Downloading sniffio-1.3.0-py3-none-any.whl (10 kB)\n",
            "Requirement already satisfied: idna in /usr/local/lib/python3.8/dist-packages (from trio~=0.17->selenium) (2.10)\n",
            "Collecting exceptiongroup>=1.0.0rc9\n",
            "  Downloading exceptiongroup-1.1.0-py3-none-any.whl (14 kB)\n",
            "Collecting wsproto>=0.14\n",
            "  Downloading wsproto-1.2.0-py3-none-any.whl (24 kB)\n",
            "Requirement already satisfied: PySocks!=1.5.7,<2.0,>=1.5.6 in /usr/local/lib/python3.8/dist-packages (from urllib3[socks]~=1.26->selenium) (1.7.1)\n",
            "Collecting h11<1,>=0.9.0\n",
            "  Downloading h11-0.14.0-py3-none-any.whl (58 kB)\n",
            "\u001b[2K     \u001b[90m━━━━━━━━━━━━━━━━━━━━━━━━━━━━━━━━━━━━━━━━\u001b[0m \u001b[32m58.3/58.3 KB\u001b[0m \u001b[31m7.6 MB/s\u001b[0m eta \u001b[36m0:00:00\u001b[0m\n",
            "\u001b[?25hInstalling collected packages: urllib3, sniffio, outcome, h11, exceptiongroup, async-generator, wsproto, trio, trio-websocket, selenium\n",
            "  Attempting uninstall: urllib3\n",
            "    Found existing installation: urllib3 1.24.3\n",
            "    Uninstalling urllib3-1.24.3:\n",
            "      Successfully uninstalled urllib3-1.24.3\n",
            "Successfully installed async-generator-1.10 exceptiongroup-1.1.0 h11-0.14.0 outcome-1.2.0 selenium-4.8.0 sniffio-1.3.0 trio-0.22.0 trio-websocket-0.9.2 urllib3-1.26.14 wsproto-1.2.0\n"
          ]
        },
        {
          "output_type": "display_data",
          "data": {
            "application/vnd.colab-display-data+json": {
              "pip_warning": {
                "packages": [
                  "urllib3"
                ]
              }
            }
          },
          "metadata": {}
        }
      ]
    },
    {
      "cell_type": "markdown",
      "source": [
        "# WORKS"
      ],
      "metadata": {
        "id": "Rg9dCSV9AlHg"
      }
    },
    {
      "cell_type": "code",
      "source": [
        "from selenium import webdriver\n",
        "from bs4 import BeautifulSoup as bs\n",
        "\n",
        "def driversetup():\n",
        "    options = webdriver.ChromeOptions()\n",
        "    #run Selenium in headless mode\n",
        "    options.add_argument('--headless')\n",
        "    options.add_argument('--no-sandbox')\n",
        "    #overcome limited resource problems\n",
        "    options.add_argument('--disable-dev-shm-usage')\n",
        "    options.add_argument(\"lang=en\")\n",
        "    #open Browser in maximized mode\n",
        "    options.add_argument(\"start-maximized\")\n",
        "    #disable infobars\n",
        "    options.add_argument(\"disable-infobars\")\n",
        "    #disable extension\n",
        "    # options.add_argument(\"--disable-extensions\")\n",
        "    # options.add_argument(\"--incognito\")\n",
        "    options.add_argument(\"--disable-blink-features=AutomationControlled\")\n",
        "    \n",
        "    driver = webdriver.Chrome(options=options)\n",
        "\n",
        "    driver.execute_script(\"Object.defineProperty(navigator, 'webdriver', {get: () => undefined});\")\n",
        "\n",
        "    return driver"
      ],
      "metadata": {
        "id": "fMDmiE4G2aMF"
      },
      "execution_count": 8,
      "outputs": []
    },
    {
      "cell_type": "code",
      "source": [
        "driver=driversetup()\n",
        "\n",
        "# google updated ubuntu version so CTRL+SHFT+P > fallback version\n",
        "def pagesource(url):\n",
        "    driver.get(url)\n",
        "    soup = bs(driver.page_source)\n",
        "    # driver.close()\n",
        "    return soup\n",
        "\n",
        "def gettextnews(url):\n",
        "      # story-grid\n",
        "    # url1='https://www.prothomalo.com/world/pakistan/mdmgit24p2'\n",
        "    # driver2=driversetup()\n",
        "\n",
        "    xx=pagesource(url)\n",
        "    # xy=xx.select('.story-element-text')\n",
        "    # latest-news-top\n",
        "    xy=xx.select('.latest-news-top')# for every news link (the texts)\n",
        "    news=''\n",
        "    for x in xy:\n",
        "      news+=x.text\n",
        "    return news\n",
        "\n",
        "\n"
      ],
      "metadata": {
        "id": "CmR8zHkH11r0",
        "outputId": "dc1caee8-c967-4de6-bdd3-a83f3cd41f89",
        "colab": {
          "base_uri": "https://localhost:8080/",
          "height": 383
        }
      },
      "execution_count": 10,
      "outputs": [
        {
          "output_type": "error",
          "ename": "WebDriverException",
          "evalue": "ignored",
          "traceback": [
            "\u001b[0;31m---------------------------------------------------------------------------\u001b[0m",
            "\u001b[0;31mWebDriverException\u001b[0m                        Traceback (most recent call last)",
            "\u001b[0;32m<ipython-input-10-620c55c71769>\u001b[0m in \u001b[0;36m<module>\u001b[0;34m\u001b[0m\n\u001b[0;32m----> 1\u001b[0;31m \u001b[0mdriver\u001b[0m\u001b[0;34m=\u001b[0m\u001b[0mdriversetup\u001b[0m\u001b[0;34m(\u001b[0m\u001b[0;34m)\u001b[0m\u001b[0;34m\u001b[0m\u001b[0;34m\u001b[0m\u001b[0m\n\u001b[0m\u001b[1;32m      2\u001b[0m \u001b[0;34m\u001b[0m\u001b[0m\n\u001b[1;32m      3\u001b[0m \u001b[0;34m\u001b[0m\u001b[0m\n\u001b[1;32m      4\u001b[0m \u001b[0;32mdef\u001b[0m \u001b[0mpagesource\u001b[0m\u001b[0;34m(\u001b[0m\u001b[0murl\u001b[0m\u001b[0;34m)\u001b[0m\u001b[0;34m:\u001b[0m\u001b[0;34m\u001b[0m\u001b[0;34m\u001b[0m\u001b[0m\n\u001b[1;32m      5\u001b[0m     \u001b[0mdriver\u001b[0m\u001b[0;34m.\u001b[0m\u001b[0mget\u001b[0m\u001b[0;34m(\u001b[0m\u001b[0murl\u001b[0m\u001b[0;34m)\u001b[0m\u001b[0;34m\u001b[0m\u001b[0;34m\u001b[0m\u001b[0m\n",
            "\u001b[0;32m<ipython-input-8-d7ed12cb350c>\u001b[0m in \u001b[0;36mdriversetup\u001b[0;34m()\u001b[0m\n\u001b[1;32m     19\u001b[0m     \u001b[0moptions\u001b[0m\u001b[0;34m.\u001b[0m\u001b[0madd_argument\u001b[0m\u001b[0;34m(\u001b[0m\u001b[0;34m\"--disable-blink-features=AutomationControlled\"\u001b[0m\u001b[0;34m)\u001b[0m\u001b[0;34m\u001b[0m\u001b[0;34m\u001b[0m\u001b[0m\n\u001b[1;32m     20\u001b[0m \u001b[0;34m\u001b[0m\u001b[0m\n\u001b[0;32m---> 21\u001b[0;31m     \u001b[0mdriver\u001b[0m \u001b[0;34m=\u001b[0m \u001b[0mwebdriver\u001b[0m\u001b[0;34m.\u001b[0m\u001b[0mChrome\u001b[0m\u001b[0;34m(\u001b[0m\u001b[0moptions\u001b[0m\u001b[0;34m=\u001b[0m\u001b[0moptions\u001b[0m\u001b[0;34m)\u001b[0m\u001b[0;34m\u001b[0m\u001b[0;34m\u001b[0m\u001b[0m\n\u001b[0m\u001b[1;32m     22\u001b[0m \u001b[0;34m\u001b[0m\u001b[0m\n\u001b[1;32m     23\u001b[0m     \u001b[0mdriver\u001b[0m\u001b[0;34m.\u001b[0m\u001b[0mexecute_script\u001b[0m\u001b[0;34m(\u001b[0m\u001b[0;34m\"Object.defineProperty(navigator, 'webdriver', {get: () => undefined});\"\u001b[0m\u001b[0;34m)\u001b[0m\u001b[0;34m\u001b[0m\u001b[0;34m\u001b[0m\u001b[0m\n",
            "\u001b[0;32m/usr/local/lib/python3.8/dist-packages/selenium/webdriver/chrome/webdriver.py\u001b[0m in \u001b[0;36m__init__\u001b[0;34m(self, executable_path, port, options, service_args, desired_capabilities, service_log_path, chrome_options, service, keep_alive)\u001b[0m\n\u001b[1;32m     78\u001b[0m             \u001b[0mservice\u001b[0m \u001b[0;34m=\u001b[0m \u001b[0mService\u001b[0m\u001b[0;34m(\u001b[0m\u001b[0mexecutable_path\u001b[0m\u001b[0;34m,\u001b[0m \u001b[0mport\u001b[0m\u001b[0;34m,\u001b[0m \u001b[0mservice_args\u001b[0m\u001b[0;34m,\u001b[0m \u001b[0mservice_log_path\u001b[0m\u001b[0;34m)\u001b[0m\u001b[0;34m\u001b[0m\u001b[0;34m\u001b[0m\u001b[0m\n\u001b[1;32m     79\u001b[0m \u001b[0;34m\u001b[0m\u001b[0m\n\u001b[0;32m---> 80\u001b[0;31m         super().__init__(\n\u001b[0m\u001b[1;32m     81\u001b[0m             \u001b[0mDesiredCapabilities\u001b[0m\u001b[0;34m.\u001b[0m\u001b[0mCHROME\u001b[0m\u001b[0;34m[\u001b[0m\u001b[0;34m\"browserName\"\u001b[0m\u001b[0;34m]\u001b[0m\u001b[0;34m,\u001b[0m\u001b[0;34m\u001b[0m\u001b[0;34m\u001b[0m\u001b[0m\n\u001b[1;32m     82\u001b[0m             \u001b[0;34m\"goog\"\u001b[0m\u001b[0;34m,\u001b[0m\u001b[0;34m\u001b[0m\u001b[0;34m\u001b[0m\u001b[0m\n",
            "\u001b[0;32m/usr/local/lib/python3.8/dist-packages/selenium/webdriver/chromium/webdriver.py\u001b[0m in \u001b[0;36m__init__\u001b[0;34m(self, browser_name, vendor_prefix, port, options, service_args, desired_capabilities, service_log_path, service, keep_alive)\u001b[0m\n\u001b[1;32m     99\u001b[0m \u001b[0;34m\u001b[0m\u001b[0m\n\u001b[1;32m    100\u001b[0m         \u001b[0mself\u001b[0m\u001b[0;34m.\u001b[0m\u001b[0mservice\u001b[0m \u001b[0;34m=\u001b[0m \u001b[0mservice\u001b[0m\u001b[0;34m\u001b[0m\u001b[0;34m\u001b[0m\u001b[0m\n\u001b[0;32m--> 101\u001b[0;31m         \u001b[0mself\u001b[0m\u001b[0;34m.\u001b[0m\u001b[0mservice\u001b[0m\u001b[0;34m.\u001b[0m\u001b[0mstart\u001b[0m\u001b[0;34m(\u001b[0m\u001b[0;34m)\u001b[0m\u001b[0;34m\u001b[0m\u001b[0;34m\u001b[0m\u001b[0m\n\u001b[0m\u001b[1;32m    102\u001b[0m \u001b[0;34m\u001b[0m\u001b[0m\n\u001b[1;32m    103\u001b[0m         \u001b[0;32mtry\u001b[0m\u001b[0;34m:\u001b[0m\u001b[0;34m\u001b[0m\u001b[0;34m\u001b[0m\u001b[0m\n",
            "\u001b[0;32m/usr/local/lib/python3.8/dist-packages/selenium/webdriver/common/service.py\u001b[0m in \u001b[0;36mstart\u001b[0;34m(self)\u001b[0m\n\u001b[1;32m    102\u001b[0m         \u001b[0mcount\u001b[0m \u001b[0;34m=\u001b[0m \u001b[0;36m0\u001b[0m\u001b[0;34m\u001b[0m\u001b[0;34m\u001b[0m\u001b[0m\n\u001b[1;32m    103\u001b[0m         \u001b[0;32mwhile\u001b[0m \u001b[0;32mTrue\u001b[0m\u001b[0;34m:\u001b[0m\u001b[0;34m\u001b[0m\u001b[0;34m\u001b[0m\u001b[0m\n\u001b[0;32m--> 104\u001b[0;31m             \u001b[0mself\u001b[0m\u001b[0;34m.\u001b[0m\u001b[0massert_process_still_running\u001b[0m\u001b[0;34m(\u001b[0m\u001b[0;34m)\u001b[0m\u001b[0;34m\u001b[0m\u001b[0;34m\u001b[0m\u001b[0m\n\u001b[0m\u001b[1;32m    105\u001b[0m             \u001b[0;32mif\u001b[0m \u001b[0mself\u001b[0m\u001b[0;34m.\u001b[0m\u001b[0mis_connectable\u001b[0m\u001b[0;34m(\u001b[0m\u001b[0;34m)\u001b[0m\u001b[0;34m:\u001b[0m\u001b[0;34m\u001b[0m\u001b[0;34m\u001b[0m\u001b[0m\n\u001b[1;32m    106\u001b[0m                 \u001b[0;32mbreak\u001b[0m\u001b[0;34m\u001b[0m\u001b[0;34m\u001b[0m\u001b[0m\n",
            "\u001b[0;32m/usr/local/lib/python3.8/dist-packages/selenium/webdriver/common/service.py\u001b[0m in \u001b[0;36massert_process_still_running\u001b[0;34m(self)\u001b[0m\n\u001b[1;32m    115\u001b[0m         \u001b[0mreturn_code\u001b[0m \u001b[0;34m=\u001b[0m \u001b[0mself\u001b[0m\u001b[0;34m.\u001b[0m\u001b[0mprocess\u001b[0m\u001b[0;34m.\u001b[0m\u001b[0mpoll\u001b[0m\u001b[0;34m(\u001b[0m\u001b[0;34m)\u001b[0m\u001b[0;34m\u001b[0m\u001b[0;34m\u001b[0m\u001b[0m\n\u001b[1;32m    116\u001b[0m         \u001b[0;32mif\u001b[0m \u001b[0mreturn_code\u001b[0m\u001b[0;34m:\u001b[0m\u001b[0;34m\u001b[0m\u001b[0;34m\u001b[0m\u001b[0m\n\u001b[0;32m--> 117\u001b[0;31m             \u001b[0;32mraise\u001b[0m \u001b[0mWebDriverException\u001b[0m\u001b[0;34m(\u001b[0m\u001b[0;34mf\"Service {self.path} unexpectedly exited. Status code was: {return_code}\"\u001b[0m\u001b[0;34m)\u001b[0m\u001b[0;34m\u001b[0m\u001b[0;34m\u001b[0m\u001b[0m\n\u001b[0m\u001b[1;32m    118\u001b[0m \u001b[0;34m\u001b[0m\u001b[0m\n\u001b[1;32m    119\u001b[0m     \u001b[0;32mdef\u001b[0m \u001b[0mis_connectable\u001b[0m\u001b[0;34m(\u001b[0m\u001b[0mself\u001b[0m\u001b[0;34m)\u001b[0m \u001b[0;34m->\u001b[0m \u001b[0mbool\u001b[0m\u001b[0;34m:\u001b[0m\u001b[0;34m\u001b[0m\u001b[0;34m\u001b[0m\u001b[0m\n",
            "\u001b[0;31mWebDriverException\u001b[0m: Message: Service chromedriver unexpectedly exited. Status code was: 1\n"
          ]
        }
      ]
    },
    {
      "cell_type": "markdown",
      "source": [
        "#for PROTHOM ALOE!!\n",
        "<!-- api collected ;))) -->\n",
        "<!--https://www.prothomalo.com/api/v1/collections/lifestyle?limit=4&fields=headline,url -->"
      ],
      "metadata": {
        "id": "Uo0KXhzk7Dpx"
      }
    },
    {
      "cell_type": "code",
      "source": [
        "import requests\n",
        "import json\n",
        "from selenium.webdriver.common.by import By\n",
        "driver2=driversetup()\n",
        "\n",
        "def parsebybs(url):  \n",
        "  x = requests.get(url)\n",
        "  soup = bs( x.text  , 'html.parser')\n",
        "  \n",
        "  res = soup.select('script[type=\"application/ld+json\"]')\n",
        "  jsonOb=res[1].text\n",
        "  # print(xx)\n",
        "  jsono = json.loads(jsonOb)\n",
        "  print(jsono['articleBody'])\n",
        "\n",
        "\n",
        "\n",
        "def proalospecial(url,clss,choice=None):\n",
        "  driver2.get(url)\n",
        "  # fOg1k\n",
        "  #  \"stories-set\"\n",
        "  ls=driver2.find_element(By.CLASS_NAME,clss)\n",
        "  if choice:\n",
        "    l=driver2.find_element(By.CLASS_NAME,choice)\n",
        "    return [ls,l]\n",
        "\n",
        "\n",
        "  return ls\n",
        "# /////////////  ############################################\n",
        "# ave : 7 sec\n",
        "    \n",
        "url='https://www.prothomalo.com/bangladesh'\n",
        "ls=proalospecial(url,'stories-set')\n",
        "# # print(ls)\n",
        "# # print(ls.text)\n",
        "# # driver2.close()\n",
        "\n",
        "lss=ls.find_elements(By.CLASS_NAME,\"wMFhj\")"
      ],
      "metadata": {
        "id": "BwMkRdskngAy"
      },
      "execution_count": null,
      "outputs": []
    },
    {
      "cell_type": "code",
      "source": [
        "\n",
        "# print(list(lss))\n",
        "# from collections import defaultdict\n",
        "# pnewsdict= defaultdict(list)\n",
        "\n",
        "\n",
        "# for x in lss:\n",
        "#   title=x.find_element(By.TAG_NAME,'a').get_attribute('aria-label')\n",
        "#   time=x.find_element(By.CLASS_NAME,'published-time')\n",
        "#   url=x.find_element(By.TAG_NAME,'a').get_attribute('href')\n",
        "#   print(title,'?////',time.text, '>>>>>',url)\n",
        "#   pnewsdict[title].append(url)\n",
        "\n",
        "# #   # print(\n",
        "\n",
        "# print(pnewsdict)\n",
        "\n",
        "for nw in pnewsdict:\n",
        "  url=pnewsdict[nw][0]\n",
        "  print(nw,url)\n",
        "  parsebybs(url)\n",
        "\n",
        "  \n",
        "  # print(news[0].text,news[1].text)\n",
        "# driver2.quit()\n"
      ],
      "metadata": {
        "id": "rE-758h18jPb"
      },
      "execution_count": null,
      "outputs": []
    },
    {
      "cell_type": "code",
      "source": [
        "url='https://bangla.bdnews24.com/samagrabangladesh'\n",
        "\n",
        "xx=pagesource(url)\n",
        "\n",
        "\n",
        "xx"
      ],
      "metadata": {
        "id": "6bHOhQlP11lh"
      },
      "execution_count": null,
      "outputs": []
    },
    {
      "cell_type": "code",
      "source": [
        "xx\n",
        "ar=[1,2,3,4,5,6,7,8,9,10]\n",
        "\n",
        "for x in range(0,len(ar),2):\n",
        "  print(ar[x],ar[x+1])\n",
        "\n",
        "\n"
      ],
      "metadata": {
        "id": "8opUZHS0BJJ3"
      },
      "execution_count": null,
      "outputs": []
    },
    {
      "cell_type": "code",
      "source": [
        "# NFUuA\n",
        "# hOSPD a\n",
        "from collections import defaultdict\n",
        "\n",
        "lists=xx.select('.arr--story-card a')\n",
        "# print(lists)\n",
        "print(len(lists))\n",
        "for ls in lists[:4]:\n",
        "  print(ls)\n",
        "  # print( ls.select('img')[0]['data-src'])\n",
        "# lists\n",
        "\n",
        "newsdict=defaultdict(list)\n",
        "\n",
        "print('>>>>>>>>>>>>>>>>>>>>>>>>>>>>>>>>>>>>>>>')\n",
        "for l in range(0,len(lists),2):\n",
        "  l1=lists[l]\n",
        "  l2=lists[l+1]\n",
        "  link=l1['href']\n",
        "  # print(l)\n",
        "  try:\n",
        "    imaglink=l1.select('img')[0]['data-src']\n",
        "  except:\n",
        "    imaglink='null'\n",
        "  # print(imaglink,'\\n',l2.text)\n",
        "  newsdict[l2.text].append(link)\n",
        "  newsdict[l2.text].append(imaglink)\n",
        "  \n",
        "\n",
        "\n",
        "\n",
        "print(len(newsdict))\n",
        "newsdict\n",
        "\n",
        "\n"
      ],
      "metadata": {
        "id": "tbxItFrQ46cA"
      },
      "execution_count": null,
      "outputs": []
    },
    {
      "cell_type": "code",
      "source": [
        "print(len(lists))\n",
        "newsls=[]\n",
        "for ls in lists[:2]:\n",
        "  print(ls['aria-label'],'>>>',ls['href'])\n",
        "  news=gettextnews(ls['href'])\n",
        "  newsls.append(news)\n",
        "\n",
        "newsls\n",
        "driver.close()"
      ],
      "metadata": {
        "id": "huGQeOPY5Y5j"
      },
      "execution_count": null,
      "outputs": []
    },
    {
      "cell_type": "code",
      "source": [
        "# story-grid\n",
        "url1='https://www.prothomalo.com/world/pakistan/mdmgit24p2'\n",
        "# driver2=driversetup()\n",
        "\n",
        "xx=pagesource(url1)\n",
        "\n",
        "\n"
      ],
      "metadata": {
        "id": "a006Aotx8HD9"
      },
      "execution_count": null,
      "outputs": []
    },
    {
      "cell_type": "code",
      "source": [
        "xy=xx.select('.story-element-text')\n",
        "news=''\n",
        "for x in xy:\n",
        "  news+=x.text\n",
        "news\n"
      ],
      "metadata": {
        "id": "V9ACbggi_UqD"
      },
      "execution_count": null,
      "outputs": []
    },
    {
      "cell_type": "code",
      "source": [
        "!pip install pipreqs"
      ],
      "metadata": {
        "id": "o0Iislx11oP_"
      },
      "execution_count": null,
      "outputs": []
    },
    {
      "cell_type": "code",
      "source": [
        "!pipreqs '/content/'"
      ],
      "metadata": {
        "id": "vyuLCWjO15E5"
      },
      "execution_count": null,
      "outputs": []
    }
  ],
  "metadata": {
    "colab": {
      "provenance": [],
      "collapsed_sections": [
        "D6heQpQrAhU4"
      ],
      "include_colab_link": true
    },
    "kernelspec": {
      "display_name": "Python 3",
      "name": "python3"
    },
    "language_info": {
      "name": "python"
    }
  },
  "nbformat": 4,
  "nbformat_minor": 0
}