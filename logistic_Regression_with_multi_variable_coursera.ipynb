{
  "nbformat": 4,
  "nbformat_minor": 0,
  "metadata": {
    "colab": {
      "provenance": [],
      "authorship_tag": "ABX9TyMk56IMoV64NbIHu0S2HUER",
      "include_colab_link": true
    },
    "kernelspec": {
      "name": "python3",
      "display_name": "Python 3"
    },
    "language_info": {
      "name": "python"
    }
  },
  "cells": [
    {
      "cell_type": "markdown",
      "metadata": {
        "id": "view-in-github",
        "colab_type": "text"
      },
      "source": [
        "<a href=\"https://colab.research.google.com/github/khatamirock/colabs_AI_LAB/blob/main/logistic_Regression_with_multi_variable_coursera.ipynb\" target=\"_parent\"><img src=\"https://colab.research.google.com/assets/colab-badge.svg\" alt=\"Open In Colab\"/></a>"
      ]
    },
    {
      "cell_type": "code",
      "execution_count": 1,
      "metadata": {
        "id": "xX7Hs5wPP_Uy",
        "colab": {
          "base_uri": "https://localhost:8080/"
        },
        "outputId": "01811150-6db4-4ade-c72c-a52637f5b0f7"
      },
      "outputs": [
        {
          "output_type": "stream",
          "name": "stdout",
          "text": [
            "Cloning into 'Machine-Learning-Specialization-Coursera'...\n",
            "remote: Enumerating objects: 1052, done.\u001b[K\n",
            "remote: Counting objects: 100% (292/292), done.\u001b[K\n",
            "remote: Compressing objects: 100% (114/114), done.\u001b[K\n",
            "remote: Total 1052 (delta 217), reused 189 (delta 178), pack-reused 760\u001b[K\n",
            "Receiving objects: 100% (1052/1052), 41.05 MiB | 24.55 MiB/s, done.\n",
            "Resolving deltas: 100% (384/384), done.\n"
          ]
        }
      ],
      "source": [
        "!git clone 'https://github.com/greyhatguy007/Machine-Learning-Specialization-Coursera'\n",
        "import numpy as np\n",
        "import matplotlib.pyplot as plt\n",
        "import pandas as pd\n",
        "import copy\n",
        "import math\n",
        "\n",
        "%matplotlib inline"
      ]
    },
    {
      "cell_type": "code",
      "source": [
        "data='/content/Machine-Learning-Specialization-Coursera/C1 - Supervised Machine Learning - Regression and Classification/week2/Optional Labs/data/houses.txt'\n",
        "df=pd.read_csv(data, sep=',',header =None)\n",
        "df.head()"
      ],
      "metadata": {
        "colab": {
          "base_uri": "https://localhost:8080/",
          "height": 206
        },
        "id": "AFVxL_chQDn9",
        "outputId": "9e248237-ae66-4c8c-e1c3-4eb440c2f526"
      },
      "execution_count": 32,
      "outputs": [
        {
          "output_type": "execute_result",
          "data": {
            "text/plain": [
              "        0    1    2     3      4\n",
              "0   952.0  2.0  1.0  65.0  271.5\n",
              "1  1244.0  3.0  1.0  64.0  300.0\n",
              "2  1947.0  3.0  2.0  17.0  509.8\n",
              "3  1725.0  3.0  2.0  42.0  394.0\n",
              "4  1959.0  3.0  2.0  15.0  540.0"
            ],
            "text/html": [
              "\n",
              "  <div id=\"df-75677f77-9744-455c-9a27-94b7c3a93fcf\">\n",
              "    <div class=\"colab-df-container\">\n",
              "      <div>\n",
              "<style scoped>\n",
              "    .dataframe tbody tr th:only-of-type {\n",
              "        vertical-align: middle;\n",
              "    }\n",
              "\n",
              "    .dataframe tbody tr th {\n",
              "        vertical-align: top;\n",
              "    }\n",
              "\n",
              "    .dataframe thead th {\n",
              "        text-align: right;\n",
              "    }\n",
              "</style>\n",
              "<table border=\"1\" class=\"dataframe\">\n",
              "  <thead>\n",
              "    <tr style=\"text-align: right;\">\n",
              "      <th></th>\n",
              "      <th>0</th>\n",
              "      <th>1</th>\n",
              "      <th>2</th>\n",
              "      <th>3</th>\n",
              "      <th>4</th>\n",
              "    </tr>\n",
              "  </thead>\n",
              "  <tbody>\n",
              "    <tr>\n",
              "      <th>0</th>\n",
              "      <td>952.0</td>\n",
              "      <td>2.0</td>\n",
              "      <td>1.0</td>\n",
              "      <td>65.0</td>\n",
              "      <td>271.5</td>\n",
              "    </tr>\n",
              "    <tr>\n",
              "      <th>1</th>\n",
              "      <td>1244.0</td>\n",
              "      <td>3.0</td>\n",
              "      <td>1.0</td>\n",
              "      <td>64.0</td>\n",
              "      <td>300.0</td>\n",
              "    </tr>\n",
              "    <tr>\n",
              "      <th>2</th>\n",
              "      <td>1947.0</td>\n",
              "      <td>3.0</td>\n",
              "      <td>2.0</td>\n",
              "      <td>17.0</td>\n",
              "      <td>509.8</td>\n",
              "    </tr>\n",
              "    <tr>\n",
              "      <th>3</th>\n",
              "      <td>1725.0</td>\n",
              "      <td>3.0</td>\n",
              "      <td>2.0</td>\n",
              "      <td>42.0</td>\n",
              "      <td>394.0</td>\n",
              "    </tr>\n",
              "    <tr>\n",
              "      <th>4</th>\n",
              "      <td>1959.0</td>\n",
              "      <td>3.0</td>\n",
              "      <td>2.0</td>\n",
              "      <td>15.0</td>\n",
              "      <td>540.0</td>\n",
              "    </tr>\n",
              "  </tbody>\n",
              "</table>\n",
              "</div>\n",
              "      <button class=\"colab-df-convert\" onclick=\"convertToInteractive('df-75677f77-9744-455c-9a27-94b7c3a93fcf')\"\n",
              "              title=\"Convert this dataframe to an interactive table.\"\n",
              "              style=\"display:none;\">\n",
              "        \n",
              "  <svg xmlns=\"http://www.w3.org/2000/svg\" height=\"24px\"viewBox=\"0 0 24 24\"\n",
              "       width=\"24px\">\n",
              "    <path d=\"M0 0h24v24H0V0z\" fill=\"none\"/>\n",
              "    <path d=\"M18.56 5.44l.94 2.06.94-2.06 2.06-.94-2.06-.94-.94-2.06-.94 2.06-2.06.94zm-11 1L8.5 8.5l.94-2.06 2.06-.94-2.06-.94L8.5 2.5l-.94 2.06-2.06.94zm10 10l.94 2.06.94-2.06 2.06-.94-2.06-.94-.94-2.06-.94 2.06-2.06.94z\"/><path d=\"M17.41 7.96l-1.37-1.37c-.4-.4-.92-.59-1.43-.59-.52 0-1.04.2-1.43.59L10.3 9.45l-7.72 7.72c-.78.78-.78 2.05 0 2.83L4 21.41c.39.39.9.59 1.41.59.51 0 1.02-.2 1.41-.59l7.78-7.78 2.81-2.81c.8-.78.8-2.07 0-2.86zM5.41 20L4 18.59l7.72-7.72 1.47 1.35L5.41 20z\"/>\n",
              "  </svg>\n",
              "      </button>\n",
              "      \n",
              "  <style>\n",
              "    .colab-df-container {\n",
              "      display:flex;\n",
              "      flex-wrap:wrap;\n",
              "      gap: 12px;\n",
              "    }\n",
              "\n",
              "    .colab-df-convert {\n",
              "      background-color: #E8F0FE;\n",
              "      border: none;\n",
              "      border-radius: 50%;\n",
              "      cursor: pointer;\n",
              "      display: none;\n",
              "      fill: #1967D2;\n",
              "      height: 32px;\n",
              "      padding: 0 0 0 0;\n",
              "      width: 32px;\n",
              "    }\n",
              "\n",
              "    .colab-df-convert:hover {\n",
              "      background-color: #E2EBFA;\n",
              "      box-shadow: 0px 1px 2px rgba(60, 64, 67, 0.3), 0px 1px 3px 1px rgba(60, 64, 67, 0.15);\n",
              "      fill: #174EA6;\n",
              "    }\n",
              "\n",
              "    [theme=dark] .colab-df-convert {\n",
              "      background-color: #3B4455;\n",
              "      fill: #D2E3FC;\n",
              "    }\n",
              "\n",
              "    [theme=dark] .colab-df-convert:hover {\n",
              "      background-color: #434B5C;\n",
              "      box-shadow: 0px 1px 3px 1px rgba(0, 0, 0, 0.15);\n",
              "      filter: drop-shadow(0px 1px 2px rgba(0, 0, 0, 0.3));\n",
              "      fill: #FFFFFF;\n",
              "    }\n",
              "  </style>\n",
              "\n",
              "      <script>\n",
              "        const buttonEl =\n",
              "          document.querySelector('#df-75677f77-9744-455c-9a27-94b7c3a93fcf button.colab-df-convert');\n",
              "        buttonEl.style.display =\n",
              "          google.colab.kernel.accessAllowed ? 'block' : 'none';\n",
              "\n",
              "        async function convertToInteractive(key) {\n",
              "          const element = document.querySelector('#df-75677f77-9744-455c-9a27-94b7c3a93fcf');\n",
              "          const dataTable =\n",
              "            await google.colab.kernel.invokeFunction('convertToInteractive',\n",
              "                                                     [key], {});\n",
              "          if (!dataTable) return;\n",
              "\n",
              "          const docLinkHtml = 'Like what you see? Visit the ' +\n",
              "            '<a target=\"_blank\" href=https://colab.research.google.com/notebooks/data_table.ipynb>data table notebook</a>'\n",
              "            + ' to learn more about interactive tables.';\n",
              "          element.innerHTML = '';\n",
              "          dataTable['output_type'] = 'display_data';\n",
              "          await google.colab.output.renderOutput(dataTable, element);\n",
              "          const docLink = document.createElement('div');\n",
              "          docLink.innerHTML = docLinkHtml;\n",
              "          element.appendChild(docLink);\n",
              "        }\n",
              "      </script>\n",
              "    </div>\n",
              "  </div>\n",
              "  "
            ]
          },
          "metadata": {},
          "execution_count": 32
        }
      ]
    },
    {
      "cell_type": "code",
      "source": [
        "X_train,y_train=df.iloc[:, :4].values,df[4].values\n",
        "X_train"
      ],
      "metadata": {
        "id": "CHYq5PkFB_LV"
      },
      "execution_count": null,
      "outputs": []
    },
    {
      "cell_type": "code",
      "source": [
        "data = np.loadtxt(data, delimiter=',')\n",
        "X_train,y_train = data[:,:4],data[:,4]\n",
        "\n",
        "# [-459.44619033 -459.68696633 -459.68734133 -459.68149   ] 2104\n",
        "X_train[:20],y_train[:10]"
      ],
      "metadata": {
        "colab": {
          "base_uri": "https://localhost:8080/"
        },
        "id": "egKZm5U4RDTm",
        "outputId": "84f5d156-30c1-42bd-a4fe-658beccfddc8"
      },
      "execution_count": 24,
      "outputs": [
        {
          "output_type": "execute_result",
          "data": {
            "text/plain": [
              "(array([[9.520e+02, 2.000e+00, 1.000e+00, 6.500e+01],\n",
              "        [1.244e+03, 3.000e+00, 1.000e+00, 6.400e+01],\n",
              "        [1.947e+03, 3.000e+00, 2.000e+00, 1.700e+01],\n",
              "        [1.725e+03, 3.000e+00, 2.000e+00, 4.200e+01],\n",
              "        [1.959e+03, 3.000e+00, 2.000e+00, 1.500e+01],\n",
              "        [1.314e+03, 2.000e+00, 1.000e+00, 1.400e+01],\n",
              "        [8.640e+02, 2.000e+00, 1.000e+00, 6.600e+01],\n",
              "        [1.836e+03, 3.000e+00, 1.000e+00, 1.700e+01],\n",
              "        [1.026e+03, 3.000e+00, 1.000e+00, 4.300e+01],\n",
              "        [3.194e+03, 4.000e+00, 2.000e+00, 8.700e+01],\n",
              "        [7.880e+02, 2.000e+00, 1.000e+00, 8.000e+01],\n",
              "        [1.200e+03, 2.000e+00, 2.000e+00, 1.700e+01],\n",
              "        [1.557e+03, 2.000e+00, 1.000e+00, 1.800e+01],\n",
              "        [1.430e+03, 3.000e+00, 1.000e+00, 2.000e+01],\n",
              "        [1.220e+03, 2.000e+00, 1.000e+00, 1.500e+01],\n",
              "        [1.092e+03, 2.000e+00, 1.000e+00, 6.400e+01],\n",
              "        [8.480e+02, 1.000e+00, 1.000e+00, 1.700e+01],\n",
              "        [1.682e+03, 3.000e+00, 2.000e+00, 2.300e+01],\n",
              "        [1.768e+03, 3.000e+00, 2.000e+00, 1.800e+01],\n",
              "        [1.040e+03, 3.000e+00, 1.000e+00, 4.400e+01]]),\n",
              " array([271.5, 300. , 509.8, 394. , 540. , 415. , 230. , 560. , 294. ,\n",
              "        718.2]))"
            ]
          },
          "metadata": {},
          "execution_count": 24
        }
      ]
    },
    {
      "cell_type": "code",
      "source": [
        "print ('The shape of x_train is:', X_train.shape)\n",
        "print ('The shape of y_train is: ', y_train.shape)\n",
        "print ('Number of training examples (m):', len(X_train))"
      ],
      "metadata": {
        "colab": {
          "base_uri": "https://localhost:8080/"
        },
        "id": "ZaMCEmvCRhfK",
        "outputId": "2eee0910-7296-4335-83e4-3363fbf2109a"
      },
      "execution_count": 9,
      "outputs": [
        {
          "output_type": "stream",
          "name": "stdout",
          "text": [
            "The shape of x_train is: (100, 4)\n",
            "The shape of y_train is:  (100,)\n",
            "Number of training examples (m): 100\n"
          ]
        }
      ]
    },
    {
      "cell_type": "code",
      "source": [
        "def calc_pred(w,x,b,p):\n",
        "\n",
        "  cos=np.dot(w,x)+b\n",
        "  # if p==1:print('cal+pred', w,x,b,cos)\n",
        "  return cos\n",
        "\n",
        "def compute_cost(w,x,y,b):\n",
        "\n",
        "  m=len(y)\n",
        "  cost=0\n",
        "  for i in range(m):\n",
        "    cos=calc_pred(w,x[i],b,0)\n",
        "    # print(w)\n",
        "    # print(x[i])\n",
        "    # print(b)\n",
        "    cost+=(cos-y[i])**2\n",
        "  return cost/(2*m)\n",
        "\n",
        "\n"
      ],
      "metadata": {
        "id": "4mTFTO6PShpS"
      },
      "execution_count": 79,
      "outputs": []
    },
    {
      "cell_type": "code",
      "source": [
        "\n",
        "b_init = 785.1811367994083\n",
        "w_init = np.array([ 0.39133535, 18.75376741, -53.36032453, -26.42131618])\n",
        "\n",
        "X_train = np.array([[2104, 5, 1, 45], [1416, 3, 2, 40], [852, 2, 1, 35]])\n",
        "y_train = np.array([460, 232, 178])\n",
        "\n",
        "cost = compute_cost(w_init,X_train, y_train, b_init)\n",
        "print(f'Cost at optimal w : {cost}')"
      ],
      "metadata": {
        "colab": {
          "base_uri": "https://localhost:8080/"
        },
        "id": "yxRCEIwmTOgT",
        "outputId": "c9883931-971d-41f8-d229-90d4c5d27349"
      },
      "execution_count": 90,
      "outputs": [
        {
          "output_type": "stream",
          "name": "stdout",
          "text": [
            "Cost at optimal w : 1.5578904428966628e-12\n"
          ]
        }
      ]
    },
    {
      "cell_type": "markdown",
      "source": [
        "**Expected Result: Cost at optimal w : 1 5578904045996674e-12**"
      ],
      "metadata": {
        "id": "vp-XwVXwUCvS"
      }
    },
    {
      "cell_type": "code",
      "source": [
        "X_train.mean(axis=0)\n",
        "X_train.std(axis=0)"
      ],
      "metadata": {
        "colab": {
          "base_uri": "https://localhost:8080/"
        },
        "id": "4RYPzUqzuTL9",
        "outputId": "036c2f44-3627-4ec9-c21a-6823a4edc8d5"
      },
      "execution_count": 41,
      "outputs": [
        {
          "output_type": "execute_result",
          "data": {
            "text/plain": [
              "array([412.17283499,   0.65261014,   0.48538644,  25.78502472])"
            ]
          },
          "metadata": {},
          "execution_count": 41
        }
      ]
    },
    {
      "cell_type": "code",
      "source": [
        "def compute_gradient(X,y,w,b):\n",
        "  n=X_train.shape[1]\n",
        "  m=len(X_train)\n",
        "  # print(n,m,b)\n",
        "\n",
        "  m,n = X.shape           #(number of examples, number of features)\n",
        "  dj_dw = np.zeros((n,))\n",
        "  dj_db = 0.\n",
        "\n",
        "  for i in range(m):\n",
        "    err = (np.dot(X[i], w) + b) - y[i]\n",
        "    for j in range(n):\n",
        "        dj_dw[j] = dj_dw[j] + err * X[i, j]\n",
        "    dj_db = dj_db + err\n",
        "  dj_dw = dj_dw / m\n",
        "  dj_db = dj_db / m\n",
        "\n",
        "  return dj_dw, dj_db\n",
        "\n",
        "\n",
        "\n",
        "\n",
        "\n"
      ],
      "metadata": {
        "id": "vanTceGHgfOU"
      },
      "execution_count": 97,
      "outputs": []
    },
    {
      "cell_type": "code",
      "source": [
        "#Compute and display gradient\n",
        "dw,db=compute_gradient(X_train, y_train, w_init, b_init)\n",
        "\n",
        "print(f'dj_db at initial w,b: {dw}')\n",
        "print(f'dj_dw at initial w,b: \\n {db}')"
      ],
      "metadata": {
        "colab": {
          "base_uri": "https://localhost:8080/"
        },
        "id": "CcW9sKXbhfCG",
        "outputId": "60a5436a-4b5a-4789-f40d-af7791dd27f2"
      },
      "execution_count": 98,
      "outputs": [
        {
          "output_type": "stream",
          "name": "stdout",
          "text": [
            "dj_db at initial w,b: [-2.72623577e-03 -6.27197263e-06 -2.21745578e-06 -6.92403391e-05]\n",
            "dj_dw at initial w,b: \n",
            " -1.6739251501955248e-06\n"
          ]
        }
      ]
    },
    {
      "cell_type": "markdown",
      "source": [
        "**Expected Result:\n",
        "dj_db at initial w,b: -1.6739251122999121e-06\n",
        "dj_dw at initial w,b:\n",
        "[-2.73e-03 -6.27e-06 -2.22e-06 -6.92e-05]**"
      ],
      "metadata": {
        "id": "mWWrvQhMkVxn"
      }
    },
    {
      "cell_type": "code",
      "source": [
        "def gradient_descent(X, y, w_in, b_in, cost_function, gradient_function, alpha, num_iters):\n",
        "\n",
        "\n",
        "    # An array to store cost J and w's at each iteration primarily for graphing later\n",
        "    J_history = []\n",
        "    w_history = []\n",
        "    w = copy.deepcopy(w_in)  #avoid modifying global w within function\n",
        "    b = b_in\n",
        "\n",
        "    for i in range(num_iters):\n",
        "\n",
        "        # Calculate the gradient and update the parameters\n",
        "        dj_dw,dj_db = gradient_function(X, y, w, b)   ##None\n",
        "\n",
        "        # Update Parameters using w, b, alpha and gradient\n",
        "        w = w - alpha * dj_dw               ##None\n",
        "        b = b - alpha * dj_db               ##None\n",
        "\n",
        "        # Save cost J at each iteration\n",
        "        if i<100000:      # prevent resource exhaustion\n",
        "            J_history.append( cost_function(w,X, y, b))\n",
        "            # print( compute_cost(X, y, w, b))\n",
        "\n",
        "        # Print cost every at intervals 10 times or as many iterations if < 10\n",
        "        if i% math.ceil(num_iters/10) == 0 or i == (num_iters-1):\n",
        "            w_history.append(w_in)\n",
        "            print(f\"Iteration {i:4}: Cost {float(J_history[-1]):8.2f}   \")\n",
        "\n",
        "    return w, b, J_history #return final w,b and J history for graphing"
      ],
      "metadata": {
        "id": "TdGUFDL8nOws"
      },
      "execution_count": 99,
      "outputs": []
    },
    {
      "cell_type": "code",
      "source": [
        "# initialize parameters\n",
        "initial_w = [1,0,0,0]\n",
        "initial_b = 0\n",
        "# some gradient descent settings\n",
        "iterations = 1000\n",
        "alpha = 5.0e-7\n",
        "# run gradient descent\n",
        "w_final, b_final, J_hist = gradient_descent(X_train, y_train, initial_w, initial_b,\n",
        "                                                    compute_cost, compute_gradient,\n",
        "                                                    alpha, iterations)\n",
        "print(f\"b,w found by gradient descent: {b_final:0.2f},{w_final} \")\n",
        "m,_ = X_train.shape\n",
        "for i in range(m):\n",
        "    print(f\"prediction: {np.dot(X_train[i], w_final) + b_final:0.2f}, target value: {y_train[i]}\")"
      ],
      "metadata": {
        "colab": {
          "base_uri": "https://localhost:8080/"
        },
        "id": "ltQWZsNEnTNo",
        "outputId": "89beb5d6-25d9-40c6-e45d-b3b2d30af5ec"
      },
      "execution_count": 100,
      "outputs": [
        {
          "output_type": "stream",
          "name": "stdout",
          "text": [
            "Iteration    0: Cost 29185.36   \n",
            "Iteration  100: Cost   692.37   \n",
            "Iteration  200: Cost   691.33   \n",
            "Iteration  300: Cost   690.31   \n",
            "Iteration  400: Cost   689.29   \n",
            "Iteration  500: Cost   688.28   \n",
            "Iteration  600: Cost   687.27   \n",
            "Iteration  700: Cost   686.28   \n",
            "Iteration  800: Cost   685.30   \n",
            "Iteration  900: Cost   684.32   \n",
            "Iteration  999: Cost   683.36   \n",
            "b,w found by gradient descent: -0.00,[ 0.20458424  0.0014417  -0.01200102 -0.09005496] \n",
            "prediction: 426.39, target value: 460\n",
            "prediction: 286.07, target value: 232\n",
            "prediction: 171.14, target value: 178\n"
          ]
        }
      ]
    },
    {
      "cell_type": "code",
      "source": [
        "plt.plot(range(1000),J_hist)\n",
        "\n",
        "plt.xlabel('range')\n",
        "plt.ylabel('cost')\n",
        "\n",
        "\n",
        "plt.show()"
      ],
      "metadata": {
        "colab": {
          "base_uri": "https://localhost:8080/",
          "height": 449
        },
        "id": "lguQrhjpPLYo",
        "outputId": "b41e4b18-9f64-4c61-805c-712ced3521e6"
      },
      "execution_count": 109,
      "outputs": [
        {
          "output_type": "display_data",
          "data": {
            "text/plain": [
              "<Figure size 640x480 with 1 Axes>"
            ],
            "image/png": "[encoded data removed]"
          },
          "metadata": {}
        }
      ]
    }
  ]
}